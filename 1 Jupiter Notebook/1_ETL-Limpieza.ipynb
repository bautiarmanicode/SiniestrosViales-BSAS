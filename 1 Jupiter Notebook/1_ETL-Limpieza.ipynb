{
 "cells": [
  {
   "cell_type": "markdown",
   "metadata": {},
   "source": [
    "# 🛠️ ETL (Extract, Transform, Load)\n",
    "- **Extraccion de datos**:  Leer y cargar los datos desde las fuentes de datos (archivos, bases de datos, etc.).\n",
    "\n",
    "- **Transformacion de datos**: Realizar las transformaciones necesarias en los datos, como: \n",
    "  - Renombrar columnas para mantener consistencia.\n",
    "  - Convertir tipos de datos.\n",
    "  - Eliminar columnas no relevantes o con demasiados valores faltantes.\n",
    "  - Aplicar cualquier otra transformación requerida (cálculos, operaciones, etc.).\n",
    "- **Carga de datos**: Combinar los conjuntos de datos transformados (si es necesario) y cargarlos en una estructura de datos adecuada (DataFrame, base de datos, etc.) para su posterior análisis."
   ]
  },
  {
   "cell_type": "markdown",
   "metadata": {},
   "source": [
    "Importamos los modulos que vamos a usar"
   ]
  },
  {
   "cell_type": "code",
   "execution_count": 1,
   "metadata": {},
   "outputs": [],
   "source": [
    "from data_utils import data_type_check,data_type_check_EDA\n",
    "import re\n",
    "import numpy as np \n",
    "import pandas as pd \n",
    "import numpy as np\n",
    "from sklearn.impute import SimpleImputer"
   ]
  },
  {
   "cell_type": "markdown",
   "metadata": {},
   "source": [
    "### 📦 Extraccion de los datos y primera exploración\n"
   ]
  },
  {
   "cell_type": "code",
   "execution_count": 2,
   "metadata": {},
   "outputs": [],
   "source": [
    "homicidios_hechos = pd.read_excel(\"../0 Dataset/homicidios.xlsx\", sheet_name=\"HECHOS\")\n",
    "homicidios_victimas = pd.read_excel(\"../0 Dataset/homicidios.xlsx\", sheet_name=\"VICTIMAS\")\n",
    "comunas = pd.read_excel(\"../0 Dataset/comunas.xlsx\")"
   ]
  },
  {
   "cell_type": "markdown",
   "metadata": {},
   "source": [
    "___"
   ]
  },
  {
   "cell_type": "markdown",
   "metadata": {},
   "source": [
    "# 🔁 TRANSFORM Dataset homicidios_hechos"
   ]
  },
  {
   "cell_type": "code",
   "execution_count": 3,
   "metadata": {},
   "outputs": [
    {
     "name": "stdout",
     "output_type": "stream",
     "text": [
      "Veamos 3 muestras del Dataset: \n"
     ]
    },
    {
     "data": {
      "text/html": [
       "<div>\n",
       "<style scoped>\n",
       "    .dataframe tbody tr th:only-of-type {\n",
       "        vertical-align: middle;\n",
       "    }\n",
       "\n",
       "    .dataframe tbody tr th {\n",
       "        vertical-align: top;\n",
       "    }\n",
       "\n",
       "    .dataframe thead th {\n",
       "        text-align: right;\n",
       "    }\n",
       "</style>\n",
       "<table border=\"1\" class=\"dataframe\">\n",
       "  <thead>\n",
       "    <tr style=\"text-align: right;\">\n",
       "      <th></th>\n",
       "      <th>ID</th>\n",
       "      <th>N_VICTIMAS</th>\n",
       "      <th>FECHA</th>\n",
       "      <th>AAAA</th>\n",
       "      <th>MM</th>\n",
       "      <th>DD</th>\n",
       "      <th>HORA</th>\n",
       "      <th>HH</th>\n",
       "      <th>LUGAR_DEL_HECHO</th>\n",
       "      <th>TIPO_DE_CALLE</th>\n",
       "      <th>...</th>\n",
       "      <th>Altura</th>\n",
       "      <th>Cruce</th>\n",
       "      <th>Dirección Normalizada</th>\n",
       "      <th>COMUNA</th>\n",
       "      <th>XY (CABA)</th>\n",
       "      <th>pos x</th>\n",
       "      <th>pos y</th>\n",
       "      <th>PARTICIPANTES</th>\n",
       "      <th>VICTIMA</th>\n",
       "      <th>ACUSADO</th>\n",
       "    </tr>\n",
       "  </thead>\n",
       "  <tbody>\n",
       "    <tr>\n",
       "      <th>270</th>\n",
       "      <td>2017-0157</td>\n",
       "      <td>1</td>\n",
       "      <td>2017-12-17</td>\n",
       "      <td>2017</td>\n",
       "      <td>12</td>\n",
       "      <td>17</td>\n",
       "      <td>09:02:00</td>\n",
       "      <td>9</td>\n",
       "      <td>AV. GRAL. PAZ Y HUMAITA</td>\n",
       "      <td>GRAL PAZ</td>\n",
       "      <td>...</td>\n",
       "      <td>NaN</td>\n",
       "      <td>HUMAITA</td>\n",
       "      <td>PAZ, GRAL. AV. y HUMAITA</td>\n",
       "      <td>9</td>\n",
       "      <td>Point (94007.62506099 98145.35456663)</td>\n",
       "      <td>-58.52866211</td>\n",
       "      <td>-34.64597065</td>\n",
       "      <td>AUTO-PASAJEROS</td>\n",
       "      <td>AUTO</td>\n",
       "      <td>PASAJEROS</td>\n",
       "    </tr>\n",
       "    <tr>\n",
       "      <th>659</th>\n",
       "      <td>2021-0061</td>\n",
       "      <td>1</td>\n",
       "      <td>2021-07-24</td>\n",
       "      <td>2021</td>\n",
       "      <td>7</td>\n",
       "      <td>24</td>\n",
       "      <td>09:15:00</td>\n",
       "      <td>9</td>\n",
       "      <td>MORENO, PERITO AV. Y ALCORTA, AMANCIO AV.</td>\n",
       "      <td>AVENIDA</td>\n",
       "      <td>...</td>\n",
       "      <td>NaN</td>\n",
       "      <td>ALCORTA, AMANCIO AV.</td>\n",
       "      <td>MORENO, PERITO AV. y ALCORTA, AMANCIO AV.</td>\n",
       "      <td>4</td>\n",
       "      <td>Point (105303.77662691 97684.64886839)</td>\n",
       "      <td>-58.40544588</td>\n",
       "      <td>-34.65012801</td>\n",
       "      <td>PEATON-CARGAS</td>\n",
       "      <td>PEATON</td>\n",
       "      <td>CARGAS</td>\n",
       "    </tr>\n",
       "    <tr>\n",
       "      <th>321</th>\n",
       "      <td>2018-0047</td>\n",
       "      <td>1</td>\n",
       "      <td>2018-05-08</td>\n",
       "      <td>2018</td>\n",
       "      <td>5</td>\n",
       "      <td>8</td>\n",
       "      <td>19:00:00</td>\n",
       "      <td>19</td>\n",
       "      <td>Av. Corrientes y Av. Dorrego</td>\n",
       "      <td>AVENIDA</td>\n",
       "      <td>...</td>\n",
       "      <td>NaN</td>\n",
       "      <td>DORREGO AV.</td>\n",
       "      <td>CORRIENTES AV. y DORREGO AV.</td>\n",
       "      <td>15</td>\n",
       "      <td>Point (101440.29935254 104167.40204334)</td>\n",
       "      <td>-58.44759966</td>\n",
       "      <td>-34.59170240</td>\n",
       "      <td>PEATON-PASAJEROS</td>\n",
       "      <td>PEATON</td>\n",
       "      <td>PASAJEROS</td>\n",
       "    </tr>\n",
       "  </tbody>\n",
       "</table>\n",
       "<p>3 rows × 21 columns</p>\n",
       "</div>"
      ],
      "text/plain": [
       "            ID  N_VICTIMAS      FECHA  AAAA  MM  DD      HORA  HH  \\\n",
       "270  2017-0157           1 2017-12-17  2017  12  17  09:02:00   9   \n",
       "659  2021-0061           1 2021-07-24  2021   7  24  09:15:00   9   \n",
       "321  2018-0047           1 2018-05-08  2018   5   8  19:00:00  19   \n",
       "\n",
       "                               LUGAR_DEL_HECHO TIPO_DE_CALLE  ... Altura  \\\n",
       "270                    AV. GRAL. PAZ Y HUMAITA      GRAL PAZ  ...    NaN   \n",
       "659  MORENO, PERITO AV. Y ALCORTA, AMANCIO AV.       AVENIDA  ...    NaN   \n",
       "321               Av. Corrientes y Av. Dorrego       AVENIDA  ...    NaN   \n",
       "\n",
       "                    Cruce                      Dirección Normalizada COMUNA  \\\n",
       "270               HUMAITA                   PAZ, GRAL. AV. y HUMAITA      9   \n",
       "659  ALCORTA, AMANCIO AV.  MORENO, PERITO AV. y ALCORTA, AMANCIO AV.      4   \n",
       "321           DORREGO AV.               CORRIENTES AV. y DORREGO AV.     15   \n",
       "\n",
       "                                   XY (CABA)         pos x         pos y  \\\n",
       "270    Point (94007.62506099 98145.35456663)  -58.52866211  -34.64597065   \n",
       "659   Point (105303.77662691 97684.64886839)  -58.40544588  -34.65012801   \n",
       "321  Point (101440.29935254 104167.40204334)  -58.44759966  -34.59170240   \n",
       "\n",
       "        PARTICIPANTES VICTIMA    ACUSADO  \n",
       "270    AUTO-PASAJEROS    AUTO  PASAJEROS  \n",
       "659     PEATON-CARGAS  PEATON     CARGAS  \n",
       "321  PEATON-PASAJEROS  PEATON  PASAJEROS  \n",
       "\n",
       "[3 rows x 21 columns]"
      ]
     },
     "execution_count": 3,
     "metadata": {},
     "output_type": "execute_result"
    }
   ],
   "source": [
    "print(\"Veamos 3 muestras del Dataset: \")\n",
    "homicidios_hechos.sample(3)"
   ]
  },
  {
   "cell_type": "code",
   "execution_count": 4,
   "metadata": {},
   "outputs": [
    {
     "name": "stdout",
     "output_type": "stream",
     "text": [
      "<class 'pandas.core.frame.DataFrame'>\n",
      "RangeIndex: 696 entries, 0 to 695\n",
      "Data columns (total 21 columns):\n",
      " #   Column                 Non-Null Count  Dtype         \n",
      "---  ------                 --------------  -----         \n",
      " 0   ID                     696 non-null    object        \n",
      " 1   N_VICTIMAS             696 non-null    int64         \n",
      " 2   FECHA                  696 non-null    datetime64[ns]\n",
      " 3   AAAA                   696 non-null    int64         \n",
      " 4   MM                     696 non-null    int64         \n",
      " 5   DD                     696 non-null    int64         \n",
      " 6   HORA                   696 non-null    object        \n",
      " 7   HH                     696 non-null    object        \n",
      " 8   LUGAR_DEL_HECHO        696 non-null    object        \n",
      " 9   TIPO_DE_CALLE          696 non-null    object        \n",
      " 10  Calle                  695 non-null    object        \n",
      " 11  Altura                 129 non-null    float64       \n",
      " 12  Cruce                  525 non-null    object        \n",
      " 13  Dirección Normalizada  688 non-null    object        \n",
      " 14  COMUNA                 696 non-null    int64         \n",
      " 15  XY (CABA)              696 non-null    object        \n",
      " 16  pos x                  696 non-null    object        \n",
      " 17  pos y                  696 non-null    object        \n",
      " 18  PARTICIPANTES          696 non-null    object        \n",
      " 19  VICTIMA                696 non-null    object        \n",
      " 20  ACUSADO                696 non-null    object        \n",
      "dtypes: datetime64[ns](1), float64(1), int64(5), object(14)\n",
      "memory usage: 114.3+ KB\n"
     ]
    }
   ],
   "source": [
    "homicidios_hechos.info()"
   ]
  },
  {
   "cell_type": "markdown",
   "metadata": {},
   "source": [
    "Veamos la descripcion estadistica con .describe()\n"
   ]
  },
  {
   "cell_type": "code",
   "execution_count": 5,
   "metadata": {},
   "outputs": [
    {
     "data": {
      "text/html": [
       "<div>\n",
       "<style scoped>\n",
       "    .dataframe tbody tr th:only-of-type {\n",
       "        vertical-align: middle;\n",
       "    }\n",
       "\n",
       "    .dataframe tbody tr th {\n",
       "        vertical-align: top;\n",
       "    }\n",
       "\n",
       "    .dataframe thead th {\n",
       "        text-align: right;\n",
       "    }\n",
       "</style>\n",
       "<table border=\"1\" class=\"dataframe\">\n",
       "  <thead>\n",
       "    <tr style=\"text-align: right;\">\n",
       "      <th></th>\n",
       "      <th>N_VICTIMAS</th>\n",
       "      <th>FECHA</th>\n",
       "      <th>AAAA</th>\n",
       "      <th>MM</th>\n",
       "      <th>DD</th>\n",
       "      <th>Altura</th>\n",
       "      <th>COMUNA</th>\n",
       "    </tr>\n",
       "  </thead>\n",
       "  <tbody>\n",
       "    <tr>\n",
       "      <th>count</th>\n",
       "      <td>696.000000</td>\n",
       "      <td>696</td>\n",
       "      <td>696.000000</td>\n",
       "      <td>696.000000</td>\n",
       "      <td>696.000000</td>\n",
       "      <td>129.000000</td>\n",
       "      <td>696.000000</td>\n",
       "    </tr>\n",
       "    <tr>\n",
       "      <th>mean</th>\n",
       "      <td>1.030172</td>\n",
       "      <td>2018-09-14 05:12:24.827586048</td>\n",
       "      <td>2018.188218</td>\n",
       "      <td>6.692529</td>\n",
       "      <td>15.936782</td>\n",
       "      <td>3336.635659</td>\n",
       "      <td>7.425287</td>\n",
       "    </tr>\n",
       "    <tr>\n",
       "      <th>min</th>\n",
       "      <td>1.000000</td>\n",
       "      <td>2016-01-01 00:00:00</td>\n",
       "      <td>2016.000000</td>\n",
       "      <td>1.000000</td>\n",
       "      <td>1.000000</td>\n",
       "      <td>30.000000</td>\n",
       "      <td>0.000000</td>\n",
       "    </tr>\n",
       "    <tr>\n",
       "      <th>25%</th>\n",
       "      <td>1.000000</td>\n",
       "      <td>2017-04-02 12:00:00</td>\n",
       "      <td>2017.000000</td>\n",
       "      <td>4.000000</td>\n",
       "      <td>9.000000</td>\n",
       "      <td>1359.000000</td>\n",
       "      <td>4.000000</td>\n",
       "    </tr>\n",
       "    <tr>\n",
       "      <th>50%</th>\n",
       "      <td>1.000000</td>\n",
       "      <td>2018-07-12 12:00:00</td>\n",
       "      <td>2018.000000</td>\n",
       "      <td>7.000000</td>\n",
       "      <td>16.000000</td>\n",
       "      <td>2551.000000</td>\n",
       "      <td>8.000000</td>\n",
       "    </tr>\n",
       "    <tr>\n",
       "      <th>75%</th>\n",
       "      <td>1.000000</td>\n",
       "      <td>2020-01-04 06:00:00</td>\n",
       "      <td>2020.000000</td>\n",
       "      <td>10.000000</td>\n",
       "      <td>23.000000</td>\n",
       "      <td>4500.000000</td>\n",
       "      <td>11.000000</td>\n",
       "    </tr>\n",
       "    <tr>\n",
       "      <th>max</th>\n",
       "      <td>3.000000</td>\n",
       "      <td>2021-12-30 00:00:00</td>\n",
       "      <td>2021.000000</td>\n",
       "      <td>12.000000</td>\n",
       "      <td>31.000000</td>\n",
       "      <td>16080.000000</td>\n",
       "      <td>15.000000</td>\n",
       "    </tr>\n",
       "    <tr>\n",
       "      <th>std</th>\n",
       "      <td>0.179393</td>\n",
       "      <td>NaN</td>\n",
       "      <td>1.683754</td>\n",
       "      <td>3.571309</td>\n",
       "      <td>8.639646</td>\n",
       "      <td>3060.641793</td>\n",
       "      <td>4.387050</td>\n",
       "    </tr>\n",
       "  </tbody>\n",
       "</table>\n",
       "</div>"
      ],
      "text/plain": [
       "       N_VICTIMAS                          FECHA         AAAA          MM  \\\n",
       "count  696.000000                            696   696.000000  696.000000   \n",
       "mean     1.030172  2018-09-14 05:12:24.827586048  2018.188218    6.692529   \n",
       "min      1.000000            2016-01-01 00:00:00  2016.000000    1.000000   \n",
       "25%      1.000000            2017-04-02 12:00:00  2017.000000    4.000000   \n",
       "50%      1.000000            2018-07-12 12:00:00  2018.000000    7.000000   \n",
       "75%      1.000000            2020-01-04 06:00:00  2020.000000   10.000000   \n",
       "max      3.000000            2021-12-30 00:00:00  2021.000000   12.000000   \n",
       "std      0.179393                            NaN     1.683754    3.571309   \n",
       "\n",
       "               DD        Altura      COMUNA  \n",
       "count  696.000000    129.000000  696.000000  \n",
       "mean    15.936782   3336.635659    7.425287  \n",
       "min      1.000000     30.000000    0.000000  \n",
       "25%      9.000000   1359.000000    4.000000  \n",
       "50%     16.000000   2551.000000    8.000000  \n",
       "75%     23.000000   4500.000000   11.000000  \n",
       "max     31.000000  16080.000000   15.000000  \n",
       "std      8.639646   3060.641793    4.387050  "
      ]
     },
     "execution_count": 5,
     "metadata": {},
     "output_type": "execute_result"
    }
   ],
   "source": [
    "homicidios_hechos.describe()"
   ]
  },
  {
   "cell_type": "markdown",
   "metadata": {},
   "source": [
    "### Nulos y duplicados\n",
    "Usando una funcion personalizada data_type_check importada desde data_utils.py: \n",
    "- mostramos total de nulos, tipo de datos, dimensiones."
   ]
  },
  {
   "cell_type": "code",
   "execution_count": 6,
   "metadata": {},
   "outputs": [
    {
     "name": "stdout",
     "output_type": "stream",
     "text": [
      "\n",
      "========================================\n",
      " Resumen del dataframe:\n",
      "\n",
      "========================================\n",
      "Dimensiones:  (696, 21)\n",
      "                  columna  %_no_nulos  %_nulos  total_nulos       tipo_dato\n",
      "0                      ID      100.00     0.00            0          object\n",
      "1              N_VICTIMAS      100.00     0.00            0           int64\n",
      "2                   FECHA      100.00     0.00            0  datetime64[ns]\n",
      "3                    AAAA      100.00     0.00            0           int64\n",
      "4                      MM      100.00     0.00            0           int64\n",
      "5                      DD      100.00     0.00            0           int64\n",
      "6                    HORA      100.00     0.00            0          object\n",
      "7                      HH      100.00     0.00            0          object\n",
      "8         LUGAR_DEL_HECHO      100.00     0.00            0          object\n",
      "9           TIPO_DE_CALLE      100.00     0.00            0          object\n",
      "10                  Calle       99.86     0.14            1          object\n",
      "11                 Altura       18.53    81.47          567         float64\n",
      "12                  Cruce       75.43    24.57          171          object\n",
      "13  Dirección Normalizada       98.85     1.15            8          object\n",
      "14                 COMUNA      100.00     0.00            0           int64\n",
      "15              XY (CABA)      100.00     0.00            0          object\n",
      "16                  pos x      100.00     0.00            0          object\n",
      "17                  pos y      100.00     0.00            0          object\n",
      "18          PARTICIPANTES      100.00     0.00            0          object\n",
      "19                VICTIMA      100.00     0.00            0          object\n",
      "20                ACUSADO      100.00     0.00            0          object\n"
     ]
    }
   ],
   "source": [
    "data_type_check(homicidios_hechos)"
   ]
  },
  {
   "cell_type": "markdown",
   "metadata": {},
   "source": [
    "Revisamos los campos con nulos"
   ]
  },
  {
   "cell_type": "code",
   "execution_count": 7,
   "metadata": {},
   "outputs": [
    {
     "data": {
      "text/html": [
       "<div>\n",
       "<style scoped>\n",
       "    .dataframe tbody tr th:only-of-type {\n",
       "        vertical-align: middle;\n",
       "    }\n",
       "\n",
       "    .dataframe tbody tr th {\n",
       "        vertical-align: top;\n",
       "    }\n",
       "\n",
       "    .dataframe thead th {\n",
       "        text-align: right;\n",
       "    }\n",
       "</style>\n",
       "<table border=\"1\" class=\"dataframe\">\n",
       "  <thead>\n",
       "    <tr style=\"text-align: right;\">\n",
       "      <th></th>\n",
       "      <th>Dirección Normalizada</th>\n",
       "      <th>Cruce</th>\n",
       "      <th>Altura</th>\n",
       "      <th>Calle</th>\n",
       "    </tr>\n",
       "  </thead>\n",
       "  <tbody>\n",
       "    <tr>\n",
       "      <th>38</th>\n",
       "      <td>NaN</td>\n",
       "      <td>NaN</td>\n",
       "      <td>NaN</td>\n",
       "      <td>LUGONES, LEOPOLDO AV.</td>\n",
       "    </tr>\n",
       "    <tr>\n",
       "      <th>106</th>\n",
       "      <td>NaN</td>\n",
       "      <td>NaN</td>\n",
       "      <td>NaN</td>\n",
       "      <td>AUTOPISTA BUENOS AIRES - LA PLATA</td>\n",
       "    </tr>\n",
       "    <tr>\n",
       "      <th>119</th>\n",
       "      <td>NaN</td>\n",
       "      <td>NaN</td>\n",
       "      <td>NaN</td>\n",
       "      <td>NaN</td>\n",
       "    </tr>\n",
       "    <tr>\n",
       "      <th>180</th>\n",
       "      <td>NaN</td>\n",
       "      <td>NaN</td>\n",
       "      <td>NaN</td>\n",
       "      <td>AUTOPISTA PERITO MORENO</td>\n",
       "    </tr>\n",
       "    <tr>\n",
       "      <th>181</th>\n",
       "      <td>NaN</td>\n",
       "      <td>NaN</td>\n",
       "      <td>NaN</td>\n",
       "      <td>AUTOPISTA DELLEPIANE LUIS TTE. GRAL.</td>\n",
       "    </tr>\n",
       "    <tr>\n",
       "      <th>313</th>\n",
       "      <td>NaN</td>\n",
       "      <td>NaN</td>\n",
       "      <td>NaN</td>\n",
       "      <td>LUGONES, LEOPOLDO AV.</td>\n",
       "    </tr>\n",
       "    <tr>\n",
       "      <th>546</th>\n",
       "      <td>NaN</td>\n",
       "      <td>NaN</td>\n",
       "      <td>NaN</td>\n",
       "      <td>LUGONES, LEOPOLDO AV.</td>\n",
       "    </tr>\n",
       "    <tr>\n",
       "      <th>621</th>\n",
       "      <td>NaN</td>\n",
       "      <td>NaN</td>\n",
       "      <td>NaN</td>\n",
       "      <td>AUTOPISTA BUENOS AIRES - LA PLATA</td>\n",
       "    </tr>\n",
       "  </tbody>\n",
       "</table>\n",
       "</div>"
      ],
      "text/plain": [
       "    Dirección Normalizada Cruce  Altura                                 Calle\n",
       "38                    NaN   NaN     NaN                 LUGONES, LEOPOLDO AV.\n",
       "106                   NaN   NaN     NaN     AUTOPISTA BUENOS AIRES - LA PLATA\n",
       "119                   NaN   NaN     NaN                                   NaN\n",
       "180                   NaN   NaN     NaN               AUTOPISTA PERITO MORENO\n",
       "181                   NaN   NaN     NaN  AUTOPISTA DELLEPIANE LUIS TTE. GRAL.\n",
       "313                   NaN   NaN     NaN                 LUGONES, LEOPOLDO AV.\n",
       "546                   NaN   NaN     NaN                 LUGONES, LEOPOLDO AV.\n",
       "621                   NaN   NaN     NaN     AUTOPISTA BUENOS AIRES - LA PLATA"
      ]
     },
     "execution_count": 7,
     "metadata": {},
     "output_type": "execute_result"
    }
   ],
   "source": [
    "homicidios_hechos[homicidios_hechos[\"Dirección Normalizada\"].isnull()][[\"Dirección Normalizada\", \"Cruce\",\"Altura\", \"Calle\"]]"
   ]
  },
  {
   "cell_type": "markdown",
   "metadata": {},
   "source": [
    "Encontramos que los nulos se encuentran distribuidos en cuatro columnas: Altura, Dirección Normalizada, Cruce y Calle.\n",
    "* La columna Calle tiene solo un dato nulo.\n",
    "* La columna Dirección Normalizada presenta 8 datos nulos.\n",
    "* La columna Cruce tiene 171 datos nulos, lo que representa el 24.57% de los datos de la columna.\n",
    "* La columna Altura contiene 567 datos nulos, equivalentes al 81.47% de la columna."
   ]
  },
  {
   "cell_type": "markdown",
   "metadata": {},
   "source": [
    "Debido a la gran cantidad de faltantes en Altura y la imposibilidad de completarlos, se decide eliminar esta columna. \n",
    "Altura se refiere a la numeración de la calle donde ocurre el siniestro, y en la mayoría de los casos, estos se producen en cruces o esquinas.\n",
    "\n",
    "La columna Cruce solo contiene datos cuando el incidente ocurre en un cruce de calles, por lo que se mantiene tal cual.\n",
    "\n",
    "Aunque la columna Dirección Normalizada no se puede completar con las demás columnas del dataset, tiene solo un 1.15% de datos nulos, por lo que se conserva."
   ]
  },
  {
   "cell_type": "code",
   "execution_count": 8,
   "metadata": {},
   "outputs": [
    {
     "name": "stdout",
     "output_type": "stream",
     "text": [
      "<class 'pandas.core.frame.DataFrame'>\n",
      "RangeIndex: 696 entries, 0 to 695\n",
      "Data columns (total 20 columns):\n",
      " #   Column                 Non-Null Count  Dtype         \n",
      "---  ------                 --------------  -----         \n",
      " 0   ID                     696 non-null    object        \n",
      " 1   N_VICTIMAS             696 non-null    int64         \n",
      " 2   FECHA                  696 non-null    datetime64[ns]\n",
      " 3   AAAA                   696 non-null    int64         \n",
      " 4   MM                     696 non-null    int64         \n",
      " 5   DD                     696 non-null    int64         \n",
      " 6   HORA                   696 non-null    object        \n",
      " 7   HH                     696 non-null    object        \n",
      " 8   LUGAR_DEL_HECHO        696 non-null    object        \n",
      " 9   TIPO_DE_CALLE          696 non-null    object        \n",
      " 10  Calle                  695 non-null    object        \n",
      " 11  Cruce                  525 non-null    object        \n",
      " 12  Dirección Normalizada  688 non-null    object        \n",
      " 13  COMUNA                 696 non-null    int64         \n",
      " 14  XY (CABA)              696 non-null    object        \n",
      " 15  pos x                  696 non-null    object        \n",
      " 16  pos y                  696 non-null    object        \n",
      " 17  PARTICIPANTES          696 non-null    object        \n",
      " 18  VICTIMA                696 non-null    object        \n",
      " 19  ACUSADO                696 non-null    object        \n",
      "dtypes: datetime64[ns](1), int64(5), object(14)\n",
      "memory usage: 108.9+ KB\n"
     ]
    }
   ],
   "source": [
    "# Se elimina la columna \"Altura\"\n",
    "homicidios_hechos= homicidios_hechos.drop(\"Altura\", axis=1)\n",
    "homicidios_hechos.info()"
   ]
  },
  {
   "cell_type": "code",
   "execution_count": 9,
   "metadata": {},
   "outputs": [
    {
     "name": "stdout",
     "output_type": "stream",
     "text": [
      "Cantidad de valores duplicados: \n"
     ]
    },
    {
     "data": {
      "text/plain": [
       "0"
      ]
     },
     "execution_count": 9,
     "metadata": {},
     "output_type": "execute_result"
    }
   ],
   "source": [
    "print(\"Cantidad de valores duplicados: \")\n",
    "homicidios_hechos.duplicated().sum()"
   ]
  },
  {
   "cell_type": "markdown",
   "metadata": {},
   "source": [
    "No se encontraron datos duplicados"
   ]
  },
  {
   "cell_type": "markdown",
   "metadata": {},
   "source": [
    "___"
   ]
  },
  {
   "cell_type": "markdown",
   "metadata": {},
   "source": [
    "### Columna HH"
   ]
  },
  {
   "cell_type": "markdown",
   "metadata": {},
   "source": [
    "La primer columna a transformar es HH, su tipo de dato es object y lo queremos en numerico.\n",
    "- Primero analizamos los datos de la columna y luego la transformamos a numerico"
   ]
  },
  {
   "cell_type": "code",
   "execution_count": 10,
   "metadata": {},
   "outputs": [
    {
     "data": {
      "text/plain": [
       "array([4, 1, 7, 0, 5, 18, 19, 15, 11, 22, 16, 9, 23, 6, 10, 17, 12, 8, 20,\n",
       "       21, 14, 3, 2, 13, 'SD'], dtype=object)"
      ]
     },
     "execution_count": 10,
     "metadata": {},
     "output_type": "execute_result"
    }
   ],
   "source": [
    "homicidios_hechos[\"HH\"].unique()"
   ]
  },
  {
   "cell_type": "markdown",
   "metadata": {},
   "source": [
    "Entre los valores encontramos SD, que refiere a SIN DATO. Como no podemos ponerle un reemplazo inventado, elegimos dejarlo como está."
   ]
  },
  {
   "cell_type": "code",
   "execution_count": 11,
   "metadata": {},
   "outputs": [],
   "source": [
    "# Cambio a tipo de dato numerico y luego a entero \n",
    "homicidios_hechos[\"HH\"] = pd.to_numeric(homicidios_hechos [\"HH\"], errors=\"coerce\")\n",
    "homicidios_hechos[\"HH\"] = homicidios_hechos[\"HH\"].astype(\"Int64\")"
   ]
  },
  {
   "cell_type": "markdown",
   "metadata": {},
   "source": [
    "___"
   ]
  },
  {
   "cell_type": "markdown",
   "metadata": {},
   "source": [
    "### Columnas pos x pos y"
   ]
  },
  {
   "cell_type": "markdown",
   "metadata": {},
   "source": [
    "Ahora vamos a limpiar los campos POS X y POS Y de posiciones no validas que se encuentran representadas con el valor de un punto **\".\"**"
   ]
  },
  {
   "cell_type": "code",
   "execution_count": 12,
   "metadata": {},
   "outputs": [
    {
     "data": {
      "text/plain": [
       "(12, 20)"
      ]
     },
     "execution_count": 12,
     "metadata": {},
     "output_type": "execute_result"
    }
   ],
   "source": [
    "#Contar las columnas que tengan el valor . en pos x y pos y\n",
    "homicidios_hechos.loc[(homicidios_hechos['pos x'] == '.') | (homicidios_hechos['pos y'] == '.')].shape\n"
   ]
  },
  {
   "cell_type": "markdown",
   "metadata": {},
   "source": [
    "Encontramos 12 campos de . en pos x y 20 en pos y"
   ]
  },
  {
   "cell_type": "code",
   "execution_count": 13,
   "metadata": {},
   "outputs": [],
   "source": [
    "'''\n",
    "Este código filtra las filas con posiciones inválidas\n",
    "establece estas posiciones como NaN\n",
    "y convierte las posiciones válidas de cadena a valores numéricos de tipo float\n",
    "'''\n",
    "# Filtrar filas con coordenadas no válidas\n",
    "coordenadas_validas = ~(homicidios_hechos['pos x'].str.contains('[^0-9.,-]') | homicidios_hechos['pos y'].str.contains('[^0-9.,-]') | (homicidios_hechos['pos x'] == '.') | (homicidios_hechos['pos y'] == '.'))\n",
    "\n",
    "# Establecer coordenadas no válidas en NaN\n",
    "homicidios_hechos.loc[~coordenadas_validas, ['pos x', 'pos y']] = np.nan\n",
    "\n",
    "# Convertir las cadenas a tipo numérico (float)\n",
    "homicidios_hechos['pos x'] = homicidios_hechos['pos x'].str.replace(',', '.').astype(float)\n",
    "homicidios_hechos['pos y'] = homicidios_hechos['pos y'].str.replace(',', '.').astype(float)\n",
    "# Reemplazar NaN con 0\n",
    "homicidios_hechos.fillna({'pos x': 0, 'pos y': 0}, inplace=True)\n",
    "\n"
   ]
  },
  {
   "cell_type": "markdown",
   "metadata": {},
   "source": [
    "Tiene coordenadas que podemos ubicar en un mapa.\n",
    "\n",
    "Vamos a extraerlas para poder utilizarlas"
   ]
  },
  {
   "cell_type": "code",
   "execution_count": 14,
   "metadata": {},
   "outputs": [
    {
     "data": {
      "text/html": [
       "<div>\n",
       "<style scoped>\n",
       "    .dataframe tbody tr th:only-of-type {\n",
       "        vertical-align: middle;\n",
       "    }\n",
       "\n",
       "    .dataframe tbody tr th {\n",
       "        vertical-align: top;\n",
       "    }\n",
       "\n",
       "    .dataframe thead th {\n",
       "        text-align: right;\n",
       "    }\n",
       "</style>\n",
       "<table border=\"1\" class=\"dataframe\">\n",
       "  <thead>\n",
       "    <tr style=\"text-align: right;\">\n",
       "      <th></th>\n",
       "      <th>ID</th>\n",
       "      <th>N_VICTIMAS</th>\n",
       "      <th>FECHA</th>\n",
       "      <th>AAAA</th>\n",
       "      <th>MM</th>\n",
       "      <th>DD</th>\n",
       "      <th>HORA</th>\n",
       "      <th>HH</th>\n",
       "      <th>LUGAR_DEL_HECHO</th>\n",
       "      <th>TIPO_DE_CALLE</th>\n",
       "      <th>...</th>\n",
       "      <th>Cruce</th>\n",
       "      <th>Dirección Normalizada</th>\n",
       "      <th>COMUNA</th>\n",
       "      <th>XY (CABA)</th>\n",
       "      <th>pos x</th>\n",
       "      <th>pos y</th>\n",
       "      <th>PARTICIPANTES</th>\n",
       "      <th>VICTIMA</th>\n",
       "      <th>ACUSADO</th>\n",
       "      <th>Coordenada</th>\n",
       "    </tr>\n",
       "  </thead>\n",
       "  <tbody>\n",
       "    <tr>\n",
       "      <th>252</th>\n",
       "      <td>2017-0136</td>\n",
       "      <td>1</td>\n",
       "      <td>2017-11-16</td>\n",
       "      <td>2017</td>\n",
       "      <td>11</td>\n",
       "      <td>16</td>\n",
       "      <td>08:43:00</td>\n",
       "      <td>8</td>\n",
       "      <td>DEL BARCO CENTENERA Y RABANAL</td>\n",
       "      <td>AVENIDA</td>\n",
       "      <td>...</td>\n",
       "      <td>RABANAL, FRANCISCO, INTENDENTE AV.</td>\n",
       "      <td>BARCO CENTENERA DEL y RABANAL, FRANCISCO, INTE...</td>\n",
       "      <td>4</td>\n",
       "      <td>Point (104127.10295709 97119.53980201)</td>\n",
       "      <td>-58.418278</td>\n",
       "      <td>-34.655227</td>\n",
       "      <td>PEATON-PASAJEROS</td>\n",
       "      <td>PEATON</td>\n",
       "      <td>PASAJEROS</td>\n",
       "      <td>-58.41827843,-34.65522746</td>\n",
       "    </tr>\n",
       "    <tr>\n",
       "      <th>209</th>\n",
       "      <td>2017-0084</td>\n",
       "      <td>1</td>\n",
       "      <td>2017-07-05</td>\n",
       "      <td>2017</td>\n",
       "      <td>7</td>\n",
       "      <td>5</td>\n",
       "      <td>12:49:00</td>\n",
       "      <td>12</td>\n",
       "      <td>AV. DEL LIBERTADOR Y RODRIGUEZ PEÑA</td>\n",
       "      <td>AVENIDA</td>\n",
       "      <td>...</td>\n",
       "      <td>RODRIGUEZ PE?A</td>\n",
       "      <td>DEL LIBERTADOR AV. y RODRIGUEZ PEÃ‘A</td>\n",
       "      <td>2</td>\n",
       "      <td>Point (107180.90591568 104682.54945160)</td>\n",
       "      <td>-58.385029</td>\n",
       "      <td>-34.587035</td>\n",
       "      <td>PEATON-PASAJEROS</td>\n",
       "      <td>PEATON</td>\n",
       "      <td>PASAJEROS</td>\n",
       "      <td>-58.38502878,-34.58703485</td>\n",
       "    </tr>\n",
       "  </tbody>\n",
       "</table>\n",
       "<p>2 rows × 21 columns</p>\n",
       "</div>"
      ],
      "text/plain": [
       "            ID  N_VICTIMAS      FECHA  AAAA  MM  DD      HORA  HH  \\\n",
       "252  2017-0136           1 2017-11-16  2017  11  16  08:43:00   8   \n",
       "209  2017-0084           1 2017-07-05  2017   7   5  12:49:00  12   \n",
       "\n",
       "                         LUGAR_DEL_HECHO TIPO_DE_CALLE  ...  \\\n",
       "252        DEL BARCO CENTENERA Y RABANAL       AVENIDA  ...   \n",
       "209  AV. DEL LIBERTADOR Y RODRIGUEZ PEÑA       AVENIDA  ...   \n",
       "\n",
       "                                  Cruce  \\\n",
       "252  RABANAL, FRANCISCO, INTENDENTE AV.   \n",
       "209                      RODRIGUEZ PE?A   \n",
       "\n",
       "                                 Dirección Normalizada COMUNA  \\\n",
       "252  BARCO CENTENERA DEL y RABANAL, FRANCISCO, INTE...      4   \n",
       "209               DEL LIBERTADOR AV. y RODRIGUEZ PEÃ‘A      2   \n",
       "\n",
       "                                   XY (CABA)      pos x      pos y  \\\n",
       "252   Point (104127.10295709 97119.53980201) -58.418278 -34.655227   \n",
       "209  Point (107180.90591568 104682.54945160) -58.385029 -34.587035   \n",
       "\n",
       "        PARTICIPANTES VICTIMA    ACUSADO                 Coordenada  \n",
       "252  PEATON-PASAJEROS  PEATON  PASAJEROS  -58.41827843,-34.65522746  \n",
       "209  PEATON-PASAJEROS  PEATON  PASAJEROS  -58.38502878,-34.58703485  \n",
       "\n",
       "[2 rows x 21 columns]"
      ]
     },
     "execution_count": 14,
     "metadata": {},
     "output_type": "execute_result"
    }
   ],
   "source": [
    "#Unir pos x + pos y, separados los dos pos una coma\n",
    "homicidios_hechos['Coordenada'] = homicidios_hechos['pos x'].astype(str) + ',' + homicidios_hechos['pos y'].astype(str)\n",
    "\n",
    "#Se observa el resultado\n",
    "homicidios_hechos.sample(2)"
   ]
  },
  {
   "cell_type": "code",
   "execution_count": 15,
   "metadata": {},
   "outputs": [
    {
     "data": {
      "text/plain": [
       "Index(['ID', 'N_VICTIMAS', 'FECHA', 'AAAA', 'MM', 'DD', 'HORA', 'HH',\n",
       "       'LUGAR_DEL_HECHO', 'TIPO_DE_CALLE', 'Calle', 'Cruce',\n",
       "       'Dirección Normalizada', 'COMUNA', 'XY (CABA)', 'pos x', 'pos y',\n",
       "       'PARTICIPANTES', 'VICTIMA', 'ACUSADO', 'Coordenada'],\n",
       "      dtype='object')"
      ]
     },
     "execution_count": 15,
     "metadata": {},
     "output_type": "execute_result"
    }
   ],
   "source": [
    "#Se observan las columnas resultantes\n",
    "homicidios_hechos.columns"
   ]
  },
  {
   "cell_type": "code",
   "execution_count": 16,
   "metadata": {},
   "outputs": [
    {
     "data": {
      "text/html": [
       "<div>\n",
       "<style scoped>\n",
       "    .dataframe tbody tr th:only-of-type {\n",
       "        vertical-align: middle;\n",
       "    }\n",
       "\n",
       "    .dataframe tbody tr th {\n",
       "        vertical-align: top;\n",
       "    }\n",
       "\n",
       "    .dataframe thead th {\n",
       "        text-align: right;\n",
       "    }\n",
       "</style>\n",
       "<table border=\"1\" class=\"dataframe\">\n",
       "  <thead>\n",
       "    <tr style=\"text-align: right;\">\n",
       "      <th></th>\n",
       "      <th>ID</th>\n",
       "      <th>N_VICTIMAS</th>\n",
       "      <th>FECHA</th>\n",
       "      <th>AAAA</th>\n",
       "      <th>MM</th>\n",
       "      <th>DD</th>\n",
       "      <th>HORA</th>\n",
       "      <th>HH</th>\n",
       "      <th>LUGAR_DEL_HECHO</th>\n",
       "      <th>TIPO_DE_CALLE</th>\n",
       "      <th>...</th>\n",
       "      <th>Cruce</th>\n",
       "      <th>Dirección Normalizada</th>\n",
       "      <th>COMUNA</th>\n",
       "      <th>XY (CABA)</th>\n",
       "      <th>pos x</th>\n",
       "      <th>pos y</th>\n",
       "      <th>PARTICIPANTES</th>\n",
       "      <th>VICTIMA</th>\n",
       "      <th>ACUSADO</th>\n",
       "      <th>Coordenada</th>\n",
       "    </tr>\n",
       "  </thead>\n",
       "  <tbody>\n",
       "    <tr>\n",
       "      <th>571</th>\n",
       "      <td>2020-0051</td>\n",
       "      <td>1</td>\n",
       "      <td>2020-11-05</td>\n",
       "      <td>2020</td>\n",
       "      <td>11</td>\n",
       "      <td>5</td>\n",
       "      <td>00:40:00</td>\n",
       "      <td>0</td>\n",
       "      <td>AVELLANEDA AV. Y MERCEDES</td>\n",
       "      <td>AVENIDA</td>\n",
       "      <td>...</td>\n",
       "      <td>MERCEDES</td>\n",
       "      <td>AVELLANEDA AV. y MERCEDES</td>\n",
       "      <td>10</td>\n",
       "      <td>Point (98015.81258802 99939.73589695)</td>\n",
       "      <td>-58.484938</td>\n",
       "      <td>-34.629811</td>\n",
       "      <td>MOTO-AUTO</td>\n",
       "      <td>MOTO</td>\n",
       "      <td>AUTO</td>\n",
       "      <td>-58.48493828,-34.62981124</td>\n",
       "    </tr>\n",
       "    <tr>\n",
       "      <th>679</th>\n",
       "      <td>2021-0081</td>\n",
       "      <td>1</td>\n",
       "      <td>2021-11-02</td>\n",
       "      <td>2021</td>\n",
       "      <td>11</td>\n",
       "      <td>2</td>\n",
       "      <td>13:35:00</td>\n",
       "      <td>13</td>\n",
       "      <td>AU FRONDIZI SUBIDA BRANDSEN</td>\n",
       "      <td>AUTOPISTA</td>\n",
       "      <td>...</td>\n",
       "      <td>NaN</td>\n",
       "      <td>AUTOPISTA 1 SUR PRESIDENTE ARTURO FRONDIZI y B...</td>\n",
       "      <td>4</td>\n",
       "      <td>Point (107979.30419282 99027.13636949)</td>\n",
       "      <td>-58.376274</td>\n",
       "      <td>-34.638009</td>\n",
       "      <td>MOTO-CARGAS</td>\n",
       "      <td>MOTO</td>\n",
       "      <td>CARGAS</td>\n",
       "      <td>-58.37627355,-34.63800916</td>\n",
       "    </tr>\n",
       "  </tbody>\n",
       "</table>\n",
       "<p>2 rows × 21 columns</p>\n",
       "</div>"
      ],
      "text/plain": [
       "            ID  N_VICTIMAS      FECHA  AAAA  MM  DD      HORA  HH  \\\n",
       "571  2020-0051           1 2020-11-05  2020  11   5  00:40:00   0   \n",
       "679  2021-0081           1 2021-11-02  2021  11   2  13:35:00  13   \n",
       "\n",
       "                 LUGAR_DEL_HECHO TIPO_DE_CALLE  ...     Cruce  \\\n",
       "571    AVELLANEDA AV. Y MERCEDES       AVENIDA  ...  MERCEDES   \n",
       "679  AU FRONDIZI SUBIDA BRANDSEN     AUTOPISTA  ...       NaN   \n",
       "\n",
       "                                 Dirección Normalizada COMUNA  \\\n",
       "571                          AVELLANEDA AV. y MERCEDES     10   \n",
       "679  AUTOPISTA 1 SUR PRESIDENTE ARTURO FRONDIZI y B...      4   \n",
       "\n",
       "                                  XY (CABA)      pos x      pos y  \\\n",
       "571   Point (98015.81258802 99939.73589695) -58.484938 -34.629811   \n",
       "679  Point (107979.30419282 99027.13636949) -58.376274 -34.638009   \n",
       "\n",
       "     PARTICIPANTES VICTIMA ACUSADO                 Coordenada  \n",
       "571      MOTO-AUTO    MOTO    AUTO  -58.48493828,-34.62981124  \n",
       "679    MOTO-CARGAS    MOTO  CARGAS  -58.37627355,-34.63800916  \n",
       "\n",
       "[2 rows x 21 columns]"
      ]
     },
     "execution_count": 16,
     "metadata": {},
     "output_type": "execute_result"
    }
   ],
   "source": [
    "homicidios_hechos.sample(2)"
   ]
  },
  {
   "cell_type": "markdown",
   "metadata": {},
   "source": [
    "___"
   ]
  },
  {
   "cell_type": "markdown",
   "metadata": {},
   "source": [
    "### Columna comuna"
   ]
  },
  {
   "cell_type": "markdown",
   "metadata": {},
   "source": [
    "En la columna 'Comuna' tenemos una numeracion del 1 al 15. \n",
    "Esta numeración identifica a cada una de las divisiones comunales de la ciudad autónoma de Buenos Aires.\n",
    "\n"
   ]
  },
  {
   "cell_type": "code",
   "execution_count": 17,
   "metadata": {},
   "outputs": [
    {
     "data": {
      "text/plain": [
       "array([ 8,  9,  1, 11, 15,  4,  7, 12,  3, 13, 14, 10,  6,  2,  5,  0],\n",
       "      dtype=int64)"
      ]
     },
     "execution_count": 17,
     "metadata": {},
     "output_type": "execute_result"
    }
   ],
   "source": [
    "homicidios_hechos[\"COMUNA\"].unique()"
   ]
  },
  {
   "cell_type": "markdown",
   "metadata": {},
   "source": [
    "Vamos a agregar valor, agregaremos los Barrios que la conforman.\n",
    "\n",
    "Para eso utilizaremos el dataset 'comunas' importado junto al dataset homicidios. Este dataset fue descargado del siguiente sitio web: https://data.buenosaires.gob.ar/dataset/comunas"
   ]
  },
  {
   "cell_type": "code",
   "execution_count": 18,
   "metadata": {},
   "outputs": [],
   "source": [
    "#Modifico las mayúsculas por minúsculas\n",
    "comunas=comunas.rename(columns={\n",
    "    \"COMUNAS\": \"COMUNA\"\n",
    "})\n",
    "\n",
    "#Se realiza el merge a través de la columna en comun `Comuna` y nos va a quedar anexada la columna `Barrios`\n",
    "\n",
    "\n",
    "homicidios_hechos=homicidios_hechos.merge(comunas, on=\"COMUNA\", how=\"left\")\n",
    "\n",
    "#Borramos las columnas que no nos interesan del dataset, siendo estas: ID_Y, OBJETO, PERIMETRO, AREA\n",
    "homicidios_hechos=homicidios_hechos.drop(columns=[\"ID_y\", \"OBJETO\", \"PERIMETRO\", \"AREA\"])\n"
   ]
  },
  {
   "cell_type": "markdown",
   "metadata": {},
   "source": [
    "Ahora vamos a agregarle a cada numero, la palabra \"Comuna\" usando la funcion lambda"
   ]
  },
  {
   "cell_type": "code",
   "execution_count": 19,
   "metadata": {},
   "outputs": [
    {
     "data": {
      "text/plain": [
       "array(['COMUNA 8', 'COMUNA 9', 'COMUNA 1', 'COMUNA 11', 'COMUNA 15',\n",
       "       'COMUNA 4', 'COMUNA 7', 'COMUNA 12', 'COMUNA 3', 'COMUNA 13',\n",
       "       'COMUNA 14', 'COMUNA 10', 'COMUNA 6', 'COMUNA 2', 'COMUNA 5',\n",
       "       'COMUNA 0'], dtype=object)"
      ]
     },
     "execution_count": 19,
     "metadata": {},
     "output_type": "execute_result"
    }
   ],
   "source": [
    "# Agrego la palabra Comuna delante del dato numérico\n",
    "homicidios_hechos[\"COMUNA\"] = homicidios_hechos.apply(lambda x: \"COMUNA \"+str(x[\"COMUNA\"]), axis=1)\n",
    "\n",
    "homicidios_hechos[\"COMUNA\"].unique()"
   ]
  },
  {
   "cell_type": "markdown",
   "metadata": {},
   "source": [
    "Las colummas tienen nombres en mayúsculas y en minúsculas, los vamos a estandarizan a modo de buena práctica"
   ]
  },
  {
   "cell_type": "code",
   "execution_count": 20,
   "metadata": {},
   "outputs": [
    {
     "data": {
      "text/plain": [
       "Index(['ID', 'Num víctimas', 'Fecha', 'Año', 'Mes', 'Día', 'Hora completa',\n",
       "       'Hora', 'Lugar del hecho', 'Tipo de calle', 'Calle', 'Cruce',\n",
       "       'Dirección normalizada', 'Comuna', 'Xy (caba)', 'Pos x', 'Pos y',\n",
       "       'Participantes', 'Victima', 'Acusado', 'Coordenada', 'Barrios'],\n",
       "      dtype='object')"
      ]
     },
     "execution_count": 20,
     "metadata": {},
     "output_type": "execute_result"
    }
   ],
   "source": [
    "#Cambio la primer letra a mayúscula\n",
    "homicidios_hechos.columns = [x.capitalize() for x in homicidios_hechos.columns]\n",
    "# Reemplazo guiones por espacios\n",
    "homicidios_hechos.columns = homicidios_hechos.columns.str.replace(\"_\", \" \")\n",
    "#Renombra columnas \n",
    "homicidios_hechos= homicidios_hechos.rename(columns={\"N victimas\": \"Num víctimas\",\n",
    "                                            \"Aaaa\": \"Año\",\n",
    "                                            \"Mm\":\"Mes\",\n",
    "                                            \"Dd\": \"Día\",\n",
    "                                            \"Hora\": \"Hora completa\",\n",
    "                                            \"Hh\": \"Hora\",\n",
    "                                            \"Id x\":\"ID\"    \n",
    "                                        }) \n",
    "\n",
    "homicidios_hechos.columns"
   ]
  },
  {
   "cell_type": "markdown",
   "metadata": {},
   "source": [
    "___"
   ]
  },
  {
   "cell_type": "markdown",
   "metadata": {},
   "source": [
    "### Columna dia"
   ]
  },
  {
   "cell_type": "code",
   "execution_count": 21,
   "metadata": {},
   "outputs": [
    {
     "data": {
      "text/plain": [
       "array([ 1,  2,  3, 10, 21, 24, 29,  8, 14, 15, 17, 28,  4, 12, 13, 19, 23,\n",
       "       30, 31, 11, 20, 22, 25, 26, 16, 18, 27,  7,  9,  5,  6],\n",
       "      dtype=int64)"
      ]
     },
     "execution_count": 21,
     "metadata": {},
     "output_type": "execute_result"
    }
   ],
   "source": [
    "# Mostramos dia\n",
    "homicidios_hechos[\"Día\"].unique()"
   ]
  },
  {
   "cell_type": "markdown",
   "metadata": {},
   "source": [
    "Solo podemos ver el numero del dia, por lo que le agregamos el dia de la semana para que sea mas claro. "
   ]
  },
  {
   "cell_type": "code",
   "execution_count": 22,
   "metadata": {},
   "outputs": [
    {
     "data": {
      "text/plain": [
       "array([ 1,  2,  3, 10, 21, 24, 29,  8, 14, 15, 17, 28,  4, 12, 13, 19, 23,\n",
       "       30, 31, 11, 20, 22, 25, 26, 16, 18, 27,  7,  9,  5,  6],\n",
       "      dtype=int64)"
      ]
     },
     "execution_count": 22,
     "metadata": {},
     "output_type": "execute_result"
    }
   ],
   "source": [
    "# Mostramos dia\n",
    "homicidios_hechos[\"Día\"].unique()"
   ]
  },
  {
   "cell_type": "code",
   "execution_count": 23,
   "metadata": {},
   "outputs": [
    {
     "data": {
      "text/html": [
       "<div>\n",
       "<style scoped>\n",
       "    .dataframe tbody tr th:only-of-type {\n",
       "        vertical-align: middle;\n",
       "    }\n",
       "\n",
       "    .dataframe tbody tr th {\n",
       "        vertical-align: top;\n",
       "    }\n",
       "\n",
       "    .dataframe thead th {\n",
       "        text-align: right;\n",
       "    }\n",
       "</style>\n",
       "<table border=\"1\" class=\"dataframe\">\n",
       "  <thead>\n",
       "    <tr style=\"text-align: right;\">\n",
       "      <th></th>\n",
       "      <th>ID</th>\n",
       "      <th>Num víctimas</th>\n",
       "      <th>Fecha</th>\n",
       "      <th>Año</th>\n",
       "      <th>Mes</th>\n",
       "      <th>Día</th>\n",
       "      <th>Hora completa</th>\n",
       "      <th>Hora</th>\n",
       "      <th>Lugar del hecho</th>\n",
       "      <th>Tipo de calle</th>\n",
       "      <th>...</th>\n",
       "      <th>Comuna</th>\n",
       "      <th>Xy (caba)</th>\n",
       "      <th>Pos x</th>\n",
       "      <th>Pos y</th>\n",
       "      <th>Participantes</th>\n",
       "      <th>Victima</th>\n",
       "      <th>Acusado</th>\n",
       "      <th>Coordenada</th>\n",
       "      <th>Barrios</th>\n",
       "      <th>Día semana</th>\n",
       "    </tr>\n",
       "  </thead>\n",
       "  <tbody>\n",
       "    <tr>\n",
       "      <th>8</th>\n",
       "      <td>2016-0012</td>\n",
       "      <td>1</td>\n",
       "      <td>2016-02-08</td>\n",
       "      <td>2016</td>\n",
       "      <td>2</td>\n",
       "      <td>8</td>\n",
       "      <td>01:20:00</td>\n",
       "      <td>1</td>\n",
       "      <td>AV BELGRANO Y BERNARDO DE IRIGOYEN</td>\n",
       "      <td>AVENIDA</td>\n",
       "      <td>...</td>\n",
       "      <td>COMUNA 1</td>\n",
       "      <td>Point (107595.35084333 101797.50052813)</td>\n",
       "      <td>-58.380486</td>\n",
       "      <td>-34.613039</td>\n",
       "      <td>MOTO-CARGAS</td>\n",
       "      <td>MOTO</td>\n",
       "      <td>CARGAS</td>\n",
       "      <td>-58.38048577,-34.61303893</td>\n",
       "      <td>CONSTITUCION - MONTSERRAT - PUERTO MADERO - RE...</td>\n",
       "      <td>Monday</td>\n",
       "    </tr>\n",
       "    <tr>\n",
       "      <th>690</th>\n",
       "      <td>2021-0092</td>\n",
       "      <td>1</td>\n",
       "      <td>2021-12-12</td>\n",
       "      <td>2021</td>\n",
       "      <td>12</td>\n",
       "      <td>12</td>\n",
       "      <td>06:20:00</td>\n",
       "      <td>6</td>\n",
       "      <td>AV. RIVADAVIA Y AV. PUEYRREDON</td>\n",
       "      <td>AVENIDA</td>\n",
       "      <td>...</td>\n",
       "      <td>COMUNA 3</td>\n",
       "      <td>Point (105258.35368554 102122.93231400)</td>\n",
       "      <td>-58.405969</td>\n",
       "      <td>-34.610120</td>\n",
       "      <td>PEATON-AUTO</td>\n",
       "      <td>PEATON</td>\n",
       "      <td>AUTO</td>\n",
       "      <td>-58.4059686,-34.61011987</td>\n",
       "      <td>BALVANERA - SAN CRISTOBAL</td>\n",
       "      <td>Sunday</td>\n",
       "    </tr>\n",
       "  </tbody>\n",
       "</table>\n",
       "<p>2 rows × 23 columns</p>\n",
       "</div>"
      ],
      "text/plain": [
       "            ID  Num víctimas      Fecha   Año  Mes  Día Hora completa  Hora  \\\n",
       "8    2016-0012             1 2016-02-08  2016    2    8      01:20:00     1   \n",
       "690  2021-0092             1 2021-12-12  2021   12   12      06:20:00     6   \n",
       "\n",
       "                        Lugar del hecho Tipo de calle  ...    Comuna  \\\n",
       "8    AV BELGRANO Y BERNARDO DE IRIGOYEN       AVENIDA  ...  COMUNA 1   \n",
       "690      AV. RIVADAVIA Y AV. PUEYRREDON       AVENIDA  ...  COMUNA 3   \n",
       "\n",
       "                                   Xy (caba)      Pos x      Pos y  \\\n",
       "8    Point (107595.35084333 101797.50052813) -58.380486 -34.613039   \n",
       "690  Point (105258.35368554 102122.93231400) -58.405969 -34.610120   \n",
       "\n",
       "    Participantes  Victima  Acusado                 Coordenada  \\\n",
       "8     MOTO-CARGAS     MOTO   CARGAS  -58.38048577,-34.61303893   \n",
       "690   PEATON-AUTO   PEATON     AUTO   -58.4059686,-34.61011987   \n",
       "\n",
       "                                               Barrios Día semana  \n",
       "8    CONSTITUCION - MONTSERRAT - PUERTO MADERO - RE...     Monday  \n",
       "690                          BALVANERA - SAN CRISTOBAL     Sunday  \n",
       "\n",
       "[2 rows x 23 columns]"
      ]
     },
     "execution_count": 23,
     "metadata": {},
     "output_type": "execute_result"
    }
   ],
   "source": [
    "#Creo una columna nueva `Día semana` que contenga el nombre del día de la semana\n",
    "homicidios_hechos['Día semana'] = homicidios_hechos['Fecha'].dt.strftime('%A')\n",
    "\n",
    "# Mostramos dia\n",
    "homicidios_hechos.sample(2)\n"
   ]
  },
  {
   "cell_type": "markdown",
   "metadata": {},
   "source": [
    "Como los nombres se encuentran en ingles, los cambio a español"
   ]
  },
  {
   "cell_type": "code",
   "execution_count": 24,
   "metadata": {},
   "outputs": [
    {
     "data": {
      "text/html": [
       "<div>\n",
       "<style scoped>\n",
       "    .dataframe tbody tr th:only-of-type {\n",
       "        vertical-align: middle;\n",
       "    }\n",
       "\n",
       "    .dataframe tbody tr th {\n",
       "        vertical-align: top;\n",
       "    }\n",
       "\n",
       "    .dataframe thead th {\n",
       "        text-align: right;\n",
       "    }\n",
       "</style>\n",
       "<table border=\"1\" class=\"dataframe\">\n",
       "  <thead>\n",
       "    <tr style=\"text-align: right;\">\n",
       "      <th></th>\n",
       "      <th>ID</th>\n",
       "      <th>Num víctimas</th>\n",
       "      <th>Fecha</th>\n",
       "      <th>Año</th>\n",
       "      <th>Mes</th>\n",
       "      <th>Día</th>\n",
       "      <th>Hora completa</th>\n",
       "      <th>Hora</th>\n",
       "      <th>Lugar del hecho</th>\n",
       "      <th>Tipo de calle</th>\n",
       "      <th>...</th>\n",
       "      <th>Comuna</th>\n",
       "      <th>Xy (caba)</th>\n",
       "      <th>Pos x</th>\n",
       "      <th>Pos y</th>\n",
       "      <th>Participantes</th>\n",
       "      <th>Victima</th>\n",
       "      <th>Acusado</th>\n",
       "      <th>Coordenada</th>\n",
       "      <th>Barrios</th>\n",
       "      <th>Día semana</th>\n",
       "    </tr>\n",
       "  </thead>\n",
       "  <tbody>\n",
       "    <tr>\n",
       "      <th>269</th>\n",
       "      <td>2017-0155</td>\n",
       "      <td>1</td>\n",
       "      <td>2017-12-12</td>\n",
       "      <td>2017</td>\n",
       "      <td>12</td>\n",
       "      <td>12</td>\n",
       "      <td>21:25:41</td>\n",
       "      <td>21</td>\n",
       "      <td>AV. RIVADAVIA 6350</td>\n",
       "      <td>AVENIDA</td>\n",
       "      <td>...</td>\n",
       "      <td>COMUNA 7</td>\n",
       "      <td>Point (100674.98109200 100299.64949548)</td>\n",
       "      <td>-58.455939</td>\n",
       "      <td>-34.626569</td>\n",
       "      <td>SD-MOTO</td>\n",
       "      <td>SD</td>\n",
       "      <td>MOTO</td>\n",
       "      <td>-58.45593915,-34.62656868</td>\n",
       "      <td>FLORES - PARQUE CHACABUCO</td>\n",
       "      <td>Martes</td>\n",
       "    </tr>\n",
       "    <tr>\n",
       "      <th>546</th>\n",
       "      <td>2020-0026</td>\n",
       "      <td>1</td>\n",
       "      <td>2020-05-17</td>\n",
       "      <td>2020</td>\n",
       "      <td>5</td>\n",
       "      <td>17</td>\n",
       "      <td>06:40:00</td>\n",
       "      <td>6</td>\n",
       "      <td>LUGONES, LEOPOLDO AV. KM 6,1</td>\n",
       "      <td>AUTOPISTA</td>\n",
       "      <td>...</td>\n",
       "      <td>COMUNA 14</td>\n",
       "      <td>Point (. .)</td>\n",
       "      <td>0.000000</td>\n",
       "      <td>0.000000</td>\n",
       "      <td>MOTO-OBJETO FIJO</td>\n",
       "      <td>MOTO</td>\n",
       "      <td>OBJETO FIJO</td>\n",
       "      <td>0.0,0.0</td>\n",
       "      <td>PALERMO</td>\n",
       "      <td>Domingo</td>\n",
       "    </tr>\n",
       "    <tr>\n",
       "      <th>388</th>\n",
       "      <td>2018-0114</td>\n",
       "      <td>1</td>\n",
       "      <td>2018-10-30</td>\n",
       "      <td>2018</td>\n",
       "      <td>10</td>\n",
       "      <td>30</td>\n",
       "      <td>02:15:00</td>\n",
       "      <td>2</td>\n",
       "      <td>Solis e Independencia Av.</td>\n",
       "      <td>AVENIDA</td>\n",
       "      <td>...</td>\n",
       "      <td>COMUNA 1</td>\n",
       "      <td>Point (106692.15004353 101239.02351805)</td>\n",
       "      <td>-58.390329</td>\n",
       "      <td>-34.618080</td>\n",
       "      <td>MOTO-AUTO</td>\n",
       "      <td>MOTO</td>\n",
       "      <td>AUTO</td>\n",
       "      <td>-58.39032921,-34.61807951</td>\n",
       "      <td>CONSTITUCION - MONTSERRAT - PUERTO MADERO - RE...</td>\n",
       "      <td>Martes</td>\n",
       "    </tr>\n",
       "  </tbody>\n",
       "</table>\n",
       "<p>3 rows × 23 columns</p>\n",
       "</div>"
      ],
      "text/plain": [
       "            ID  Num víctimas      Fecha   Año  Mes  Día Hora completa  Hora  \\\n",
       "269  2017-0155             1 2017-12-12  2017   12   12      21:25:41    21   \n",
       "546  2020-0026             1 2020-05-17  2020    5   17      06:40:00     6   \n",
       "388  2018-0114             1 2018-10-30  2018   10   30      02:15:00     2   \n",
       "\n",
       "                  Lugar del hecho Tipo de calle  ...     Comuna  \\\n",
       "269            AV. RIVADAVIA 6350       AVENIDA  ...   COMUNA 7   \n",
       "546  LUGONES, LEOPOLDO AV. KM 6,1     AUTOPISTA  ...  COMUNA 14   \n",
       "388     Solis e Independencia Av.       AVENIDA  ...   COMUNA 1   \n",
       "\n",
       "                                   Xy (caba)      Pos x      Pos y  \\\n",
       "269  Point (100674.98109200 100299.64949548) -58.455939 -34.626569   \n",
       "546                              Point (. .)   0.000000   0.000000   \n",
       "388  Point (106692.15004353 101239.02351805) -58.390329 -34.618080   \n",
       "\n",
       "        Participantes  Victima      Acusado                 Coordenada  \\\n",
       "269           SD-MOTO       SD         MOTO  -58.45593915,-34.62656868   \n",
       "546  MOTO-OBJETO FIJO     MOTO  OBJETO FIJO                    0.0,0.0   \n",
       "388         MOTO-AUTO     MOTO         AUTO  -58.39032921,-34.61807951   \n",
       "\n",
       "                                               Barrios Día semana  \n",
       "269                          FLORES - PARQUE CHACABUCO     Martes  \n",
       "546                                            PALERMO    Domingo  \n",
       "388  CONSTITUCION - MONTSERRAT - PUERTO MADERO - RE...     Martes  \n",
       "\n",
       "[3 rows x 23 columns]"
      ]
     },
     "execution_count": 24,
     "metadata": {},
     "output_type": "execute_result"
    }
   ],
   "source": [
    "# Diccionario para asignar en español los nombres de los dás de la semana \n",
    "dic={  'Friday':'Viernes',\n",
    "       'Saturday': 'Sabado',\n",
    "       'Sunday': 'Domingo',  \n",
    "       'Thursday': 'Jueves',\n",
    "        'Monday': 'Lunes',\n",
    "        'Wednesday': 'Miercoles',\n",
    "       'Tuesday': 'Martes'}\n",
    "\n",
    "# Aplicamos el cambio\n",
    "homicidios_hechos['Día semana'] =homicidios_hechos['Día semana'].replace(dic)\n",
    "\n",
    "# Mostramos dia\n",
    "homicidios_hechos.sample(3)"
   ]
  },
  {
   "cell_type": "markdown",
   "metadata": {},
   "source": [
    "___"
   ]
  },
  {
   "cell_type": "markdown",
   "metadata": {},
   "source": [
    "## 🔁 TRANSFORM Dataset homicidios-victimas"
   ]
  },
  {
   "cell_type": "code",
   "execution_count": 25,
   "metadata": {},
   "outputs": [
    {
     "name": "stdout",
     "output_type": "stream",
     "text": [
      "Veamos 3 muestras del Dataset: \n"
     ]
    },
    {
     "data": {
      "text/html": [
       "<div>\n",
       "<style scoped>\n",
       "    .dataframe tbody tr th:only-of-type {\n",
       "        vertical-align: middle;\n",
       "    }\n",
       "\n",
       "    .dataframe tbody tr th {\n",
       "        vertical-align: top;\n",
       "    }\n",
       "\n",
       "    .dataframe thead th {\n",
       "        text-align: right;\n",
       "    }\n",
       "</style>\n",
       "<table border=\"1\" class=\"dataframe\">\n",
       "  <thead>\n",
       "    <tr style=\"text-align: right;\">\n",
       "      <th></th>\n",
       "      <th>ID_hecho</th>\n",
       "      <th>FECHA</th>\n",
       "      <th>AAAA</th>\n",
       "      <th>MM</th>\n",
       "      <th>DD</th>\n",
       "      <th>ROL</th>\n",
       "      <th>VICTIMA</th>\n",
       "      <th>SEXO</th>\n",
       "      <th>EDAD</th>\n",
       "      <th>FECHA_FALLECIMIENTO</th>\n",
       "    </tr>\n",
       "  </thead>\n",
       "  <tbody>\n",
       "    <tr>\n",
       "      <th>167</th>\n",
       "      <td>2017-0029</td>\n",
       "      <td>2017-03-07</td>\n",
       "      <td>2017</td>\n",
       "      <td>3</td>\n",
       "      <td>7</td>\n",
       "      <td>SD</td>\n",
       "      <td>SD</td>\n",
       "      <td>MASCULINO</td>\n",
       "      <td>34</td>\n",
       "      <td>2017-03-07 00:00:00</td>\n",
       "    </tr>\n",
       "    <tr>\n",
       "      <th>228</th>\n",
       "      <td>2017-0096</td>\n",
       "      <td>2017-08-07</td>\n",
       "      <td>2017</td>\n",
       "      <td>8</td>\n",
       "      <td>7</td>\n",
       "      <td>PEATON</td>\n",
       "      <td>PEATON</td>\n",
       "      <td>MASCULINO</td>\n",
       "      <td>87</td>\n",
       "      <td>2017-08-07 00:00:00</td>\n",
       "    </tr>\n",
       "    <tr>\n",
       "      <th>39</th>\n",
       "      <td>2016-0052</td>\n",
       "      <td>2016-04-20</td>\n",
       "      <td>2016</td>\n",
       "      <td>4</td>\n",
       "      <td>20</td>\n",
       "      <td>SD</td>\n",
       "      <td>MOTO</td>\n",
       "      <td>SD</td>\n",
       "      <td>SD</td>\n",
       "      <td>SD</td>\n",
       "    </tr>\n",
       "  </tbody>\n",
       "</table>\n",
       "</div>"
      ],
      "text/plain": [
       "      ID_hecho      FECHA  AAAA  MM  DD     ROL VICTIMA       SEXO EDAD  \\\n",
       "167  2017-0029 2017-03-07  2017   3   7      SD      SD  MASCULINO   34   \n",
       "228  2017-0096 2017-08-07  2017   8   7  PEATON  PEATON  MASCULINO   87   \n",
       "39   2016-0052 2016-04-20  2016   4  20      SD    MOTO         SD   SD   \n",
       "\n",
       "     FECHA_FALLECIMIENTO  \n",
       "167  2017-03-07 00:00:00  \n",
       "228  2017-08-07 00:00:00  \n",
       "39                    SD  "
      ]
     },
     "execution_count": 25,
     "metadata": {},
     "output_type": "execute_result"
    }
   ],
   "source": [
    "print(\"Veamos 3 muestras del Dataset: \")\n",
    "homicidios_victimas.sample(3)"
   ]
  },
  {
   "cell_type": "markdown",
   "metadata": {},
   "source": [
    "Veamos la descripcion estadistica con .describe()\n"
   ]
  },
  {
   "cell_type": "code",
   "execution_count": 26,
   "metadata": {},
   "outputs": [
    {
     "data": {
      "text/html": [
       "<div>\n",
       "<style scoped>\n",
       "    .dataframe tbody tr th:only-of-type {\n",
       "        vertical-align: middle;\n",
       "    }\n",
       "\n",
       "    .dataframe tbody tr th {\n",
       "        vertical-align: top;\n",
       "    }\n",
       "\n",
       "    .dataframe thead th {\n",
       "        text-align: right;\n",
       "    }\n",
       "</style>\n",
       "<table border=\"1\" class=\"dataframe\">\n",
       "  <thead>\n",
       "    <tr style=\"text-align: right;\">\n",
       "      <th></th>\n",
       "      <th>FECHA</th>\n",
       "      <th>AAAA</th>\n",
       "      <th>MM</th>\n",
       "      <th>DD</th>\n",
       "    </tr>\n",
       "  </thead>\n",
       "  <tbody>\n",
       "    <tr>\n",
       "      <th>count</th>\n",
       "      <td>717</td>\n",
       "      <td>717.000000</td>\n",
       "      <td>717.000000</td>\n",
       "      <td>717.000000</td>\n",
       "    </tr>\n",
       "    <tr>\n",
       "      <th>mean</th>\n",
       "      <td>2018-09-09 01:36:24.100418304</td>\n",
       "      <td>2018.174338</td>\n",
       "      <td>6.688982</td>\n",
       "      <td>15.960948</td>\n",
       "    </tr>\n",
       "    <tr>\n",
       "      <th>min</th>\n",
       "      <td>2016-01-01 00:00:00</td>\n",
       "      <td>2016.000000</td>\n",
       "      <td>1.000000</td>\n",
       "      <td>1.000000</td>\n",
       "    </tr>\n",
       "    <tr>\n",
       "      <th>25%</th>\n",
       "      <td>2017-04-01 00:00:00</td>\n",
       "      <td>2017.000000</td>\n",
       "      <td>4.000000</td>\n",
       "      <td>9.000000</td>\n",
       "    </tr>\n",
       "    <tr>\n",
       "      <th>50%</th>\n",
       "      <td>2018-07-07 00:00:00</td>\n",
       "      <td>2018.000000</td>\n",
       "      <td>7.000000</td>\n",
       "      <td>16.000000</td>\n",
       "    </tr>\n",
       "    <tr>\n",
       "      <th>75%</th>\n",
       "      <td>2019-12-18 00:00:00</td>\n",
       "      <td>2019.000000</td>\n",
       "      <td>10.000000</td>\n",
       "      <td>23.000000</td>\n",
       "    </tr>\n",
       "    <tr>\n",
       "      <th>max</th>\n",
       "      <td>2021-12-30 00:00:00</td>\n",
       "      <td>2021.000000</td>\n",
       "      <td>12.000000</td>\n",
       "      <td>31.000000</td>\n",
       "    </tr>\n",
       "    <tr>\n",
       "      <th>std</th>\n",
       "      <td>NaN</td>\n",
       "      <td>1.672655</td>\n",
       "      <td>3.575140</td>\n",
       "      <td>8.683358</td>\n",
       "    </tr>\n",
       "  </tbody>\n",
       "</table>\n",
       "</div>"
      ],
      "text/plain": [
       "                               FECHA         AAAA          MM          DD\n",
       "count                            717   717.000000  717.000000  717.000000\n",
       "mean   2018-09-09 01:36:24.100418304  2018.174338    6.688982   15.960948\n",
       "min              2016-01-01 00:00:00  2016.000000    1.000000    1.000000\n",
       "25%              2017-04-01 00:00:00  2017.000000    4.000000    9.000000\n",
       "50%              2018-07-07 00:00:00  2018.000000    7.000000   16.000000\n",
       "75%              2019-12-18 00:00:00  2019.000000   10.000000   23.000000\n",
       "max              2021-12-30 00:00:00  2021.000000   12.000000   31.000000\n",
       "std                              NaN     1.672655    3.575140    8.683358"
      ]
     },
     "execution_count": 26,
     "metadata": {},
     "output_type": "execute_result"
    }
   ],
   "source": [
    "homicidios_victimas.describe()"
   ]
  },
  {
   "cell_type": "markdown",
   "metadata": {},
   "source": [
    "### Usando una funcion personalizada data_type_check importada desde data_utils.py: \n",
    "\n",
    "- mostramos total de nulos, tipo de datos, dimensiones."
   ]
  },
  {
   "cell_type": "code",
   "execution_count": 27,
   "metadata": {},
   "outputs": [
    {
     "name": "stdout",
     "output_type": "stream",
     "text": [
      "\n",
      "========================================\n",
      " Resumen del dataframe:\n",
      "\n",
      "========================================\n",
      "Dimensiones:  (717, 10)\n",
      "               columna  %_no_nulos  %_nulos  total_nulos       tipo_dato\n",
      "0             ID_hecho       100.0      0.0            0          object\n",
      "1                FECHA       100.0      0.0            0  datetime64[ns]\n",
      "2                 AAAA       100.0      0.0            0           int64\n",
      "3                   MM       100.0      0.0            0           int64\n",
      "4                   DD       100.0      0.0            0           int64\n",
      "5                  ROL       100.0      0.0            0          object\n",
      "6              VICTIMA       100.0      0.0            0          object\n",
      "7                 SEXO       100.0      0.0            0          object\n",
      "8                 EDAD       100.0      0.0            0          object\n",
      "9  FECHA_FALLECIMIENTO       100.0      0.0            0          object\n"
     ]
    }
   ],
   "source": [
    "data_type_check(homicidios_victimas)"
   ]
  },
  {
   "cell_type": "markdown",
   "metadata": {},
   "source": [
    "No encontramos datos nulos"
   ]
  },
  {
   "cell_type": "markdown",
   "metadata": {},
   "source": [
    "___"
   ]
  },
  {
   "cell_type": "markdown",
   "metadata": {},
   "source": [
    "### Cambiamos tipos de datos a las columnas FECHA_FALLECIMIENTO y EDAD"
   ]
  },
  {
   "cell_type": "code",
   "execution_count": 28,
   "metadata": {},
   "outputs": [
    {
     "data": {
      "text/plain": [
       "<IntegerArray>\n",
       "[19, 70, 30, 18, 29, 22, 16, 59, 65, 34, 41, 50, 38, 21, 52, 36, 20, 54,  0,\n",
       " 56, 24, 78, 79, 26, 57, 37, 58, 23, 60, 42, 53, 51, 40, 87, 76, 75, 35, 80,\n",
       " 43, 45, 67, 27, 55, 49, 81, 25, 33, 46, 83, 39, 28,  7, 48,  4, 82, 32, 17,\n",
       " 47, 61, 10, 95, 73, 84, 66, 85,  1, 15, 13, 77, 44, 31, 62, 74, 71, 11, 86,\n",
       " 69, 72, 12, 63, 92, 68, 91, 64,  5, 88]\n",
       "Length: 86, dtype: Int64"
      ]
     },
     "execution_count": 28,
     "metadata": {},
     "output_type": "execute_result"
    }
   ],
   "source": [
    "# Convertir la columna a tipo datetime\n",
    "homicidios_victimas[\"FECHA_FALLECIMIENTO\"] = pd.to_datetime(homicidios_victimas[\"FECHA_FALLECIMIENTO\"], format='%Y-%m-%d', errors='coerce')\n",
    "\n",
    "# Una vez convertida a datetime, mantén solo la fecha sin la hora\n",
    "homicidios_victimas[\"FECHA_FALLECIMIENTO\"] = homicidios_victimas[\"FECHA_FALLECIMIENTO\"].dt.date\n",
    "\n",
    "# Reemplazar las fechas con ceros por valores vacíos para facilitar su manipulación\n",
    "homicidios_victimas[\"FECHA_FALLECIMIENTO\"] = homicidios_victimas[\"FECHA_FALLECIMIENTO\"].replace(pd.NaT, \"\")\n",
    "\n",
    "# Convertir la columna de EDAD a numérico y luego a entero\n",
    "homicidios_victimas[\"EDAD\"] = pd.to_numeric(homicidios_victimas[\"EDAD\"], errors=\"coerce\")\n",
    "homicidios_victimas[\"EDAD\"] = homicidios_victimas[\"EDAD\"].astype(\"Int64\")\n",
    "\n",
    "# Utilizar Numpy para reemplazar los valores vacíos o sin datos por NaN y luego convertir a float para evitar errores en las estadísticas\n",
    "homicidios_victimas[\"EDAD\"] = homicidios_victimas[\"EDAD\"].replace([\" \", \"SD\"], np.nan)\n",
    "homicidios_victimas[\"EDAD\"] = homicidios_victimas[\"EDAD\"].fillna(0.0)\n",
    "\n",
    "# Verificar los datos de la columna\n",
    "homicidios_victimas[\"EDAD\"].unique()"
   ]
  },
  {
   "cell_type": "markdown",
   "metadata": {},
   "source": [
    "### Se crea la columna 'Rango etario' basada en la columna 'Edad' para mejorar el análisis de los datos\n"
   ]
  },
  {
   "cell_type": "code",
   "execution_count": 29,
   "metadata": {},
   "outputs": [
    {
     "data": {
      "text/html": [
       "<div>\n",
       "<style scoped>\n",
       "    .dataframe tbody tr th:only-of-type {\n",
       "        vertical-align: middle;\n",
       "    }\n",
       "\n",
       "    .dataframe tbody tr th {\n",
       "        vertical-align: top;\n",
       "    }\n",
       "\n",
       "    .dataframe thead th {\n",
       "        text-align: right;\n",
       "    }\n",
       "</style>\n",
       "<table border=\"1\" class=\"dataframe\">\n",
       "  <thead>\n",
       "    <tr style=\"text-align: right;\">\n",
       "      <th></th>\n",
       "      <th>ID_hecho</th>\n",
       "      <th>FECHA</th>\n",
       "      <th>AAAA</th>\n",
       "      <th>MM</th>\n",
       "      <th>DD</th>\n",
       "      <th>ROL</th>\n",
       "      <th>VICTIMA</th>\n",
       "      <th>SEXO</th>\n",
       "      <th>EDAD</th>\n",
       "      <th>FECHA_FALLECIMIENTO</th>\n",
       "      <th>Rango etario</th>\n",
       "    </tr>\n",
       "  </thead>\n",
       "  <tbody>\n",
       "    <tr>\n",
       "      <th>159</th>\n",
       "      <td>2017-0018</td>\n",
       "      <td>2017-02-09</td>\n",
       "      <td>2017</td>\n",
       "      <td>2</td>\n",
       "      <td>9</td>\n",
       "      <td>CONDUCTOR</td>\n",
       "      <td>MOTO</td>\n",
       "      <td>MASCULINO</td>\n",
       "      <td>30</td>\n",
       "      <td>2017-02-09</td>\n",
       "      <td>Entre 21 y 40</td>\n",
       "    </tr>\n",
       "    <tr>\n",
       "      <th>75</th>\n",
       "      <td>2016-0099</td>\n",
       "      <td>2016-07-29</td>\n",
       "      <td>2016</td>\n",
       "      <td>7</td>\n",
       "      <td>29</td>\n",
       "      <td>CONDUCTOR</td>\n",
       "      <td>CARGAS</td>\n",
       "      <td>MASCULINO</td>\n",
       "      <td>45</td>\n",
       "      <td></td>\n",
       "      <td>Entre 41 y 60</td>\n",
       "    </tr>\n",
       "    <tr>\n",
       "      <th>673</th>\n",
       "      <td>2021-0054</td>\n",
       "      <td>2021-06-22</td>\n",
       "      <td>2021</td>\n",
       "      <td>6</td>\n",
       "      <td>22</td>\n",
       "      <td>CONDUCTOR</td>\n",
       "      <td>MOTO</td>\n",
       "      <td>MASCULINO</td>\n",
       "      <td>41</td>\n",
       "      <td>2021-06-22</td>\n",
       "      <td>Entre 41 y 60</td>\n",
       "    </tr>\n",
       "  </tbody>\n",
       "</table>\n",
       "</div>"
      ],
      "text/plain": [
       "      ID_hecho      FECHA  AAAA  MM  DD        ROL VICTIMA       SEXO  EDAD  \\\n",
       "159  2017-0018 2017-02-09  2017   2   9  CONDUCTOR    MOTO  MASCULINO    30   \n",
       "75   2016-0099 2016-07-29  2016   7  29  CONDUCTOR  CARGAS  MASCULINO    45   \n",
       "673  2021-0054 2021-06-22  2021   6  22  CONDUCTOR    MOTO  MASCULINO    41   \n",
       "\n",
       "    FECHA_FALLECIMIENTO   Rango etario  \n",
       "159          2017-02-09  Entre 21 y 40  \n",
       "75                       Entre 41 y 60  \n",
       "673          2021-06-22  Entre 41 y 60  "
      ]
     },
     "execution_count": 29,
     "metadata": {},
     "output_type": "execute_result"
    }
   ],
   "source": [
    "\n",
    "# Utilizamos la función `pd.cut()`, que permite agrupar valores numéricos en intervalos o categorías\n",
    "\n",
    "# Definimos los límites de los rangos etarios y las etiquetas correspondientes\n",
    "rangos_edades = [0, 20, 40, 60, 80, 100]\n",
    "etiquetas_edades = ['Menos de 20', 'Entre 21 y 40', 'Entre 41 y 60', 'Entre 61 y 80', 'Más de 80']\n",
    "\n",
    "# Utilizamos pd.cut() para crear la columna de rango etario\n",
    "homicidios_victimas['Rango etario'] = pd.cut(homicidios_victimas['EDAD'], bins=rangos_edades, labels=etiquetas_edades, right=False)\n",
    "\n",
    "# Mostramos las primeras 3 filas del DataFrame\n",
    "homicidios_victimas.sample(3)\n"
   ]
  },
  {
   "cell_type": "markdown",
   "metadata": {},
   "source": [
    "Estandarizamos mayusculas y minusculas"
   ]
  },
  {
   "cell_type": "code",
   "execution_count": 30,
   "metadata": {},
   "outputs": [
    {
     "data": {
      "text/plain": [
       "Index(['ID', 'Fecha', 'Año', 'Mes', 'Día', 'Rol', 'Víctima', 'Sexo', 'Edad',\n",
       "       'Fecha fallecimiento', 'Rango etario'],\n",
       "      dtype='object')"
      ]
     },
     "execution_count": 30,
     "metadata": {},
     "output_type": "execute_result"
    }
   ],
   "source": [
    "# Se coloca la primera en mayúscula\n",
    "homicidios_victimas.columns = [x.capitalize() for x in homicidios_victimas.columns]\n",
    "# Se reemplazan los guiones por espacios\n",
    "homicidios_victimas.columns = homicidios_victimas.columns.str.replace('_', ' ')\n",
    "# Se renombran algunas columnas\n",
    "homicidios_victimas = homicidios_victimas.rename(columns={'Id hecho': 'ID',\n",
    "                                                      'Aaaa':'Año',\n",
    "                                                      'Mm':'Mes',\n",
    "                                                      'Dd':'Día',\n",
    "                                                      'Victima':'Víctima'})\n",
    "homicidios_victimas.columns"
   ]
  },
  {
   "cell_type": "markdown",
   "metadata": {},
   "source": [
    "___"
   ]
  },
  {
   "cell_type": "markdown",
   "metadata": {},
   "source": [
    "Encontramos similitud en las columnas de ambos dataset, vamos a buscar el mismo id de ejemplo para notarlo mejor.\n"
   ]
  },
  {
   "cell_type": "code",
   "execution_count": 31,
   "metadata": {},
   "outputs": [
    {
     "data": {
      "text/html": [
       "<div>\n",
       "<style scoped>\n",
       "    .dataframe tbody tr th:only-of-type {\n",
       "        vertical-align: middle;\n",
       "    }\n",
       "\n",
       "    .dataframe tbody tr th {\n",
       "        vertical-align: top;\n",
       "    }\n",
       "\n",
       "    .dataframe thead th {\n",
       "        text-align: right;\n",
       "    }\n",
       "</style>\n",
       "<table border=\"1\" class=\"dataframe\">\n",
       "  <thead>\n",
       "    <tr style=\"text-align: right;\">\n",
       "      <th></th>\n",
       "      <th>ID</th>\n",
       "      <th>Num víctimas</th>\n",
       "      <th>Fecha</th>\n",
       "      <th>Año</th>\n",
       "      <th>Mes</th>\n",
       "      <th>Día</th>\n",
       "      <th>Hora completa</th>\n",
       "      <th>Hora</th>\n",
       "      <th>Lugar del hecho</th>\n",
       "      <th>Tipo de calle</th>\n",
       "      <th>...</th>\n",
       "      <th>Comuna</th>\n",
       "      <th>Xy (caba)</th>\n",
       "      <th>Pos x</th>\n",
       "      <th>Pos y</th>\n",
       "      <th>Participantes</th>\n",
       "      <th>Victima</th>\n",
       "      <th>Acusado</th>\n",
       "      <th>Coordenada</th>\n",
       "      <th>Barrios</th>\n",
       "      <th>Día semana</th>\n",
       "    </tr>\n",
       "  </thead>\n",
       "  <tbody>\n",
       "    <tr>\n",
       "      <th>275</th>\n",
       "      <td>2018-0001</td>\n",
       "      <td>1</td>\n",
       "      <td>2018-01-01</td>\n",
       "      <td>2018</td>\n",
       "      <td>1</td>\n",
       "      <td>1</td>\n",
       "      <td>22:50:00</td>\n",
       "      <td>22</td>\n",
       "      <td>San Juan Av. Y Rincón</td>\n",
       "      <td>AVENIDA</td>\n",
       "      <td>...</td>\n",
       "      <td>COMUNA 3</td>\n",
       "      <td>Point (106229.70400707 100696.43939679)</td>\n",
       "      <td>-58.395368</td>\n",
       "      <td>-34.622973</td>\n",
       "      <td>PEATON-MOTO</td>\n",
       "      <td>PEATON</td>\n",
       "      <td>MOTO</td>\n",
       "      <td>-58.39536773,-34.62297346</td>\n",
       "      <td>BALVANERA - SAN CRISTOBAL</td>\n",
       "      <td>Lunes</td>\n",
       "    </tr>\n",
       "  </tbody>\n",
       "</table>\n",
       "<p>1 rows × 23 columns</p>\n",
       "</div>"
      ],
      "text/plain": [
       "            ID  Num víctimas      Fecha   Año  Mes  Día Hora completa  Hora  \\\n",
       "275  2018-0001             1 2018-01-01  2018    1    1      22:50:00    22   \n",
       "\n",
       "           Lugar del hecho Tipo de calle  ...    Comuna  \\\n",
       "275  San Juan Av. Y Rincón       AVENIDA  ...  COMUNA 3   \n",
       "\n",
       "                                   Xy (caba)      Pos x      Pos y  \\\n",
       "275  Point (106229.70400707 100696.43939679) -58.395368 -34.622973   \n",
       "\n",
       "    Participantes  Victima  Acusado                 Coordenada  \\\n",
       "275   PEATON-MOTO   PEATON     MOTO  -58.39536773,-34.62297346   \n",
       "\n",
       "                       Barrios Día semana  \n",
       "275  BALVANERA - SAN CRISTOBAL      Lunes  \n",
       "\n",
       "[1 rows x 23 columns]"
      ]
     },
     "execution_count": 31,
     "metadata": {},
     "output_type": "execute_result"
    }
   ],
   "source": [
    "#Se busca un registro para comparar con el mismo registro en el otro dataset\n",
    "homicidios_hechos[homicidios_hechos[\"ID\"]==\"2018-0001\"]"
   ]
  },
  {
   "cell_type": "code",
   "execution_count": 32,
   "metadata": {},
   "outputs": [
    {
     "data": {
      "text/html": [
       "<div>\n",
       "<style scoped>\n",
       "    .dataframe tbody tr th:only-of-type {\n",
       "        vertical-align: middle;\n",
       "    }\n",
       "\n",
       "    .dataframe tbody tr th {\n",
       "        vertical-align: top;\n",
       "    }\n",
       "\n",
       "    .dataframe thead th {\n",
       "        text-align: right;\n",
       "    }\n",
       "</style>\n",
       "<table border=\"1\" class=\"dataframe\">\n",
       "  <thead>\n",
       "    <tr style=\"text-align: right;\">\n",
       "      <th></th>\n",
       "      <th>ID</th>\n",
       "      <th>Fecha</th>\n",
       "      <th>Año</th>\n",
       "      <th>Mes</th>\n",
       "      <th>Día</th>\n",
       "      <th>Rol</th>\n",
       "      <th>Víctima</th>\n",
       "      <th>Sexo</th>\n",
       "      <th>Edad</th>\n",
       "      <th>Fecha fallecimiento</th>\n",
       "      <th>Rango etario</th>\n",
       "    </tr>\n",
       "  </thead>\n",
       "  <tbody>\n",
       "    <tr>\n",
       "      <th>286</th>\n",
       "      <td>2018-0001</td>\n",
       "      <td>2018-01-01</td>\n",
       "      <td>2018</td>\n",
       "      <td>1</td>\n",
       "      <td>1</td>\n",
       "      <td>PEATON</td>\n",
       "      <td>PEATON</td>\n",
       "      <td>MASCULINO</td>\n",
       "      <td>83</td>\n",
       "      <td>2018-01-02</td>\n",
       "      <td>Más de 80</td>\n",
       "    </tr>\n",
       "  </tbody>\n",
       "</table>\n",
       "</div>"
      ],
      "text/plain": [
       "            ID      Fecha   Año  Mes  Día     Rol Víctima       Sexo  Edad  \\\n",
       "286  2018-0001 2018-01-01  2018    1    1  PEATON  PEATON  MASCULINO    83   \n",
       "\n",
       "    Fecha fallecimiento Rango etario  \n",
       "286          2018-01-02    Más de 80  "
      ]
     },
     "execution_count": 32,
     "metadata": {},
     "output_type": "execute_result"
    }
   ],
   "source": [
    "homicidios_victimas[homicidios_victimas[\"ID\"]==\"2018-0001\"]"
   ]
  },
  {
   "cell_type": "markdown",
   "metadata": {},
   "source": [
    "Vemos que se repite Fecha, año, mes, dia, victima. "
   ]
  },
  {
   "cell_type": "code",
   "execution_count": 33,
   "metadata": {},
   "outputs": [
    {
     "data": {
      "text/plain": [
       "Index(['ID', 'Rol', 'Sexo', 'Edad', 'Fecha fallecimiento', 'Rango etario'], dtype='object')"
      ]
     },
     "execution_count": 33,
     "metadata": {},
     "output_type": "execute_result"
    }
   ],
   "source": [
    "# Eliminamos la scolumnas repetidas\n",
    "homicidios_victimas = homicidios_victimas.drop(['Fecha', 'Año', 'Mes', 'Día', 'Víctima'], axis=1)\n",
    "homicidios_victimas.columns"
   ]
  },
  {
   "cell_type": "markdown",
   "metadata": {},
   "source": [
    "___"
   ]
  },
  {
   "cell_type": "markdown",
   "metadata": {},
   "source": [
    "# Unimos los dataset usando merge"
   ]
  },
  {
   "cell_type": "code",
   "execution_count": 34,
   "metadata": {},
   "outputs": [
    {
     "data": {
      "text/plain": [
       "Index(['ID', 'Rol', 'Sexo', 'Edad', 'Fecha fallecimiento', 'Rango etario',\n",
       "       'Num víctimas', 'Fecha', 'Año', 'Mes', 'Día', 'Hora completa', 'Hora',\n",
       "       'Lugar del hecho', 'Tipo de calle', 'Calle', 'Cruce',\n",
       "       'Dirección normalizada', 'Comuna', 'Xy (caba)', 'Pos x', 'Pos y',\n",
       "       'Participantes', 'Victima', 'Acusado', 'Coordenada', 'Barrios',\n",
       "       'Día semana'],\n",
       "      dtype='object')"
      ]
     },
     "execution_count": 34,
     "metadata": {},
     "output_type": "execute_result"
    }
   ],
   "source": [
    "siniestro_vial= homicidios_victimas.merge(homicidios_hechos, on=\"ID\", how=\"left\")\n",
    "siniestro_vial.columns"
   ]
  },
  {
   "cell_type": "code",
   "execution_count": 35,
   "metadata": {},
   "outputs": [
    {
     "name": "stdout",
     "output_type": "stream",
     "text": [
      "\n",
      "========================================\n",
      " Resumen del dataframe:\n",
      "\n",
      "========================================\n",
      "Dimensiones:  (717, 28)\n",
      "                  columna  %_no_nulos  %_nulos  total_nulos       tipo_dato\n",
      "0                      ID      100.00     0.00            0          object\n",
      "1                     Rol      100.00     0.00            0          object\n",
      "2                    Sexo      100.00     0.00            0          object\n",
      "3                    Edad      100.00     0.00            0           Int64\n",
      "4     Fecha fallecimiento      100.00     0.00            0          object\n",
      "5            Rango etario      100.00     0.00            0        category\n",
      "6            Num víctimas      100.00     0.00            0           int64\n",
      "7                   Fecha      100.00     0.00            0  datetime64[ns]\n",
      "8                     Año      100.00     0.00            0           int64\n",
      "9                     Mes      100.00     0.00            0           int64\n",
      "10                    Día      100.00     0.00            0           int64\n",
      "11          Hora completa      100.00     0.00            0          object\n",
      "12                   Hora       99.86     0.14            1           Int64\n",
      "13        Lugar del hecho      100.00     0.00            0          object\n",
      "14          Tipo de calle      100.00     0.00            0          object\n",
      "15                  Calle       99.86     0.14            1          object\n",
      "16                  Cruce       75.31    24.69          177          object\n",
      "17  Dirección normalizada       98.74     1.26            9          object\n",
      "18                 Comuna      100.00     0.00            0          object\n",
      "19              Xy (caba)      100.00     0.00            0          object\n",
      "20                  Pos x      100.00     0.00            0         float64\n",
      "21                  Pos y      100.00     0.00            0         float64\n",
      "22          Participantes      100.00     0.00            0          object\n",
      "23                Victima      100.00     0.00            0          object\n",
      "24                Acusado      100.00     0.00            0          object\n",
      "25             Coordenada      100.00     0.00            0          object\n",
      "26                Barrios       99.72     0.28            2          object\n",
      "27             Día semana      100.00     0.00            0          object\n"
     ]
    }
   ],
   "source": [
    "data_type_check(siniestro_vial)"
   ]
  },
  {
   "cell_type": "markdown",
   "metadata": {},
   "source": [
    "Encontramos algunos nulos para limpiar y cambiamos algunos tipos de datos"
   ]
  },
  {
   "cell_type": "code",
   "execution_count": 36,
   "metadata": {},
   "outputs": [],
   "source": [
    "siniestro_vial [\"Num víctimas\"] = siniestro_vial [\"Num víctimas\"].fillna(0.0)\n",
    "siniestro_vial [\"Num víctimas\"] = siniestro_vial [\"Num víctimas\"].astype (\"Int64\")\n",
    "\n",
    "siniestro_vial [\"Año\"]= siniestro_vial [\"Año\"].astype (\"Int64\")\n",
    "siniestro_vial [\"Mes\"]= siniestro_vial [\"Mes\"].astype (\"Int64\")\n",
    "siniestro_vial [\"Día\"]= siniestro_vial [\"Día\"].astype (\"Int64\")\n"
   ]
  },
  {
   "cell_type": "code",
   "execution_count": 37,
   "metadata": {},
   "outputs": [
    {
     "data": {
      "text/html": [
       "<div>\n",
       "<style scoped>\n",
       "    .dataframe tbody tr th:only-of-type {\n",
       "        vertical-align: middle;\n",
       "    }\n",
       "\n",
       "    .dataframe tbody tr th {\n",
       "        vertical-align: top;\n",
       "    }\n",
       "\n",
       "    .dataframe thead th {\n",
       "        text-align: right;\n",
       "    }\n",
       "</style>\n",
       "<table border=\"1\" class=\"dataframe\">\n",
       "  <thead>\n",
       "    <tr style=\"text-align: right;\">\n",
       "      <th></th>\n",
       "      <th>ID</th>\n",
       "      <th>Rol</th>\n",
       "      <th>Sexo</th>\n",
       "      <th>Edad</th>\n",
       "      <th>Fecha fallecimiento</th>\n",
       "      <th>Rango etario</th>\n",
       "      <th>Num víctimas</th>\n",
       "      <th>Fecha</th>\n",
       "      <th>Año</th>\n",
       "      <th>Mes</th>\n",
       "      <th>...</th>\n",
       "      <th>Comuna</th>\n",
       "      <th>Xy (caba)</th>\n",
       "      <th>Pos x</th>\n",
       "      <th>Pos y</th>\n",
       "      <th>Participantes</th>\n",
       "      <th>Victima</th>\n",
       "      <th>Acusado</th>\n",
       "      <th>Coordenada</th>\n",
       "      <th>Barrios</th>\n",
       "      <th>Día semana</th>\n",
       "    </tr>\n",
       "  </thead>\n",
       "  <tbody>\n",
       "    <tr>\n",
       "      <th>116</th>\n",
       "      <td>2016-0145</td>\n",
       "      <td>CONDUCTOR</td>\n",
       "      <td>MASCULINO</td>\n",
       "      <td>39</td>\n",
       "      <td>2016-11-07</td>\n",
       "      <td>Entre 21 y 40</td>\n",
       "      <td>1</td>\n",
       "      <td>2016-11-07</td>\n",
       "      <td>2016</td>\n",
       "      <td>11</td>\n",
       "      <td>...</td>\n",
       "      <td>COMUNA 13</td>\n",
       "      <td>Point (101657.76119068 107735.39237736)</td>\n",
       "      <td>-58.445236</td>\n",
       "      <td>-34.559539</td>\n",
       "      <td>MOTO-AUTO</td>\n",
       "      <td>MOTO</td>\n",
       "      <td>AUTO</td>\n",
       "      <td>-58.44523595,-34.55953855</td>\n",
       "      <td>BELGRANO - COLEGIALES - NUÃ‘EZ</td>\n",
       "      <td>Lunes</td>\n",
       "    </tr>\n",
       "    <tr>\n",
       "      <th>693</th>\n",
       "      <td>2021-0074</td>\n",
       "      <td>CONDUCTOR</td>\n",
       "      <td>MASCULINO</td>\n",
       "      <td>55</td>\n",
       "      <td>2021-09-20</td>\n",
       "      <td>Entre 41 y 60</td>\n",
       "      <td>1</td>\n",
       "      <td>2021-09-20</td>\n",
       "      <td>2021</td>\n",
       "      <td>9</td>\n",
       "      <td>...</td>\n",
       "      <td>COMUNA 12</td>\n",
       "      <td>Point (96563.66494817 108815.73881056)</td>\n",
       "      <td>-58.500738</td>\n",
       "      <td>-34.549795</td>\n",
       "      <td>MULTIPLE</td>\n",
       "      <td>MOTO</td>\n",
       "      <td>MULTIPLE</td>\n",
       "      <td>-58.5007381,-34.5497951</td>\n",
       "      <td>COGHLAN - SAAVEDRA - VILLA PUEYRREDON - VILLA ...</td>\n",
       "      <td>Lunes</td>\n",
       "    </tr>\n",
       "  </tbody>\n",
       "</table>\n",
       "<p>2 rows × 28 columns</p>\n",
       "</div>"
      ],
      "text/plain": [
       "            ID        Rol       Sexo  Edad Fecha fallecimiento   Rango etario  \\\n",
       "116  2016-0145  CONDUCTOR  MASCULINO    39          2016-11-07  Entre 21 y 40   \n",
       "693  2021-0074  CONDUCTOR  MASCULINO    55          2021-09-20  Entre 41 y 60   \n",
       "\n",
       "     Num víctimas      Fecha   Año  Mes  ...     Comuna  \\\n",
       "116             1 2016-11-07  2016   11  ...  COMUNA 13   \n",
       "693             1 2021-09-20  2021    9  ...  COMUNA 12   \n",
       "\n",
       "                                   Xy (caba)      Pos x      Pos y  \\\n",
       "116  Point (101657.76119068 107735.39237736) -58.445236 -34.559539   \n",
       "693   Point (96563.66494817 108815.73881056) -58.500738 -34.549795   \n",
       "\n",
       "    Participantes Victima   Acusado                 Coordenada  \\\n",
       "116     MOTO-AUTO    MOTO      AUTO  -58.44523595,-34.55953855   \n",
       "693      MULTIPLE    MOTO  MULTIPLE    -58.5007381,-34.5497951   \n",
       "\n",
       "                                               Barrios Día semana  \n",
       "116                     BELGRANO - COLEGIALES - NUÃ‘EZ      Lunes  \n",
       "693  COGHLAN - SAAVEDRA - VILLA PUEYRREDON - VILLA ...      Lunes  \n",
       "\n",
       "[2 rows x 28 columns]"
      ]
     },
     "execution_count": 37,
     "metadata": {},
     "output_type": "execute_result"
    }
   ],
   "source": [
    "siniestro_vial.sample(2)"
   ]
  },
  {
   "cell_type": "markdown",
   "metadata": {},
   "source": [
    "Ordenamos las columnas"
   ]
  },
  {
   "cell_type": "code",
   "execution_count": 38,
   "metadata": {},
   "outputs": [
    {
     "data": {
      "text/plain": [
       "Index(['ID', 'Rol', 'Acusado', 'Victima', 'Sexo', 'Edad', 'Rango etario',\n",
       "       'Año', 'Mes', 'Día', 'Día semana', 'Hora', 'Hora completa',\n",
       "       'Num víctimas', 'Participantes', 'Fecha fallecimiento',\n",
       "       'Lugar del hecho', 'Tipo de calle', 'Calle', 'Cruce',\n",
       "       'Dirección normalizada', 'Comuna', 'Barrios', 'Coordenada', 'Pos x',\n",
       "       'Pos y'],\n",
       "      dtype='object')"
      ]
     },
     "execution_count": 38,
     "metadata": {},
     "output_type": "execute_result"
    }
   ],
   "source": [
    "#Creo una lista con el orden \n",
    "ordenadas=[\"ID\", \"Rol\", \"Acusado\", \"Victima\", \"Sexo\", \"Edad\", \"Rango etario\", \"Año\", \"Mes\", \"Día\", \"Día semana\", \"Hora\", \"Hora completa\", \"Num víctimas\", \"Participantes\", \"Fecha fallecimiento\", \"Lugar del hecho\", \"Tipo de calle\", \"Calle\", \"Cruce\", \"Dirección normalizada\", \"Comuna\", \"Barrios\", \"Coordenada\",\"Pos x\", \"Pos y\"]\n",
    "\n",
    "#Reorganizo el dataframe untilizando la lista y asignandola nuevamente aldataframe siniestros\n",
    "siniestro_listo = siniestro_vial[ordenadas]\n",
    "siniestro_listo.columns"
   ]
  },
  {
   "cell_type": "code",
   "execution_count": 39,
   "metadata": {},
   "outputs": [
    {
     "name": "stdout",
     "output_type": "stream",
     "text": [
      "\n",
      "========================================\n",
      " Resumen del dataframe:\n",
      "\n",
      "========================================\n",
      "Dimensiones:  (717, 26)\n",
      "                  columna  %_no_nulos  %_nulos  total_nulos tipo_dato\n",
      "0                      ID      100.00     0.00            0    object\n",
      "1                     Rol      100.00     0.00            0    object\n",
      "2                 Acusado      100.00     0.00            0    object\n",
      "3                 Victima      100.00     0.00            0    object\n",
      "4                    Sexo      100.00     0.00            0    object\n",
      "5                    Edad      100.00     0.00            0     Int64\n",
      "6            Rango etario      100.00     0.00            0  category\n",
      "7                     Año      100.00     0.00            0     Int64\n",
      "8                     Mes      100.00     0.00            0     Int64\n",
      "9                     Día      100.00     0.00            0     Int64\n",
      "10             Día semana      100.00     0.00            0    object\n",
      "11                   Hora       99.86     0.14            1     Int64\n",
      "12          Hora completa      100.00     0.00            0    object\n",
      "13           Num víctimas      100.00     0.00            0     Int64\n",
      "14          Participantes      100.00     0.00            0    object\n",
      "15    Fecha fallecimiento      100.00     0.00            0    object\n",
      "16        Lugar del hecho      100.00     0.00            0    object\n",
      "17          Tipo de calle      100.00     0.00            0    object\n",
      "18                  Calle       99.86     0.14            1    object\n",
      "19                  Cruce       75.31    24.69          177    object\n",
      "20  Dirección normalizada       98.74     1.26            9    object\n",
      "21                 Comuna      100.00     0.00            0    object\n",
      "22                Barrios       99.72     0.28            2    object\n",
      "23             Coordenada      100.00     0.00            0    object\n",
      "24                  Pos x      100.00     0.00            0   float64\n",
      "25                  Pos y      100.00     0.00            0   float64\n"
     ]
    }
   ],
   "source": [
    "data_type_check(siniestro_listo)"
   ]
  },
  {
   "cell_type": "markdown",
   "metadata": {},
   "source": [
    "Antes de guardar hacemos una limpieza de los datos faltantes:"
   ]
  },
  {
   "cell_type": "markdown",
   "metadata": {},
   "source": [
    "Eliminamos filas con valores faltantes para Acusado, Victima, Año, Mes Dia, Dia semana, Hora completa, Participantes, Lugar del hecho, Tipo de calle, Calle, Direccion normalizada, Comuna, Barrios, Coordenada x, Coordenada y, Pos x, Pos y.\n"
   ]
  },
  {
   "cell_type": "markdown",
   "metadata": {},
   "source": [
    "# LOAD (guardamos)"
   ]
  },
  {
   "cell_type": "markdown",
   "metadata": {},
   "source": [
    "Vemos como quedo nuestro ETL antes de guardar:"
   ]
  },
  {
   "cell_type": "code",
   "execution_count": 40,
   "metadata": {},
   "outputs": [
    {
     "name": "stdout",
     "output_type": "stream",
     "text": [
      "\n",
      "========================================\n",
      " Resumen del dataframe:\n",
      "\n",
      "========================================\n",
      "Dimensiones:  (717, 26)\n",
      "                  columna  %_no_nulos  %_nulos  total_nulos tipo_dato\n",
      "0                      ID      100.00     0.00            0    object\n",
      "1                     Rol      100.00     0.00            0    object\n",
      "2                 Acusado      100.00     0.00            0    object\n",
      "3                 Victima      100.00     0.00            0    object\n",
      "4                    Sexo      100.00     0.00            0    object\n",
      "5                    Edad      100.00     0.00            0     Int64\n",
      "6            Rango etario      100.00     0.00            0  category\n",
      "7                     Año      100.00     0.00            0     Int64\n",
      "8                     Mes      100.00     0.00            0     Int64\n",
      "9                     Día      100.00     0.00            0     Int64\n",
      "10             Día semana      100.00     0.00            0    object\n",
      "11                   Hora       99.86     0.14            1     Int64\n",
      "12          Hora completa      100.00     0.00            0    object\n",
      "13           Num víctimas      100.00     0.00            0     Int64\n",
      "14          Participantes      100.00     0.00            0    object\n",
      "15    Fecha fallecimiento      100.00     0.00            0    object\n",
      "16        Lugar del hecho      100.00     0.00            0    object\n",
      "17          Tipo de calle      100.00     0.00            0    object\n",
      "18                  Calle       99.86     0.14            1    object\n",
      "19                  Cruce       75.31    24.69          177    object\n",
      "20  Dirección normalizada       98.74     1.26            9    object\n",
      "21                 Comuna      100.00     0.00            0    object\n",
      "22                Barrios       99.72     0.28            2    object\n",
      "23             Coordenada      100.00     0.00            0    object\n",
      "24                  Pos x      100.00     0.00            0   float64\n",
      "25                  Pos y      100.00     0.00            0   float64\n"
     ]
    }
   ],
   "source": [
    "data_type_check(siniestro_listo)"
   ]
  },
  {
   "cell_type": "markdown",
   "metadata": {},
   "source": [
    "Guardamos en csv"
   ]
  },
  {
   "cell_type": "code",
   "execution_count": 41,
   "metadata": {},
   "outputs": [],
   "source": [
    "siniestro_listo.to_csv(\"../0 Dataset/siniestro_listo.csv\", index=False)"
   ]
  },
  {
   "cell_type": "markdown",
   "metadata": {},
   "source": [
    "___"
   ]
  },
  {
   "cell_type": "markdown",
   "metadata": {},
   "source": [
    "## Informacion de la poblacion para KPIS"
   ]
  },
  {
   "cell_type": "markdown",
   "metadata": {},
   "source": [
    "Opcional \n",
    "%pip install xlrd"
   ]
  },
  {
   "cell_type": "code",
   "execution_count": 42,
   "metadata": {},
   "outputs": [
    {
     "name": "stdout",
     "output_type": "stream",
     "text": [
      "<class 'pandas.core.frame.DataFrame'>\n",
      "RangeIndex: 16 entries, 0 to 15\n",
      "Data columns (total 17 columns):\n",
      " #   Column  Non-Null Count  Dtype \n",
      "---  ------  --------------  ----- \n",
      " 0   Comuna  16 non-null     object\n",
      " 1   2010    16 non-null     int64 \n",
      " 2   2011    16 non-null     int64 \n",
      " 3   2012    16 non-null     int64 \n",
      " 4   2013    16 non-null     int64 \n",
      " 5   2014    16 non-null     int64 \n",
      " 6   2015    16 non-null     int64 \n",
      " 7   2016    16 non-null     int64 \n",
      " 8   2017    16 non-null     int64 \n",
      " 9   2018    16 non-null     int64 \n",
      " 10  2019    16 non-null     int64 \n",
      " 11  2020    16 non-null     int64 \n",
      " 12  2021    16 non-null     int64 \n",
      " 13  2022    16 non-null     int64 \n",
      " 14  2023    16 non-null     int64 \n",
      " 15  2024    16 non-null     int64 \n",
      " 16  2025    16 non-null     int64 \n",
      "dtypes: int64(16), object(1)\n",
      "memory usage: 2.2+ KB\n"
     ]
    }
   ],
   "source": [
    "pobla = pd.read_excel(\"../0 Dataset/PBP_CO_1020.xls\", skiprows=2, nrows=16)\n",
    "pobla.info()"
   ]
  },
  {
   "cell_type": "code",
   "execution_count": 43,
   "metadata": {},
   "outputs": [
    {
     "name": "stdout",
     "output_type": "stream",
     "text": [
      "<class 'pandas.core.frame.DataFrame'>\n",
      "RangeIndex: 15 entries, 1 to 15\n",
      "Data columns (total 7 columns):\n",
      " #   Column  Non-Null Count  Dtype \n",
      "---  ------  --------------  ----- \n",
      " 0   COMUNA  15 non-null     object\n",
      " 1   2016    15 non-null     int64 \n",
      " 2   2017    15 non-null     int64 \n",
      " 3   2018    15 non-null     int64 \n",
      " 4   2019    15 non-null     int64 \n",
      " 5   2020    15 non-null     int64 \n",
      " 6   2021    15 non-null     int64 \n",
      "dtypes: int64(6), object(1)\n",
      "memory usage: 972.0+ bytes\n"
     ]
    }
   ],
   "source": [
    "pobla.drop(0, inplace=True)\n",
    "\n",
    "# Eliminar columnas que no nos sirven\n",
    "pobla = pobla.drop(columns=[2010, 2011,2012,2013,2014,2015,2022,2023,2024,2025])\n",
    "pobla.rename(columns={'Comuna':'COMUNA'}, inplace=True)\n",
    "pobla.info()"
   ]
  },
  {
   "cell_type": "code",
   "execution_count": 44,
   "metadata": {},
   "outputs": [],
   "source": [
    "pobla.to_csv('../0 Dataset/poblacion_limpia.csv', index=False)"
   ]
  },
  {
   "cell_type": "code",
   "execution_count": 45,
   "metadata": {},
   "outputs": [
    {
     "data": {
      "text/html": [
       "<div>\n",
       "<style scoped>\n",
       "    .dataframe tbody tr th:only-of-type {\n",
       "        vertical-align: middle;\n",
       "    }\n",
       "\n",
       "    .dataframe tbody tr th {\n",
       "        vertical-align: top;\n",
       "    }\n",
       "\n",
       "    .dataframe thead th {\n",
       "        text-align: right;\n",
       "    }\n",
       "</style>\n",
       "<table border=\"1\" class=\"dataframe\">\n",
       "  <thead>\n",
       "    <tr style=\"text-align: right;\">\n",
       "      <th></th>\n",
       "      <th>COMUNA</th>\n",
       "      <th>2016</th>\n",
       "      <th>2017</th>\n",
       "      <th>2018</th>\n",
       "      <th>2019</th>\n",
       "      <th>2020</th>\n",
       "      <th>2021</th>\n",
       "    </tr>\n",
       "  </thead>\n",
       "  <tbody>\n",
       "    <tr>\n",
       "      <th>15</th>\n",
       "      <td>15</td>\n",
       "      <td>182390</td>\n",
       "      <td>182409</td>\n",
       "      <td>182427</td>\n",
       "      <td>182445</td>\n",
       "      <td>182465</td>\n",
       "      <td>182485</td>\n",
       "    </tr>\n",
       "    <tr>\n",
       "      <th>9</th>\n",
       "      <td>9</td>\n",
       "      <td>170353</td>\n",
       "      <td>170605</td>\n",
       "      <td>170842</td>\n",
       "      <td>171062</td>\n",
       "      <td>171264</td>\n",
       "      <td>171444</td>\n",
       "    </tr>\n",
       "  </tbody>\n",
       "</table>\n",
       "</div>"
      ],
      "text/plain": [
       "   COMUNA    2016    2017    2018    2019    2020    2021\n",
       "15     15  182390  182409  182427  182445  182465  182485\n",
       "9       9  170353  170605  170842  171062  171264  171444"
      ]
     },
     "execution_count": 45,
     "metadata": {},
     "output_type": "execute_result"
    }
   ],
   "source": [
    "pobla.sample(2)"
   ]
  }
 ],
 "metadata": {
  "kernelspec": {
   "display_name": "Python 3",
   "language": "python",
   "name": "python3"
  },
  "language_info": {
   "codemirror_mode": {
    "name": "ipython",
    "version": 3
   },
   "file_extension": ".py",
   "mimetype": "text/x-python",
   "name": "python",
   "nbconvert_exporter": "python",
   "pygments_lexer": "ipython3",
   "version": "3.10.11"
  }
 },
 "nbformat": 4,
 "nbformat_minor": 2
}
