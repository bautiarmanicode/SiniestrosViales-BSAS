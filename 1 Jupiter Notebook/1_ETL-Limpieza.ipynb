{
 "cells": [
  {
   "cell_type": "markdown",
   "metadata": {},
   "source": [
    "# 🛠️ ETL (Extract, Transform, Load)\n",
    "- **Extraccion de datos**:  Leer y cargar los datos desde las fuentes de datos (archivos, bases de datos, etc.).\n",
    "\n",
    "- **Transformacion de datos**: Realizar las transformaciones necesarias en los datos, como: \n",
    "  - Renombrar columnas para mantener consistencia.\n",
    "  - Convertir tipos de datos.\n",
    "  - Eliminar columnas no relevantes o con demasiados valores faltantes.\n",
    "  - Aplicar cualquier otra transformación requerida (cálculos, operaciones, etc.).\n",
    "- **Carga de datos**: Combinar los conjuntos de datos transformados (si es necesario) y cargarlos en una estructura de datos adecuada (DataFrame, base de datos, etc.) para su posterior análisis."
   ]
  },
  {
   "cell_type": "markdown",
   "metadata": {},
   "source": [
    "Importamos los modulos que vamos a usar"
   ]
  },
  {
   "cell_type": "code",
   "execution_count": 1,
   "metadata": {},
   "outputs": [],
   "source": [
    "from data_utils import data_type_check,data_type_check_EDA\n",
    "import re\n",
    "import numpy as np \n",
    "import pandas as pd \n",
    "import numpy as np\n",
    "from sklearn.impute import SimpleImputer"
   ]
  },
  {
   "cell_type": "markdown",
   "metadata": {},
   "source": [
    "### 📦 Extraccion de los datos y primera exploración\n"
   ]
  },
  {
   "cell_type": "code",
   "execution_count": 2,
   "metadata": {},
   "outputs": [],
   "source": [
    "homicidios_hechos = pd.read_excel(\"../0 Dataset/homicidios.xlsx\", sheet_name=\"HECHOS\")\n",
    "homicidios_victimas = pd.read_excel(\"../0 Dataset/homicidios.xlsx\", sheet_name=\"VICTIMAS\")\n",
    "comunas = pd.read_excel(\"../0 Dataset/comunas.xlsx\")"
   ]
  },
  {
   "cell_type": "markdown",
   "metadata": {},
   "source": [
    "___"
   ]
  },
  {
   "cell_type": "markdown",
   "metadata": {},
   "source": [
    "# 🔁 TRANSFORM Dataset homicidios_hechos"
   ]
  },
  {
   "cell_type": "code",
   "execution_count": 3,
   "metadata": {},
   "outputs": [
    {
     "name": "stdout",
     "output_type": "stream",
     "text": [
      "Veamos 3 muestras del Dataset: \n"
     ]
    },
    {
     "data": {
      "text/html": [
       "<div>\n",
       "<style scoped>\n",
       "    .dataframe tbody tr th:only-of-type {\n",
       "        vertical-align: middle;\n",
       "    }\n",
       "\n",
       "    .dataframe tbody tr th {\n",
       "        vertical-align: top;\n",
       "    }\n",
       "\n",
       "    .dataframe thead th {\n",
       "        text-align: right;\n",
       "    }\n",
       "</style>\n",
       "<table border=\"1\" class=\"dataframe\">\n",
       "  <thead>\n",
       "    <tr style=\"text-align: right;\">\n",
       "      <th></th>\n",
       "      <th>ID</th>\n",
       "      <th>N_VICTIMAS</th>\n",
       "      <th>FECHA</th>\n",
       "      <th>AAAA</th>\n",
       "      <th>MM</th>\n",
       "      <th>DD</th>\n",
       "      <th>HORA</th>\n",
       "      <th>HH</th>\n",
       "      <th>LUGAR_DEL_HECHO</th>\n",
       "      <th>TIPO_DE_CALLE</th>\n",
       "      <th>...</th>\n",
       "      <th>Altura</th>\n",
       "      <th>Cruce</th>\n",
       "      <th>Dirección Normalizada</th>\n",
       "      <th>COMUNA</th>\n",
       "      <th>XY (CABA)</th>\n",
       "      <th>pos x</th>\n",
       "      <th>pos y</th>\n",
       "      <th>PARTICIPANTES</th>\n",
       "      <th>VICTIMA</th>\n",
       "      <th>ACUSADO</th>\n",
       "    </tr>\n",
       "  </thead>\n",
       "  <tbody>\n",
       "    <tr>\n",
       "      <th>356</th>\n",
       "      <td>2018-0082</td>\n",
       "      <td>1</td>\n",
       "      <td>2018-08-01</td>\n",
       "      <td>2018</td>\n",
       "      <td>8</td>\n",
       "      <td>1</td>\n",
       "      <td>15:53:00</td>\n",
       "      <td>15</td>\n",
       "      <td>Larrazabal y Garzon, Eugenio, Gral. Av.</td>\n",
       "      <td>AVENIDA</td>\n",
       "      <td>...</td>\n",
       "      <td>NaN</td>\n",
       "      <td>GARZON, EUGENIO, GRAL. AV.</td>\n",
       "      <td>LARRAZABAL y GARZON, EUGENIO, GRAL. AV.</td>\n",
       "      <td>9</td>\n",
       "      <td>Point (97148.03881747 96734.79106149)</td>\n",
       "      <td>-58.49441273</td>\n",
       "      <td>-34.65869968</td>\n",
       "      <td>MOTO-CARGAS</td>\n",
       "      <td>MOTO</td>\n",
       "      <td>CARGAS</td>\n",
       "    </tr>\n",
       "    <tr>\n",
       "      <th>409</th>\n",
       "      <td>2018-0135</td>\n",
       "      <td>1</td>\n",
       "      <td>2018-12-18</td>\n",
       "      <td>2018</td>\n",
       "      <td>12</td>\n",
       "      <td>18</td>\n",
       "      <td>14:40:00</td>\n",
       "      <td>14</td>\n",
       "      <td>Belgrano Av. y Peru</td>\n",
       "      <td>AVENIDA</td>\n",
       "      <td>...</td>\n",
       "      <td>NaN</td>\n",
       "      <td>PERU</td>\n",
       "      <td>BELGRANO AV. y PERU</td>\n",
       "      <td>1</td>\n",
       "      <td>Point (108124.38297421 101840.19801704)</td>\n",
       "      <td>-58.37471802</td>\n",
       "      <td>-34.61265002</td>\n",
       "      <td>PEATON-PASAJEROS</td>\n",
       "      <td>PEATON</td>\n",
       "      <td>PASAJEROS</td>\n",
       "    </tr>\n",
       "    <tr>\n",
       "      <th>686</th>\n",
       "      <td>2021-0088</td>\n",
       "      <td>1</td>\n",
       "      <td>2021-12-01</td>\n",
       "      <td>2021</td>\n",
       "      <td>12</td>\n",
       "      <td>1</td>\n",
       "      <td>15:40:00</td>\n",
       "      <td>15</td>\n",
       "      <td>AV. MOROE Y 3 DE FEBRERO</td>\n",
       "      <td>CALLE</td>\n",
       "      <td>...</td>\n",
       "      <td>NaN</td>\n",
       "      <td>3 DE FEBRERO</td>\n",
       "      <td>MONROE y 3 DE FEBRERO</td>\n",
       "      <td>13</td>\n",
       "      <td>Point (100732.60222975 108177.68150062)</td>\n",
       "      <td>-58.45531707</td>\n",
       "      <td>-34.55555257</td>\n",
       "      <td>MOTO-AUTO</td>\n",
       "      <td>MOTO</td>\n",
       "      <td>AUTO</td>\n",
       "    </tr>\n",
       "  </tbody>\n",
       "</table>\n",
       "<p>3 rows × 21 columns</p>\n",
       "</div>"
      ],
      "text/plain": [
       "            ID  N_VICTIMAS      FECHA  AAAA  MM  DD      HORA  HH  \\\n",
       "356  2018-0082           1 2018-08-01  2018   8   1  15:53:00  15   \n",
       "409  2018-0135           1 2018-12-18  2018  12  18  14:40:00  14   \n",
       "686  2021-0088           1 2021-12-01  2021  12   1  15:40:00  15   \n",
       "\n",
       "                             LUGAR_DEL_HECHO TIPO_DE_CALLE  ... Altura  \\\n",
       "356  Larrazabal y Garzon, Eugenio, Gral. Av.       AVENIDA  ...    NaN   \n",
       "409                      Belgrano Av. y Peru       AVENIDA  ...    NaN   \n",
       "686                 AV. MOROE Y 3 DE FEBRERO         CALLE  ...    NaN   \n",
       "\n",
       "                          Cruce                    Dirección Normalizada  \\\n",
       "356  GARZON, EUGENIO, GRAL. AV.  LARRAZABAL y GARZON, EUGENIO, GRAL. AV.   \n",
       "409                        PERU                      BELGRANO AV. y PERU   \n",
       "686                3 DE FEBRERO                    MONROE y 3 DE FEBRERO   \n",
       "\n",
       "    COMUNA                                XY (CABA)         pos x  \\\n",
       "356      9    Point (97148.03881747 96734.79106149)  -58.49441273   \n",
       "409      1  Point (108124.38297421 101840.19801704)  -58.37471802   \n",
       "686     13  Point (100732.60222975 108177.68150062)  -58.45531707   \n",
       "\n",
       "            pos y     PARTICIPANTES VICTIMA    ACUSADO  \n",
       "356  -34.65869968       MOTO-CARGAS    MOTO     CARGAS  \n",
       "409  -34.61265002  PEATON-PASAJEROS  PEATON  PASAJEROS  \n",
       "686  -34.55555257         MOTO-AUTO    MOTO       AUTO  \n",
       "\n",
       "[3 rows x 21 columns]"
      ]
     },
     "execution_count": 3,
     "metadata": {},
     "output_type": "execute_result"
    }
   ],
   "source": [
    "print(\"Veamos 3 muestras del Dataset: \")\n",
    "homicidios_hechos.sample(3)"
   ]
  },
  {
   "cell_type": "code",
   "execution_count": 4,
   "metadata": {},
   "outputs": [
    {
     "name": "stdout",
     "output_type": "stream",
     "text": [
      "<class 'pandas.core.frame.DataFrame'>\n",
      "RangeIndex: 696 entries, 0 to 695\n",
      "Data columns (total 21 columns):\n",
      " #   Column                 Non-Null Count  Dtype         \n",
      "---  ------                 --------------  -----         \n",
      " 0   ID                     696 non-null    object        \n",
      " 1   N_VICTIMAS             696 non-null    int64         \n",
      " 2   FECHA                  696 non-null    datetime64[ns]\n",
      " 3   AAAA                   696 non-null    int64         \n",
      " 4   MM                     696 non-null    int64         \n",
      " 5   DD                     696 non-null    int64         \n",
      " 6   HORA                   696 non-null    object        \n",
      " 7   HH                     696 non-null    object        \n",
      " 8   LUGAR_DEL_HECHO        696 non-null    object        \n",
      " 9   TIPO_DE_CALLE          696 non-null    object        \n",
      " 10  Calle                  695 non-null    object        \n",
      " 11  Altura                 129 non-null    float64       \n",
      " 12  Cruce                  525 non-null    object        \n",
      " 13  Dirección Normalizada  688 non-null    object        \n",
      " 14  COMUNA                 696 non-null    int64         \n",
      " 15  XY (CABA)              696 non-null    object        \n",
      " 16  pos x                  696 non-null    object        \n",
      " 17  pos y                  696 non-null    object        \n",
      " 18  PARTICIPANTES          696 non-null    object        \n",
      " 19  VICTIMA                696 non-null    object        \n",
      " 20  ACUSADO                696 non-null    object        \n",
      "dtypes: datetime64[ns](1), float64(1), int64(5), object(14)\n",
      "memory usage: 114.3+ KB\n"
     ]
    }
   ],
   "source": [
    "homicidios_hechos.info()"
   ]
  },
  {
   "cell_type": "markdown",
   "metadata": {},
   "source": [
    "Veamos la descripcion estadistica con .describe()\n"
   ]
  },
  {
   "cell_type": "code",
   "execution_count": 5,
   "metadata": {},
   "outputs": [
    {
     "data": {
      "text/html": [
       "<div>\n",
       "<style scoped>\n",
       "    .dataframe tbody tr th:only-of-type {\n",
       "        vertical-align: middle;\n",
       "    }\n",
       "\n",
       "    .dataframe tbody tr th {\n",
       "        vertical-align: top;\n",
       "    }\n",
       "\n",
       "    .dataframe thead th {\n",
       "        text-align: right;\n",
       "    }\n",
       "</style>\n",
       "<table border=\"1\" class=\"dataframe\">\n",
       "  <thead>\n",
       "    <tr style=\"text-align: right;\">\n",
       "      <th></th>\n",
       "      <th>N_VICTIMAS</th>\n",
       "      <th>FECHA</th>\n",
       "      <th>AAAA</th>\n",
       "      <th>MM</th>\n",
       "      <th>DD</th>\n",
       "      <th>Altura</th>\n",
       "      <th>COMUNA</th>\n",
       "    </tr>\n",
       "  </thead>\n",
       "  <tbody>\n",
       "    <tr>\n",
       "      <th>count</th>\n",
       "      <td>696.000000</td>\n",
       "      <td>696</td>\n",
       "      <td>696.000000</td>\n",
       "      <td>696.000000</td>\n",
       "      <td>696.000000</td>\n",
       "      <td>129.000000</td>\n",
       "      <td>696.000000</td>\n",
       "    </tr>\n",
       "    <tr>\n",
       "      <th>mean</th>\n",
       "      <td>1.030172</td>\n",
       "      <td>2018-09-14 05:12:24.827586048</td>\n",
       "      <td>2018.188218</td>\n",
       "      <td>6.692529</td>\n",
       "      <td>15.936782</td>\n",
       "      <td>3336.635659</td>\n",
       "      <td>7.425287</td>\n",
       "    </tr>\n",
       "    <tr>\n",
       "      <th>min</th>\n",
       "      <td>1.000000</td>\n",
       "      <td>2016-01-01 00:00:00</td>\n",
       "      <td>2016.000000</td>\n",
       "      <td>1.000000</td>\n",
       "      <td>1.000000</td>\n",
       "      <td>30.000000</td>\n",
       "      <td>0.000000</td>\n",
       "    </tr>\n",
       "    <tr>\n",
       "      <th>25%</th>\n",
       "      <td>1.000000</td>\n",
       "      <td>2017-04-02 12:00:00</td>\n",
       "      <td>2017.000000</td>\n",
       "      <td>4.000000</td>\n",
       "      <td>9.000000</td>\n",
       "      <td>1359.000000</td>\n",
       "      <td>4.000000</td>\n",
       "    </tr>\n",
       "    <tr>\n",
       "      <th>50%</th>\n",
       "      <td>1.000000</td>\n",
       "      <td>2018-07-12 12:00:00</td>\n",
       "      <td>2018.000000</td>\n",
       "      <td>7.000000</td>\n",
       "      <td>16.000000</td>\n",
       "      <td>2551.000000</td>\n",
       "      <td>8.000000</td>\n",
       "    </tr>\n",
       "    <tr>\n",
       "      <th>75%</th>\n",
       "      <td>1.000000</td>\n",
       "      <td>2020-01-04 06:00:00</td>\n",
       "      <td>2020.000000</td>\n",
       "      <td>10.000000</td>\n",
       "      <td>23.000000</td>\n",
       "      <td>4500.000000</td>\n",
       "      <td>11.000000</td>\n",
       "    </tr>\n",
       "    <tr>\n",
       "      <th>max</th>\n",
       "      <td>3.000000</td>\n",
       "      <td>2021-12-30 00:00:00</td>\n",
       "      <td>2021.000000</td>\n",
       "      <td>12.000000</td>\n",
       "      <td>31.000000</td>\n",
       "      <td>16080.000000</td>\n",
       "      <td>15.000000</td>\n",
       "    </tr>\n",
       "    <tr>\n",
       "      <th>std</th>\n",
       "      <td>0.179393</td>\n",
       "      <td>NaN</td>\n",
       "      <td>1.683754</td>\n",
       "      <td>3.571309</td>\n",
       "      <td>8.639646</td>\n",
       "      <td>3060.641793</td>\n",
       "      <td>4.387050</td>\n",
       "    </tr>\n",
       "  </tbody>\n",
       "</table>\n",
       "</div>"
      ],
      "text/plain": [
       "       N_VICTIMAS                          FECHA         AAAA          MM  \\\n",
       "count  696.000000                            696   696.000000  696.000000   \n",
       "mean     1.030172  2018-09-14 05:12:24.827586048  2018.188218    6.692529   \n",
       "min      1.000000            2016-01-01 00:00:00  2016.000000    1.000000   \n",
       "25%      1.000000            2017-04-02 12:00:00  2017.000000    4.000000   \n",
       "50%      1.000000            2018-07-12 12:00:00  2018.000000    7.000000   \n",
       "75%      1.000000            2020-01-04 06:00:00  2020.000000   10.000000   \n",
       "max      3.000000            2021-12-30 00:00:00  2021.000000   12.000000   \n",
       "std      0.179393                            NaN     1.683754    3.571309   \n",
       "\n",
       "               DD        Altura      COMUNA  \n",
       "count  696.000000    129.000000  696.000000  \n",
       "mean    15.936782   3336.635659    7.425287  \n",
       "min      1.000000     30.000000    0.000000  \n",
       "25%      9.000000   1359.000000    4.000000  \n",
       "50%     16.000000   2551.000000    8.000000  \n",
       "75%     23.000000   4500.000000   11.000000  \n",
       "max     31.000000  16080.000000   15.000000  \n",
       "std      8.639646   3060.641793    4.387050  "
      ]
     },
     "execution_count": 5,
     "metadata": {},
     "output_type": "execute_result"
    }
   ],
   "source": [
    "homicidios_hechos.describe()"
   ]
  },
  {
   "cell_type": "markdown",
   "metadata": {},
   "source": [
    "### Nulos y duplicados\n",
    "Usando una funcion personalizada data_type_check importada desde data_utils.py: \n",
    "- mostramos total de nulos, tipo de datos, dimensiones."
   ]
  },
  {
   "cell_type": "code",
   "execution_count": 6,
   "metadata": {},
   "outputs": [
    {
     "name": "stdout",
     "output_type": "stream",
     "text": [
      "\n",
      "========================================\n",
      " Resumen del dataframe:\n",
      "\n",
      "========================================\n",
      "Dimensiones:  (696, 21)\n",
      "                  columna  %_no_nulos  %_nulos  total_nulos       tipo_dato\n",
      "0                      ID      100.00     0.00            0          object\n",
      "1              N_VICTIMAS      100.00     0.00            0           int64\n",
      "2                   FECHA      100.00     0.00            0  datetime64[ns]\n",
      "3                    AAAA      100.00     0.00            0           int64\n",
      "4                      MM      100.00     0.00            0           int64\n",
      "5                      DD      100.00     0.00            0           int64\n",
      "6                    HORA      100.00     0.00            0          object\n",
      "7                      HH      100.00     0.00            0          object\n",
      "8         LUGAR_DEL_HECHO      100.00     0.00            0          object\n",
      "9           TIPO_DE_CALLE      100.00     0.00            0          object\n",
      "10                  Calle       99.86     0.14            1          object\n",
      "11                 Altura       18.53    81.47          567         float64\n",
      "12                  Cruce       75.43    24.57          171          object\n",
      "13  Dirección Normalizada       98.85     1.15            8          object\n",
      "14                 COMUNA      100.00     0.00            0           int64\n",
      "15              XY (CABA)      100.00     0.00            0          object\n",
      "16                  pos x      100.00     0.00            0          object\n",
      "17                  pos y      100.00     0.00            0          object\n",
      "18          PARTICIPANTES      100.00     0.00            0          object\n",
      "19                VICTIMA      100.00     0.00            0          object\n",
      "20                ACUSADO      100.00     0.00            0          object\n"
     ]
    }
   ],
   "source": [
    "data_type_check(homicidios_hechos)"
   ]
  },
  {
   "cell_type": "markdown",
   "metadata": {},
   "source": [
    "Revisamos los campos con nulos"
   ]
  },
  {
   "cell_type": "code",
   "execution_count": 7,
   "metadata": {},
   "outputs": [
    {
     "data": {
      "text/html": [
       "<div>\n",
       "<style scoped>\n",
       "    .dataframe tbody tr th:only-of-type {\n",
       "        vertical-align: middle;\n",
       "    }\n",
       "\n",
       "    .dataframe tbody tr th {\n",
       "        vertical-align: top;\n",
       "    }\n",
       "\n",
       "    .dataframe thead th {\n",
       "        text-align: right;\n",
       "    }\n",
       "</style>\n",
       "<table border=\"1\" class=\"dataframe\">\n",
       "  <thead>\n",
       "    <tr style=\"text-align: right;\">\n",
       "      <th></th>\n",
       "      <th>Dirección Normalizada</th>\n",
       "      <th>Cruce</th>\n",
       "      <th>Altura</th>\n",
       "      <th>Calle</th>\n",
       "    </tr>\n",
       "  </thead>\n",
       "  <tbody>\n",
       "    <tr>\n",
       "      <th>38</th>\n",
       "      <td>NaN</td>\n",
       "      <td>NaN</td>\n",
       "      <td>NaN</td>\n",
       "      <td>LUGONES, LEOPOLDO AV.</td>\n",
       "    </tr>\n",
       "    <tr>\n",
       "      <th>106</th>\n",
       "      <td>NaN</td>\n",
       "      <td>NaN</td>\n",
       "      <td>NaN</td>\n",
       "      <td>AUTOPISTA BUENOS AIRES - LA PLATA</td>\n",
       "    </tr>\n",
       "    <tr>\n",
       "      <th>119</th>\n",
       "      <td>NaN</td>\n",
       "      <td>NaN</td>\n",
       "      <td>NaN</td>\n",
       "      <td>NaN</td>\n",
       "    </tr>\n",
       "    <tr>\n",
       "      <th>180</th>\n",
       "      <td>NaN</td>\n",
       "      <td>NaN</td>\n",
       "      <td>NaN</td>\n",
       "      <td>AUTOPISTA PERITO MORENO</td>\n",
       "    </tr>\n",
       "    <tr>\n",
       "      <th>181</th>\n",
       "      <td>NaN</td>\n",
       "      <td>NaN</td>\n",
       "      <td>NaN</td>\n",
       "      <td>AUTOPISTA DELLEPIANE LUIS TTE. GRAL.</td>\n",
       "    </tr>\n",
       "    <tr>\n",
       "      <th>313</th>\n",
       "      <td>NaN</td>\n",
       "      <td>NaN</td>\n",
       "      <td>NaN</td>\n",
       "      <td>LUGONES, LEOPOLDO AV.</td>\n",
       "    </tr>\n",
       "    <tr>\n",
       "      <th>546</th>\n",
       "      <td>NaN</td>\n",
       "      <td>NaN</td>\n",
       "      <td>NaN</td>\n",
       "      <td>LUGONES, LEOPOLDO AV.</td>\n",
       "    </tr>\n",
       "    <tr>\n",
       "      <th>621</th>\n",
       "      <td>NaN</td>\n",
       "      <td>NaN</td>\n",
       "      <td>NaN</td>\n",
       "      <td>AUTOPISTA BUENOS AIRES - LA PLATA</td>\n",
       "    </tr>\n",
       "  </tbody>\n",
       "</table>\n",
       "</div>"
      ],
      "text/plain": [
       "    Dirección Normalizada Cruce  Altura                                 Calle\n",
       "38                    NaN   NaN     NaN                 LUGONES, LEOPOLDO AV.\n",
       "106                   NaN   NaN     NaN     AUTOPISTA BUENOS AIRES - LA PLATA\n",
       "119                   NaN   NaN     NaN                                   NaN\n",
       "180                   NaN   NaN     NaN               AUTOPISTA PERITO MORENO\n",
       "181                   NaN   NaN     NaN  AUTOPISTA DELLEPIANE LUIS TTE. GRAL.\n",
       "313                   NaN   NaN     NaN                 LUGONES, LEOPOLDO AV.\n",
       "546                   NaN   NaN     NaN                 LUGONES, LEOPOLDO AV.\n",
       "621                   NaN   NaN     NaN     AUTOPISTA BUENOS AIRES - LA PLATA"
      ]
     },
     "execution_count": 7,
     "metadata": {},
     "output_type": "execute_result"
    }
   ],
   "source": [
    "homicidios_hechos[homicidios_hechos[\"Dirección Normalizada\"].isnull()][[\"Dirección Normalizada\", \"Cruce\",\"Altura\", \"Calle\"]]"
   ]
  },
  {
   "cell_type": "markdown",
   "metadata": {},
   "source": [
    "Encontramos que los nulos se encuentran distribuidos en cuatro columnas: Altura, Dirección Normalizada, Cruce y Calle.\n",
    "* La columna Calle tiene solo un dato nulo.\n",
    "* La columna Dirección Normalizada presenta 8 datos nulos.\n",
    "* La columna Cruce tiene 171 datos nulos, lo que representa el 24.57% de los datos de la columna.\n",
    "* La columna Altura contiene 567 datos nulos, equivalentes al 81.47% de la columna."
   ]
  },
  {
   "cell_type": "markdown",
   "metadata": {},
   "source": [
    "Debido a la gran cantidad de faltantes en Altura y la imposibilidad de completarlos, se decide eliminar esta columna. \n",
    "Altura se refiere a la numeración de la calle donde ocurre el siniestro, y en la mayoría de los casos, estos se producen en cruces o esquinas.\n",
    "\n",
    "La columna Cruce solo contiene datos cuando el incidente ocurre en un cruce de calles, por lo que se mantiene tal cual.\n",
    "\n",
    "Aunque la columna Dirección Normalizada no se puede completar con las demás columnas del dataset, tiene solo un 1.15% de datos nulos, por lo que se conserva."
   ]
  },
  {
   "cell_type": "code",
   "execution_count": 8,
   "metadata": {},
   "outputs": [
    {
     "name": "stdout",
     "output_type": "stream",
     "text": [
      "<class 'pandas.core.frame.DataFrame'>\n",
      "RangeIndex: 696 entries, 0 to 695\n",
      "Data columns (total 20 columns):\n",
      " #   Column                 Non-Null Count  Dtype         \n",
      "---  ------                 --------------  -----         \n",
      " 0   ID                     696 non-null    object        \n",
      " 1   N_VICTIMAS             696 non-null    int64         \n",
      " 2   FECHA                  696 non-null    datetime64[ns]\n",
      " 3   AAAA                   696 non-null    int64         \n",
      " 4   MM                     696 non-null    int64         \n",
      " 5   DD                     696 non-null    int64         \n",
      " 6   HORA                   696 non-null    object        \n",
      " 7   HH                     696 non-null    object        \n",
      " 8   LUGAR_DEL_HECHO        696 non-null    object        \n",
      " 9   TIPO_DE_CALLE          696 non-null    object        \n",
      " 10  Calle                  695 non-null    object        \n",
      " 11  Cruce                  525 non-null    object        \n",
      " 12  Dirección Normalizada  688 non-null    object        \n",
      " 13  COMUNA                 696 non-null    int64         \n",
      " 14  XY (CABA)              696 non-null    object        \n",
      " 15  pos x                  696 non-null    object        \n",
      " 16  pos y                  696 non-null    object        \n",
      " 17  PARTICIPANTES          696 non-null    object        \n",
      " 18  VICTIMA                696 non-null    object        \n",
      " 19  ACUSADO                696 non-null    object        \n",
      "dtypes: datetime64[ns](1), int64(5), object(14)\n",
      "memory usage: 108.9+ KB\n"
     ]
    }
   ],
   "source": [
    "# Se elimina la columna \"Altura\"\n",
    "homicidios_hechos= homicidios_hechos.drop(\"Altura\", axis=1)\n",
    "homicidios_hechos.info()"
   ]
  },
  {
   "cell_type": "code",
   "execution_count": 9,
   "metadata": {},
   "outputs": [
    {
     "name": "stdout",
     "output_type": "stream",
     "text": [
      "Cantidad de valores duplicados: \n"
     ]
    },
    {
     "data": {
      "text/plain": [
       "0"
      ]
     },
     "execution_count": 9,
     "metadata": {},
     "output_type": "execute_result"
    }
   ],
   "source": [
    "print(\"Cantidad de valores duplicados: \")\n",
    "homicidios_hechos.duplicated().sum()"
   ]
  },
  {
   "cell_type": "markdown",
   "metadata": {},
   "source": [
    "No se encontraron datos duplicados"
   ]
  },
  {
   "cell_type": "markdown",
   "metadata": {},
   "source": [
    "___"
   ]
  },
  {
   "cell_type": "markdown",
   "metadata": {},
   "source": [
    "### Columna HH"
   ]
  },
  {
   "cell_type": "markdown",
   "metadata": {},
   "source": [
    "La primer columna a transformar es HH, su tipo de dato es object y lo queremos en numerico.\n",
    "- Primero analizamos los datos de la columna y luego la transformamos a numerico"
   ]
  },
  {
   "cell_type": "code",
   "execution_count": 10,
   "metadata": {},
   "outputs": [
    {
     "data": {
      "text/plain": [
       "array([4, 1, 7, 0, 5, 18, 19, 15, 11, 22, 16, 9, 23, 6, 10, 17, 12, 8, 20,\n",
       "       21, 14, 3, 2, 13, 'SD'], dtype=object)"
      ]
     },
     "execution_count": 10,
     "metadata": {},
     "output_type": "execute_result"
    }
   ],
   "source": [
    "homicidios_hechos[\"HH\"].unique()"
   ]
  },
  {
   "cell_type": "markdown",
   "metadata": {},
   "source": [
    "Entre los valores encontramos SD, que refiere a SIN DATO. Como no podemos ponerle un reemplazo inventado, elegimos dejarlo como está."
   ]
  },
  {
   "cell_type": "code",
   "execution_count": 11,
   "metadata": {},
   "outputs": [],
   "source": [
    "# Cambio a tipo de dato numerico y luego a entero \n",
    "homicidios_hechos[\"HH\"] = pd.to_numeric(homicidios_hechos [\"HH\"], errors=\"coerce\")\n",
    "homicidios_hechos[\"HH\"] = homicidios_hechos[\"HH\"].astype(\"Int64\")"
   ]
  },
  {
   "cell_type": "markdown",
   "metadata": {},
   "source": [
    "___"
   ]
  },
  {
   "cell_type": "markdown",
   "metadata": {},
   "source": [
    "### Columnas pos x pos y"
   ]
  },
  {
   "cell_type": "markdown",
   "metadata": {},
   "source": [
    "Ahora vamos a limpiar los campos POS X y POS Y de posiciones no validas que se encuentran representadas con el valor de un punto **\".\"**"
   ]
  },
  {
   "cell_type": "code",
   "execution_count": 12,
   "metadata": {},
   "outputs": [
    {
     "data": {
      "text/plain": [
       "(12, 20)"
      ]
     },
     "execution_count": 12,
     "metadata": {},
     "output_type": "execute_result"
    }
   ],
   "source": [
    "#Contar las columnas que tengan el valor . en pos x y pos y\n",
    "homicidios_hechos.loc[(homicidios_hechos['pos x'] == '.') | (homicidios_hechos['pos y'] == '.')].shape\n"
   ]
  },
  {
   "cell_type": "markdown",
   "metadata": {},
   "source": [
    "Encontramos 12 campos de . en pos x y 20 en pos y"
   ]
  },
  {
   "cell_type": "code",
   "execution_count": 13,
   "metadata": {},
   "outputs": [],
   "source": [
    "'''\n",
    "Este código filtra las filas con posiciones inválidas\n",
    "establece estas posiciones como NaN\n",
    "y convierte las posiciones válidas de cadena a valores numéricos de tipo float\n",
    "'''\n",
    "# Filtrar filas con coordenadas no válidas\n",
    "coordenadas_validas = ~(homicidios_hechos['pos x'].str.contains('[^0-9.,-]') | homicidios_hechos['pos y'].str.contains('[^0-9.,-]') | (homicidios_hechos['pos x'] == '.') | (homicidios_hechos['pos y'] == '.'))\n",
    "\n",
    "# Establecer coordenadas no válidas en NaN\n",
    "homicidios_hechos.loc[~coordenadas_validas, ['pos x', 'pos y']] = np.nan\n",
    "\n",
    "# Convertir las cadenas a tipo numérico (float)\n",
    "homicidios_hechos['pos x'] = homicidios_hechos['pos x'].str.replace(',', '.').astype(float)\n",
    "homicidios_hechos['pos y'] = homicidios_hechos['pos y'].str.replace(',', '.').astype(float)\n",
    "# Reemplazar NaN con 0\n",
    "homicidios_hechos.fillna({'pos x': 0, 'pos y': 0}, inplace=True)\n",
    "\n"
   ]
  },
  {
   "cell_type": "markdown",
   "metadata": {},
   "source": [
    "Tiene coordenadas que podemos ubicar en un mapa.\n",
    "\n",
    "Vamos a extraerlas para poder utilizarlas"
   ]
  },
  {
   "cell_type": "code",
   "execution_count": 14,
   "metadata": {},
   "outputs": [
    {
     "data": {
      "text/html": [
       "<div>\n",
       "<style scoped>\n",
       "    .dataframe tbody tr th:only-of-type {\n",
       "        vertical-align: middle;\n",
       "    }\n",
       "\n",
       "    .dataframe tbody tr th {\n",
       "        vertical-align: top;\n",
       "    }\n",
       "\n",
       "    .dataframe thead th {\n",
       "        text-align: right;\n",
       "    }\n",
       "</style>\n",
       "<table border=\"1\" class=\"dataframe\">\n",
       "  <thead>\n",
       "    <tr style=\"text-align: right;\">\n",
       "      <th></th>\n",
       "      <th>ID</th>\n",
       "      <th>N_VICTIMAS</th>\n",
       "      <th>FECHA</th>\n",
       "      <th>AAAA</th>\n",
       "      <th>MM</th>\n",
       "      <th>DD</th>\n",
       "      <th>HORA</th>\n",
       "      <th>HH</th>\n",
       "      <th>LUGAR_DEL_HECHO</th>\n",
       "      <th>TIPO_DE_CALLE</th>\n",
       "      <th>...</th>\n",
       "      <th>Cruce</th>\n",
       "      <th>Dirección Normalizada</th>\n",
       "      <th>COMUNA</th>\n",
       "      <th>XY (CABA)</th>\n",
       "      <th>pos x</th>\n",
       "      <th>pos y</th>\n",
       "      <th>PARTICIPANTES</th>\n",
       "      <th>VICTIMA</th>\n",
       "      <th>ACUSADO</th>\n",
       "      <th>Coordenada</th>\n",
       "    </tr>\n",
       "  </thead>\n",
       "  <tbody>\n",
       "    <tr>\n",
       "      <th>415</th>\n",
       "      <td>2018-0141</td>\n",
       "      <td>1</td>\n",
       "      <td>2018-12-22</td>\n",
       "      <td>2018</td>\n",
       "      <td>12</td>\n",
       "      <td>22</td>\n",
       "      <td>17:40:00</td>\n",
       "      <td>17</td>\n",
       "      <td>Maza y Av. Independencia</td>\n",
       "      <td>AVENIDA</td>\n",
       "      <td>...</td>\n",
       "      <td>INDEPENDENCIA AV.</td>\n",
       "      <td>MAZA e INDEPENDENCIA AV.</td>\n",
       "      <td>5</td>\n",
       "      <td>Point (104420.68512694 100931.98574919)</td>\n",
       "      <td>-58.415095</td>\n",
       "      <td>-34.620859</td>\n",
       "      <td>PEATON-MOTO</td>\n",
       "      <td>PEATON</td>\n",
       "      <td>MOTO</td>\n",
       "      <td>-58.41509546,-34.62085945</td>\n",
       "    </tr>\n",
       "    <tr>\n",
       "      <th>289</th>\n",
       "      <td>2018-0015</td>\n",
       "      <td>2</td>\n",
       "      <td>2018-02-06</td>\n",
       "      <td>2018</td>\n",
       "      <td>2</td>\n",
       "      <td>6</td>\n",
       "      <td>01:00:00</td>\n",
       "      <td>1</td>\n",
       "      <td>Australia Av. 2800</td>\n",
       "      <td>AVENIDA</td>\n",
       "      <td>...</td>\n",
       "      <td>NaN</td>\n",
       "      <td>AUSTRALIA AV. 2800</td>\n",
       "      <td>4</td>\n",
       "      <td>Point (107053.47849253 98047.93724144)</td>\n",
       "      <td>-58.386363</td>\n",
       "      <td>-34.646843</td>\n",
       "      <td>MOTO-PASAJEROS</td>\n",
       "      <td>MOTO</td>\n",
       "      <td>PASAJEROS</td>\n",
       "      <td>-58.38636298,-34.64684275</td>\n",
       "    </tr>\n",
       "  </tbody>\n",
       "</table>\n",
       "<p>2 rows × 21 columns</p>\n",
       "</div>"
      ],
      "text/plain": [
       "            ID  N_VICTIMAS      FECHA  AAAA  MM  DD      HORA  HH  \\\n",
       "415  2018-0141           1 2018-12-22  2018  12  22  17:40:00  17   \n",
       "289  2018-0015           2 2018-02-06  2018   2   6  01:00:00   1   \n",
       "\n",
       "              LUGAR_DEL_HECHO TIPO_DE_CALLE  ...              Cruce  \\\n",
       "415  Maza y Av. Independencia       AVENIDA  ...  INDEPENDENCIA AV.   \n",
       "289        Australia Av. 2800       AVENIDA  ...                NaN   \n",
       "\n",
       "        Dirección Normalizada COMUNA                                XY (CABA)  \\\n",
       "415  MAZA e INDEPENDENCIA AV.      5  Point (104420.68512694 100931.98574919)   \n",
       "289        AUSTRALIA AV. 2800      4   Point (107053.47849253 98047.93724144)   \n",
       "\n",
       "         pos x      pos y   PARTICIPANTES VICTIMA    ACUSADO  \\\n",
       "415 -58.415095 -34.620859     PEATON-MOTO  PEATON       MOTO   \n",
       "289 -58.386363 -34.646843  MOTO-PASAJEROS    MOTO  PASAJEROS   \n",
       "\n",
       "                    Coordenada  \n",
       "415  -58.41509546,-34.62085945  \n",
       "289  -58.38636298,-34.64684275  \n",
       "\n",
       "[2 rows x 21 columns]"
      ]
     },
     "execution_count": 14,
     "metadata": {},
     "output_type": "execute_result"
    }
   ],
   "source": [
    "#Unir pos x + pos y, separados los dos pos una coma\n",
    "homicidios_hechos['Coordenada'] = homicidios_hechos['pos x'].astype(str) + ',' + homicidios_hechos['pos y'].astype(str)\n",
    "\n",
    "#Se observa el resultado\n",
    "homicidios_hechos.sample(2)"
   ]
  },
  {
   "cell_type": "code",
   "execution_count": 15,
   "metadata": {},
   "outputs": [
    {
     "data": {
      "text/plain": [
       "Index(['ID', 'N_VICTIMAS', 'FECHA', 'AAAA', 'MM', 'DD', 'HORA', 'HH',\n",
       "       'LUGAR_DEL_HECHO', 'TIPO_DE_CALLE', 'Calle', 'Cruce',\n",
       "       'Dirección Normalizada', 'COMUNA', 'XY (CABA)', 'pos x', 'pos y',\n",
       "       'PARTICIPANTES', 'VICTIMA', 'ACUSADO', 'Coordenada'],\n",
       "      dtype='object')"
      ]
     },
     "execution_count": 15,
     "metadata": {},
     "output_type": "execute_result"
    }
   ],
   "source": [
    "#Se observan las columnas resultantes\n",
    "homicidios_hechos.columns"
   ]
  },
  {
   "cell_type": "code",
   "execution_count": 16,
   "metadata": {},
   "outputs": [
    {
     "data": {
      "text/html": [
       "<div>\n",
       "<style scoped>\n",
       "    .dataframe tbody tr th:only-of-type {\n",
       "        vertical-align: middle;\n",
       "    }\n",
       "\n",
       "    .dataframe tbody tr th {\n",
       "        vertical-align: top;\n",
       "    }\n",
       "\n",
       "    .dataframe thead th {\n",
       "        text-align: right;\n",
       "    }\n",
       "</style>\n",
       "<table border=\"1\" class=\"dataframe\">\n",
       "  <thead>\n",
       "    <tr style=\"text-align: right;\">\n",
       "      <th></th>\n",
       "      <th>ID</th>\n",
       "      <th>N_VICTIMAS</th>\n",
       "      <th>FECHA</th>\n",
       "      <th>AAAA</th>\n",
       "      <th>MM</th>\n",
       "      <th>DD</th>\n",
       "      <th>HORA</th>\n",
       "      <th>HH</th>\n",
       "      <th>LUGAR_DEL_HECHO</th>\n",
       "      <th>TIPO_DE_CALLE</th>\n",
       "      <th>...</th>\n",
       "      <th>Cruce</th>\n",
       "      <th>Dirección Normalizada</th>\n",
       "      <th>COMUNA</th>\n",
       "      <th>XY (CABA)</th>\n",
       "      <th>pos x</th>\n",
       "      <th>pos y</th>\n",
       "      <th>PARTICIPANTES</th>\n",
       "      <th>VICTIMA</th>\n",
       "      <th>ACUSADO</th>\n",
       "      <th>Coordenada</th>\n",
       "    </tr>\n",
       "  </thead>\n",
       "  <tbody>\n",
       "    <tr>\n",
       "      <th>665</th>\n",
       "      <td>2021-0067</td>\n",
       "      <td>1</td>\n",
       "      <td>2021-08-08</td>\n",
       "      <td>2021</td>\n",
       "      <td>8</td>\n",
       "      <td>8</td>\n",
       "      <td>09:29:00</td>\n",
       "      <td>9</td>\n",
       "      <td>AU FRONDIZI KM 2,9 (ALTURA BRASIL)</td>\n",
       "      <td>AUTOPISTA</td>\n",
       "      <td>...</td>\n",
       "      <td>NaN</td>\n",
       "      <td>AUTOPISTA 1 SUR PRESIDENTE ARTURO FRONDIZI y B...</td>\n",
       "      <td>1</td>\n",
       "      <td>Point (107720.23994349 100176.85080944)</td>\n",
       "      <td>-58.379109</td>\n",
       "      <td>-34.627647</td>\n",
       "      <td>MOTO-OBJETO FIJO</td>\n",
       "      <td>MOTO</td>\n",
       "      <td>OBJETO FIJO</td>\n",
       "      <td>-58.37910943,-34.62764718</td>\n",
       "    </tr>\n",
       "    <tr>\n",
       "      <th>539</th>\n",
       "      <td>2020-0019</td>\n",
       "      <td>1</td>\n",
       "      <td>2020-03-10</td>\n",
       "      <td>2020</td>\n",
       "      <td>3</td>\n",
       "      <td>10</td>\n",
       "      <td>21:00:00</td>\n",
       "      <td>21</td>\n",
       "      <td>CONSTITUCION Y CASTRO</td>\n",
       "      <td>CALLE</td>\n",
       "      <td>...</td>\n",
       "      <td>CASTRO</td>\n",
       "      <td>CONSTITUCION y CASTRO</td>\n",
       "      <td>5</td>\n",
       "      <td>Point (103995.88773205 100088.27591278)</td>\n",
       "      <td>-58.419724</td>\n",
       "      <td>-34.628467</td>\n",
       "      <td>PEATON-AUTO</td>\n",
       "      <td>PEATON</td>\n",
       "      <td>AUTO</td>\n",
       "      <td>-58.41972364,-34.6284667</td>\n",
       "    </tr>\n",
       "  </tbody>\n",
       "</table>\n",
       "<p>2 rows × 21 columns</p>\n",
       "</div>"
      ],
      "text/plain": [
       "            ID  N_VICTIMAS      FECHA  AAAA  MM  DD      HORA  HH  \\\n",
       "665  2021-0067           1 2021-08-08  2021   8   8  09:29:00   9   \n",
       "539  2020-0019           1 2020-03-10  2020   3  10  21:00:00  21   \n",
       "\n",
       "                        LUGAR_DEL_HECHO TIPO_DE_CALLE  ...   Cruce  \\\n",
       "665  AU FRONDIZI KM 2,9 (ALTURA BRASIL)     AUTOPISTA  ...     NaN   \n",
       "539               CONSTITUCION Y CASTRO         CALLE  ...  CASTRO   \n",
       "\n",
       "                                 Dirección Normalizada COMUNA  \\\n",
       "665  AUTOPISTA 1 SUR PRESIDENTE ARTURO FRONDIZI y B...      1   \n",
       "539                              CONSTITUCION y CASTRO      5   \n",
       "\n",
       "                                   XY (CABA)      pos x      pos y  \\\n",
       "665  Point (107720.23994349 100176.85080944) -58.379109 -34.627647   \n",
       "539  Point (103995.88773205 100088.27591278) -58.419724 -34.628467   \n",
       "\n",
       "        PARTICIPANTES VICTIMA      ACUSADO                 Coordenada  \n",
       "665  MOTO-OBJETO FIJO    MOTO  OBJETO FIJO  -58.37910943,-34.62764718  \n",
       "539       PEATON-AUTO  PEATON         AUTO   -58.41972364,-34.6284667  \n",
       "\n",
       "[2 rows x 21 columns]"
      ]
     },
     "execution_count": 16,
     "metadata": {},
     "output_type": "execute_result"
    }
   ],
   "source": [
    "homicidios_hechos.sample(2)"
   ]
  },
  {
   "cell_type": "markdown",
   "metadata": {},
   "source": [
    "___"
   ]
  },
  {
   "cell_type": "markdown",
   "metadata": {},
   "source": [
    "### Columna comuna"
   ]
  },
  {
   "cell_type": "markdown",
   "metadata": {},
   "source": [
    "En la columna 'Comuna' tenemos una numeracion del 1 al 15. \n",
    "Esta numeración identifica a cada una de las divisiones comunales de la ciudad autónoma de Buenos Aires.\n",
    "\n"
   ]
  },
  {
   "cell_type": "code",
   "execution_count": 17,
   "metadata": {},
   "outputs": [
    {
     "data": {
      "text/plain": [
       "array([ 8,  9,  1, 11, 15,  4,  7, 12,  3, 13, 14, 10,  6,  2,  5,  0],\n",
       "      dtype=int64)"
      ]
     },
     "execution_count": 17,
     "metadata": {},
     "output_type": "execute_result"
    }
   ],
   "source": [
    "homicidios_hechos[\"COMUNA\"].unique()"
   ]
  },
  {
   "cell_type": "markdown",
   "metadata": {},
   "source": [
    "Vamos a agregar valor, agregaremos los Barrios que la conforman.\n",
    "\n",
    "Para eso utilizaremos el dataset 'comunas' importado junto al dataset homicidios. Este dataset fue descargado del siguiente sitio web: https://data.buenosaires.gob.ar/dataset/comunas"
   ]
  },
  {
   "cell_type": "code",
   "execution_count": 18,
   "metadata": {},
   "outputs": [],
   "source": [
    "#Modifico las mayúsculas por minúsculas\n",
    "comunas=comunas.rename(columns={\n",
    "    \"COMUNAS\": \"COMUNA\"\n",
    "})\n",
    "\n",
    "#Se realiza el merge a través de la columna en comun `Comuna` y nos va a quedar anexada la columna `Barrios`\n",
    "\n",
    "\n",
    "homicidios_hechos=homicidios_hechos.merge(comunas, on=\"COMUNA\", how=\"left\")\n",
    "\n",
    "#Borramos las columnas que no nos interesan del dataset, siendo estas: ID_Y, OBJETO, PERIMETRO, AREA\n",
    "homicidios_hechos=homicidios_hechos.drop(columns=[\"ID_y\", \"OBJETO\", \"PERIMETRO\", \"AREA\"])\n"
   ]
  },
  {
   "cell_type": "markdown",
   "metadata": {},
   "source": [
    "Ahora vamos a agregarle a cada numero, la palabra \"Comuna\" usando la funcion lambda"
   ]
  },
  {
   "cell_type": "code",
   "execution_count": 19,
   "metadata": {},
   "outputs": [
    {
     "data": {
      "text/plain": [
       "array(['COMUNA 8', 'COMUNA 9', 'COMUNA 1', 'COMUNA 11', 'COMUNA 15',\n",
       "       'COMUNA 4', 'COMUNA 7', 'COMUNA 12', 'COMUNA 3', 'COMUNA 13',\n",
       "       'COMUNA 14', 'COMUNA 10', 'COMUNA 6', 'COMUNA 2', 'COMUNA 5',\n",
       "       'COMUNA 0'], dtype=object)"
      ]
     },
     "execution_count": 19,
     "metadata": {},
     "output_type": "execute_result"
    }
   ],
   "source": [
    "# Agrego la palabra Comuna delante del dato numérico\n",
    "homicidios_hechos[\"COMUNA\"] = homicidios_hechos.apply(lambda x: \"COMUNA \"+str(x[\"COMUNA\"]), axis=1)\n",
    "\n",
    "homicidios_hechos[\"COMUNA\"].unique()"
   ]
  },
  {
   "cell_type": "markdown",
   "metadata": {},
   "source": [
    "Las colummas tienen nombres en mayúsculas y en minúsculas, los vamos a estandarizan a modo de buena práctica"
   ]
  },
  {
   "cell_type": "code",
   "execution_count": 20,
   "metadata": {},
   "outputs": [
    {
     "data": {
      "text/plain": [
       "Index(['ID', 'Num víctimas', 'Fecha', 'Año', 'Mes', 'Día', 'Hora completa',\n",
       "       'Hora', 'Lugar del hecho', 'Tipo de calle', 'Calle', 'Cruce',\n",
       "       'Dirección normalizada', 'Comuna', 'Xy (caba)', 'Pos x', 'Pos y',\n",
       "       'Participantes', 'Victima', 'Acusado', 'Coordenada', 'Barrios'],\n",
       "      dtype='object')"
      ]
     },
     "execution_count": 20,
     "metadata": {},
     "output_type": "execute_result"
    }
   ],
   "source": [
    "#Cambio la primer letra a mayúscula\n",
    "homicidios_hechos.columns = [x.capitalize() for x in homicidios_hechos.columns]\n",
    "# Reemplazo guiones por espacios\n",
    "homicidios_hechos.columns = homicidios_hechos.columns.str.replace(\"_\", \" \")\n",
    "#Renombra columnas \n",
    "homicidios_hechos= homicidios_hechos.rename(columns={\"N victimas\": \"Num víctimas\",\n",
    "                                            \"Aaaa\": \"Año\",\n",
    "                                            \"Mm\":\"Mes\",\n",
    "                                            \"Dd\": \"Día\",\n",
    "                                            \"Hora\": \"Hora completa\",\n",
    "                                            \"Hh\": \"Hora\",\n",
    "                                            \"Id x\":\"ID\"    \n",
    "                                        }) \n",
    "\n",
    "homicidios_hechos.columns"
   ]
  },
  {
   "cell_type": "markdown",
   "metadata": {},
   "source": [
    "___"
   ]
  },
  {
   "cell_type": "markdown",
   "metadata": {},
   "source": [
    "### Columna dia"
   ]
  },
  {
   "cell_type": "code",
   "execution_count": 21,
   "metadata": {},
   "outputs": [
    {
     "data": {
      "text/plain": [
       "array([ 1,  2,  3, 10, 21, 24, 29,  8, 14, 15, 17, 28,  4, 12, 13, 19, 23,\n",
       "       30, 31, 11, 20, 22, 25, 26, 16, 18, 27,  7,  9,  5,  6],\n",
       "      dtype=int64)"
      ]
     },
     "execution_count": 21,
     "metadata": {},
     "output_type": "execute_result"
    }
   ],
   "source": [
    "# Mostramos dia\n",
    "homicidios_hechos[\"Día\"].unique()"
   ]
  },
  {
   "cell_type": "markdown",
   "metadata": {},
   "source": [
    "Solo podemos ver el numero del dia, por lo que le agregamos el dia de la semana para que sea mas claro. "
   ]
  },
  {
   "cell_type": "code",
   "execution_count": 22,
   "metadata": {},
   "outputs": [
    {
     "data": {
      "text/plain": [
       "array([ 1,  2,  3, 10, 21, 24, 29,  8, 14, 15, 17, 28,  4, 12, 13, 19, 23,\n",
       "       30, 31, 11, 20, 22, 25, 26, 16, 18, 27,  7,  9,  5,  6],\n",
       "      dtype=int64)"
      ]
     },
     "execution_count": 22,
     "metadata": {},
     "output_type": "execute_result"
    }
   ],
   "source": [
    "# Mostramos dia\n",
    "homicidios_hechos[\"Día\"].unique()"
   ]
  },
  {
   "cell_type": "code",
   "execution_count": 23,
   "metadata": {},
   "outputs": [
    {
     "data": {
      "text/html": [
       "<div>\n",
       "<style scoped>\n",
       "    .dataframe tbody tr th:only-of-type {\n",
       "        vertical-align: middle;\n",
       "    }\n",
       "\n",
       "    .dataframe tbody tr th {\n",
       "        vertical-align: top;\n",
       "    }\n",
       "\n",
       "    .dataframe thead th {\n",
       "        text-align: right;\n",
       "    }\n",
       "</style>\n",
       "<table border=\"1\" class=\"dataframe\">\n",
       "  <thead>\n",
       "    <tr style=\"text-align: right;\">\n",
       "      <th></th>\n",
       "      <th>ID</th>\n",
       "      <th>Num víctimas</th>\n",
       "      <th>Fecha</th>\n",
       "      <th>Año</th>\n",
       "      <th>Mes</th>\n",
       "      <th>Día</th>\n",
       "      <th>Hora completa</th>\n",
       "      <th>Hora</th>\n",
       "      <th>Lugar del hecho</th>\n",
       "      <th>Tipo de calle</th>\n",
       "      <th>...</th>\n",
       "      <th>Comuna</th>\n",
       "      <th>Xy (caba)</th>\n",
       "      <th>Pos x</th>\n",
       "      <th>Pos y</th>\n",
       "      <th>Participantes</th>\n",
       "      <th>Victima</th>\n",
       "      <th>Acusado</th>\n",
       "      <th>Coordenada</th>\n",
       "      <th>Barrios</th>\n",
       "      <th>Día semana</th>\n",
       "    </tr>\n",
       "  </thead>\n",
       "  <tbody>\n",
       "    <tr>\n",
       "      <th>385</th>\n",
       "      <td>2018-0111</td>\n",
       "      <td>1</td>\n",
       "      <td>2018-10-19</td>\n",
       "      <td>2018</td>\n",
       "      <td>10</td>\n",
       "      <td>19</td>\n",
       "      <td>12:13:00</td>\n",
       "      <td>12</td>\n",
       "      <td>AU Perito Moreno y Av. Eva Perón SENTIDO CENTRO</td>\n",
       "      <td>AUTOPISTA</td>\n",
       "      <td>...</td>\n",
       "      <td>COMUNA 9</td>\n",
       "      <td>Point (99423.87045126 97756.09331484)</td>\n",
       "      <td>-58.469584</td>\n",
       "      <td>-34.649497</td>\n",
       "      <td>MOTO-CARGAS</td>\n",
       "      <td>MOTO</td>\n",
       "      <td>CARGAS</td>\n",
       "      <td>-58.46958442,-34.64949724</td>\n",
       "      <td>LINIERS - MATADEROS - PARQUE AVELLANEDA</td>\n",
       "      <td>Friday</td>\n",
       "    </tr>\n",
       "    <tr>\n",
       "      <th>610</th>\n",
       "      <td>2021-0012</td>\n",
       "      <td>1</td>\n",
       "      <td>2021-01-29</td>\n",
       "      <td>2021</td>\n",
       "      <td>1</td>\n",
       "      <td>29</td>\n",
       "      <td>20:07:22</td>\n",
       "      <td>20</td>\n",
       "      <td>AU DELLEPIANE Y GUAMINI</td>\n",
       "      <td>AUTOPISTA</td>\n",
       "      <td>...</td>\n",
       "      <td>COMUNA 8</td>\n",
       "      <td>Point (98294.52407931 93943.96825453)</td>\n",
       "      <td>-58.481911</td>\n",
       "      <td>-34.683860</td>\n",
       "      <td>PEATON-AUTO</td>\n",
       "      <td>PEATON</td>\n",
       "      <td>AUTO</td>\n",
       "      <td>-58.48191128,-34.68385968</td>\n",
       "      <td>VILLA LUGANO - VILLA RIACHUELO - VILLA SOLDATI</td>\n",
       "      <td>Friday</td>\n",
       "    </tr>\n",
       "  </tbody>\n",
       "</table>\n",
       "<p>2 rows × 23 columns</p>\n",
       "</div>"
      ],
      "text/plain": [
       "            ID  Num víctimas      Fecha   Año  Mes  Día Hora completa  Hora  \\\n",
       "385  2018-0111             1 2018-10-19  2018   10   19      12:13:00    12   \n",
       "610  2021-0012             1 2021-01-29  2021    1   29      20:07:22    20   \n",
       "\n",
       "                                     Lugar del hecho Tipo de calle  ...  \\\n",
       "385  AU Perito Moreno y Av. Eva Perón SENTIDO CENTRO     AUTOPISTA  ...   \n",
       "610                          AU DELLEPIANE Y GUAMINI     AUTOPISTA  ...   \n",
       "\n",
       "       Comuna                              Xy (caba)      Pos x      Pos y  \\\n",
       "385  COMUNA 9  Point (99423.87045126 97756.09331484) -58.469584 -34.649497   \n",
       "610  COMUNA 8  Point (98294.52407931 93943.96825453) -58.481911 -34.683860   \n",
       "\n",
       "    Participantes  Victima  Acusado                 Coordenada  \\\n",
       "385   MOTO-CARGAS     MOTO   CARGAS  -58.46958442,-34.64949724   \n",
       "610   PEATON-AUTO   PEATON     AUTO  -58.48191128,-34.68385968   \n",
       "\n",
       "                                            Barrios Día semana  \n",
       "385         LINIERS - MATADEROS - PARQUE AVELLANEDA     Friday  \n",
       "610  VILLA LUGANO - VILLA RIACHUELO - VILLA SOLDATI     Friday  \n",
       "\n",
       "[2 rows x 23 columns]"
      ]
     },
     "execution_count": 23,
     "metadata": {},
     "output_type": "execute_result"
    }
   ],
   "source": [
    "#Creo una columna nueva `Día semana` que contenga el nombre del día de la semana\n",
    "homicidios_hechos['Día semana'] = homicidios_hechos['Fecha'].dt.strftime('%A')\n",
    "\n",
    "# Mostramos dia\n",
    "homicidios_hechos.sample(2)\n"
   ]
  },
  {
   "cell_type": "markdown",
   "metadata": {},
   "source": [
    "Como los nombres se encuentran en ingles, los cambio a español"
   ]
  },
  {
   "cell_type": "code",
   "execution_count": 24,
   "metadata": {},
   "outputs": [
    {
     "data": {
      "text/html": [
       "<div>\n",
       "<style scoped>\n",
       "    .dataframe tbody tr th:only-of-type {\n",
       "        vertical-align: middle;\n",
       "    }\n",
       "\n",
       "    .dataframe tbody tr th {\n",
       "        vertical-align: top;\n",
       "    }\n",
       "\n",
       "    .dataframe thead th {\n",
       "        text-align: right;\n",
       "    }\n",
       "</style>\n",
       "<table border=\"1\" class=\"dataframe\">\n",
       "  <thead>\n",
       "    <tr style=\"text-align: right;\">\n",
       "      <th></th>\n",
       "      <th>ID</th>\n",
       "      <th>Num víctimas</th>\n",
       "      <th>Fecha</th>\n",
       "      <th>Año</th>\n",
       "      <th>Mes</th>\n",
       "      <th>Día</th>\n",
       "      <th>Hora completa</th>\n",
       "      <th>Hora</th>\n",
       "      <th>Lugar del hecho</th>\n",
       "      <th>Tipo de calle</th>\n",
       "      <th>...</th>\n",
       "      <th>Comuna</th>\n",
       "      <th>Xy (caba)</th>\n",
       "      <th>Pos x</th>\n",
       "      <th>Pos y</th>\n",
       "      <th>Participantes</th>\n",
       "      <th>Victima</th>\n",
       "      <th>Acusado</th>\n",
       "      <th>Coordenada</th>\n",
       "      <th>Barrios</th>\n",
       "      <th>Día semana</th>\n",
       "    </tr>\n",
       "  </thead>\n",
       "  <tbody>\n",
       "    <tr>\n",
       "      <th>356</th>\n",
       "      <td>2018-0082</td>\n",
       "      <td>1</td>\n",
       "      <td>2018-08-01</td>\n",
       "      <td>2018</td>\n",
       "      <td>8</td>\n",
       "      <td>1</td>\n",
       "      <td>15:53:00</td>\n",
       "      <td>15</td>\n",
       "      <td>Larrazabal y Garzon, Eugenio, Gral. Av.</td>\n",
       "      <td>AVENIDA</td>\n",
       "      <td>...</td>\n",
       "      <td>COMUNA 9</td>\n",
       "      <td>Point (97148.03881747 96734.79106149)</td>\n",
       "      <td>-58.494413</td>\n",
       "      <td>-34.658700</td>\n",
       "      <td>MOTO-CARGAS</td>\n",
       "      <td>MOTO</td>\n",
       "      <td>CARGAS</td>\n",
       "      <td>-58.49441273,-34.65869968</td>\n",
       "      <td>LINIERS - MATADEROS - PARQUE AVELLANEDA</td>\n",
       "      <td>Miercoles</td>\n",
       "    </tr>\n",
       "    <tr>\n",
       "      <th>226</th>\n",
       "      <td>2017-0102</td>\n",
       "      <td>1</td>\n",
       "      <td>2017-08-24</td>\n",
       "      <td>2017</td>\n",
       "      <td>8</td>\n",
       "      <td>24</td>\n",
       "      <td>01:10:00</td>\n",
       "      <td>1</td>\n",
       "      <td>IRIARTE Y ZAVALETA</td>\n",
       "      <td>AVENIDA</td>\n",
       "      <td>...</td>\n",
       "      <td>COMUNA 4</td>\n",
       "      <td>Point (105750.92237188 97579.79677541)</td>\n",
       "      <td>-58.400568</td>\n",
       "      <td>-34.651071</td>\n",
       "      <td>PEATON-CARGAS</td>\n",
       "      <td>PEATON</td>\n",
       "      <td>CARGAS</td>\n",
       "      <td>-58.40056767,-34.6510708</td>\n",
       "      <td>BARRACAS - BOCA - NUEVA POMPEYA - PARQUE PATRI...</td>\n",
       "      <td>Jueves</td>\n",
       "    </tr>\n",
       "    <tr>\n",
       "      <th>621</th>\n",
       "      <td>2021-0023</td>\n",
       "      <td>1</td>\n",
       "      <td>2021-03-01</td>\n",
       "      <td>2021</td>\n",
       "      <td>3</td>\n",
       "      <td>1</td>\n",
       "      <td>09:20:00</td>\n",
       "      <td>9</td>\n",
       "      <td>AU BUENOS AIRES LA PLATA  KM 4,5</td>\n",
       "      <td>AUTOPISTA</td>\n",
       "      <td>...</td>\n",
       "      <td>COMUNA 4</td>\n",
       "      <td>Point (. .)</td>\n",
       "      <td>0.000000</td>\n",
       "      <td>0.000000</td>\n",
       "      <td>MOTO-CARGAS</td>\n",
       "      <td>MOTO</td>\n",
       "      <td>CARGAS</td>\n",
       "      <td>0.0,0.0</td>\n",
       "      <td>BARRACAS - BOCA - NUEVA POMPEYA - PARQUE PATRI...</td>\n",
       "      <td>Lunes</td>\n",
       "    </tr>\n",
       "  </tbody>\n",
       "</table>\n",
       "<p>3 rows × 23 columns</p>\n",
       "</div>"
      ],
      "text/plain": [
       "            ID  Num víctimas      Fecha   Año  Mes  Día Hora completa  Hora  \\\n",
       "356  2018-0082             1 2018-08-01  2018    8    1      15:53:00    15   \n",
       "226  2017-0102             1 2017-08-24  2017    8   24      01:10:00     1   \n",
       "621  2021-0023             1 2021-03-01  2021    3    1      09:20:00     9   \n",
       "\n",
       "                             Lugar del hecho Tipo de calle  ...    Comuna  \\\n",
       "356  Larrazabal y Garzon, Eugenio, Gral. Av.       AVENIDA  ...  COMUNA 9   \n",
       "226                       IRIARTE Y ZAVALETA       AVENIDA  ...  COMUNA 4   \n",
       "621         AU BUENOS AIRES LA PLATA  KM 4,5     AUTOPISTA  ...  COMUNA 4   \n",
       "\n",
       "                                  Xy (caba)      Pos x      Pos y  \\\n",
       "356   Point (97148.03881747 96734.79106149) -58.494413 -34.658700   \n",
       "226  Point (105750.92237188 97579.79677541) -58.400568 -34.651071   \n",
       "621                             Point (. .)   0.000000   0.000000   \n",
       "\n",
       "     Participantes  Victima  Acusado                 Coordenada  \\\n",
       "356    MOTO-CARGAS     MOTO   CARGAS  -58.49441273,-34.65869968   \n",
       "226  PEATON-CARGAS   PEATON   CARGAS   -58.40056767,-34.6510708   \n",
       "621    MOTO-CARGAS     MOTO   CARGAS                    0.0,0.0   \n",
       "\n",
       "                                               Barrios Día semana  \n",
       "356            LINIERS - MATADEROS - PARQUE AVELLANEDA  Miercoles  \n",
       "226  BARRACAS - BOCA - NUEVA POMPEYA - PARQUE PATRI...     Jueves  \n",
       "621  BARRACAS - BOCA - NUEVA POMPEYA - PARQUE PATRI...      Lunes  \n",
       "\n",
       "[3 rows x 23 columns]"
      ]
     },
     "execution_count": 24,
     "metadata": {},
     "output_type": "execute_result"
    }
   ],
   "source": [
    "# Diccionario para asignar en español los nombres de los dás de la semana \n",
    "dic={  'Friday':'Viernes',\n",
    "       'Saturday': 'Sabado',\n",
    "       'Sunday': 'Domingo',  \n",
    "       'Thursday': 'Jueves',\n",
    "        'Monday': 'Lunes',\n",
    "        'Wednesday': 'Miercoles',\n",
    "       'Tuesday': 'Martes'}\n",
    "\n",
    "# Aplicamos el cambio\n",
    "homicidios_hechos['Día semana'] =homicidios_hechos['Día semana'].replace(dic)\n",
    "\n",
    "# Mostramos dia\n",
    "homicidios_hechos.sample(3)"
   ]
  },
  {
   "cell_type": "markdown",
   "metadata": {},
   "source": [
    "___"
   ]
  },
  {
   "cell_type": "markdown",
   "metadata": {},
   "source": [
    "## 🔁 TRANSFORM Dataset homicidios-victimas"
   ]
  },
  {
   "cell_type": "code",
   "execution_count": 25,
   "metadata": {},
   "outputs": [
    {
     "name": "stdout",
     "output_type": "stream",
     "text": [
      "Veamos 3 muestras del Dataset: \n"
     ]
    },
    {
     "data": {
      "text/html": [
       "<div>\n",
       "<style scoped>\n",
       "    .dataframe tbody tr th:only-of-type {\n",
       "        vertical-align: middle;\n",
       "    }\n",
       "\n",
       "    .dataframe tbody tr th {\n",
       "        vertical-align: top;\n",
       "    }\n",
       "\n",
       "    .dataframe thead th {\n",
       "        text-align: right;\n",
       "    }\n",
       "</style>\n",
       "<table border=\"1\" class=\"dataframe\">\n",
       "  <thead>\n",
       "    <tr style=\"text-align: right;\">\n",
       "      <th></th>\n",
       "      <th>ID_hecho</th>\n",
       "      <th>FECHA</th>\n",
       "      <th>AAAA</th>\n",
       "      <th>MM</th>\n",
       "      <th>DD</th>\n",
       "      <th>ROL</th>\n",
       "      <th>VICTIMA</th>\n",
       "      <th>SEXO</th>\n",
       "      <th>EDAD</th>\n",
       "      <th>FECHA_FALLECIMIENTO</th>\n",
       "    </tr>\n",
       "  </thead>\n",
       "  <tbody>\n",
       "    <tr>\n",
       "      <th>489</th>\n",
       "      <td>2019-0054</td>\n",
       "      <td>2019-06-20</td>\n",
       "      <td>2019</td>\n",
       "      <td>6</td>\n",
       "      <td>20</td>\n",
       "      <td>CONDUCTOR</td>\n",
       "      <td>MOTO</td>\n",
       "      <td>MASCULINO</td>\n",
       "      <td>21</td>\n",
       "      <td>2019-06-20 00:00:00</td>\n",
       "    </tr>\n",
       "    <tr>\n",
       "      <th>47</th>\n",
       "      <td>2016-0065</td>\n",
       "      <td>2016-05-20</td>\n",
       "      <td>2016</td>\n",
       "      <td>5</td>\n",
       "      <td>20</td>\n",
       "      <td>PEATON</td>\n",
       "      <td>PEATON</td>\n",
       "      <td>MASCULINO</td>\n",
       "      <td>20</td>\n",
       "      <td>2016-05-20 00:00:00</td>\n",
       "    </tr>\n",
       "    <tr>\n",
       "      <th>676</th>\n",
       "      <td>2021-0057</td>\n",
       "      <td>2021-07-10</td>\n",
       "      <td>2021</td>\n",
       "      <td>7</td>\n",
       "      <td>10</td>\n",
       "      <td>CONDUCTOR</td>\n",
       "      <td>AUTO</td>\n",
       "      <td>MASCULINO</td>\n",
       "      <td>46</td>\n",
       "      <td>2021-07-10 00:00:00</td>\n",
       "    </tr>\n",
       "  </tbody>\n",
       "</table>\n",
       "</div>"
      ],
      "text/plain": [
       "      ID_hecho      FECHA  AAAA  MM  DD        ROL VICTIMA       SEXO EDAD  \\\n",
       "489  2019-0054 2019-06-20  2019   6  20  CONDUCTOR    MOTO  MASCULINO   21   \n",
       "47   2016-0065 2016-05-20  2016   5  20     PEATON  PEATON  MASCULINO   20   \n",
       "676  2021-0057 2021-07-10  2021   7  10  CONDUCTOR    AUTO  MASCULINO   46   \n",
       "\n",
       "     FECHA_FALLECIMIENTO  \n",
       "489  2019-06-20 00:00:00  \n",
       "47   2016-05-20 00:00:00  \n",
       "676  2021-07-10 00:00:00  "
      ]
     },
     "execution_count": 25,
     "metadata": {},
     "output_type": "execute_result"
    }
   ],
   "source": [
    "print(\"Veamos 3 muestras del Dataset: \")\n",
    "homicidios_victimas.sample(3)"
   ]
  },
  {
   "cell_type": "markdown",
   "metadata": {},
   "source": [
    "Veamos la descripcion estadistica con .describe()\n"
   ]
  },
  {
   "cell_type": "code",
   "execution_count": 26,
   "metadata": {},
   "outputs": [
    {
     "data": {
      "text/html": [
       "<div>\n",
       "<style scoped>\n",
       "    .dataframe tbody tr th:only-of-type {\n",
       "        vertical-align: middle;\n",
       "    }\n",
       "\n",
       "    .dataframe tbody tr th {\n",
       "        vertical-align: top;\n",
       "    }\n",
       "\n",
       "    .dataframe thead th {\n",
       "        text-align: right;\n",
       "    }\n",
       "</style>\n",
       "<table border=\"1\" class=\"dataframe\">\n",
       "  <thead>\n",
       "    <tr style=\"text-align: right;\">\n",
       "      <th></th>\n",
       "      <th>FECHA</th>\n",
       "      <th>AAAA</th>\n",
       "      <th>MM</th>\n",
       "      <th>DD</th>\n",
       "    </tr>\n",
       "  </thead>\n",
       "  <tbody>\n",
       "    <tr>\n",
       "      <th>count</th>\n",
       "      <td>717</td>\n",
       "      <td>717.000000</td>\n",
       "      <td>717.000000</td>\n",
       "      <td>717.000000</td>\n",
       "    </tr>\n",
       "    <tr>\n",
       "      <th>mean</th>\n",
       "      <td>2018-09-09 01:36:24.100418304</td>\n",
       "      <td>2018.174338</td>\n",
       "      <td>6.688982</td>\n",
       "      <td>15.960948</td>\n",
       "    </tr>\n",
       "    <tr>\n",
       "      <th>min</th>\n",
       "      <td>2016-01-01 00:00:00</td>\n",
       "      <td>2016.000000</td>\n",
       "      <td>1.000000</td>\n",
       "      <td>1.000000</td>\n",
       "    </tr>\n",
       "    <tr>\n",
       "      <th>25%</th>\n",
       "      <td>2017-04-01 00:00:00</td>\n",
       "      <td>2017.000000</td>\n",
       "      <td>4.000000</td>\n",
       "      <td>9.000000</td>\n",
       "    </tr>\n",
       "    <tr>\n",
       "      <th>50%</th>\n",
       "      <td>2018-07-07 00:00:00</td>\n",
       "      <td>2018.000000</td>\n",
       "      <td>7.000000</td>\n",
       "      <td>16.000000</td>\n",
       "    </tr>\n",
       "    <tr>\n",
       "      <th>75%</th>\n",
       "      <td>2019-12-18 00:00:00</td>\n",
       "      <td>2019.000000</td>\n",
       "      <td>10.000000</td>\n",
       "      <td>23.000000</td>\n",
       "    </tr>\n",
       "    <tr>\n",
       "      <th>max</th>\n",
       "      <td>2021-12-30 00:00:00</td>\n",
       "      <td>2021.000000</td>\n",
       "      <td>12.000000</td>\n",
       "      <td>31.000000</td>\n",
       "    </tr>\n",
       "    <tr>\n",
       "      <th>std</th>\n",
       "      <td>NaN</td>\n",
       "      <td>1.672655</td>\n",
       "      <td>3.575140</td>\n",
       "      <td>8.683358</td>\n",
       "    </tr>\n",
       "  </tbody>\n",
       "</table>\n",
       "</div>"
      ],
      "text/plain": [
       "                               FECHA         AAAA          MM          DD\n",
       "count                            717   717.000000  717.000000  717.000000\n",
       "mean   2018-09-09 01:36:24.100418304  2018.174338    6.688982   15.960948\n",
       "min              2016-01-01 00:00:00  2016.000000    1.000000    1.000000\n",
       "25%              2017-04-01 00:00:00  2017.000000    4.000000    9.000000\n",
       "50%              2018-07-07 00:00:00  2018.000000    7.000000   16.000000\n",
       "75%              2019-12-18 00:00:00  2019.000000   10.000000   23.000000\n",
       "max              2021-12-30 00:00:00  2021.000000   12.000000   31.000000\n",
       "std                              NaN     1.672655    3.575140    8.683358"
      ]
     },
     "execution_count": 26,
     "metadata": {},
     "output_type": "execute_result"
    }
   ],
   "source": [
    "homicidios_victimas.describe()"
   ]
  },
  {
   "cell_type": "markdown",
   "metadata": {},
   "source": [
    "### Usando una funcion personalizada data_type_check importada desde data_utils.py: \n",
    "\n",
    "- mostramos total de nulos, tipo de datos, dimensiones."
   ]
  },
  {
   "cell_type": "code",
   "execution_count": 27,
   "metadata": {},
   "outputs": [
    {
     "name": "stdout",
     "output_type": "stream",
     "text": [
      "\n",
      "========================================\n",
      " Resumen del dataframe:\n",
      "\n",
      "========================================\n",
      "Dimensiones:  (717, 10)\n",
      "               columna  %_no_nulos  %_nulos  total_nulos       tipo_dato\n",
      "0             ID_hecho       100.0      0.0            0          object\n",
      "1                FECHA       100.0      0.0            0  datetime64[ns]\n",
      "2                 AAAA       100.0      0.0            0           int64\n",
      "3                   MM       100.0      0.0            0           int64\n",
      "4                   DD       100.0      0.0            0           int64\n",
      "5                  ROL       100.0      0.0            0          object\n",
      "6              VICTIMA       100.0      0.0            0          object\n",
      "7                 SEXO       100.0      0.0            0          object\n",
      "8                 EDAD       100.0      0.0            0          object\n",
      "9  FECHA_FALLECIMIENTO       100.0      0.0            0          object\n"
     ]
    }
   ],
   "source": [
    "data_type_check(homicidios_victimas)"
   ]
  },
  {
   "cell_type": "markdown",
   "metadata": {},
   "source": [
    "No encontramos datos nulos"
   ]
  },
  {
   "cell_type": "markdown",
   "metadata": {},
   "source": [
    "___"
   ]
  },
  {
   "cell_type": "markdown",
   "metadata": {},
   "source": [
    "### Cambiamos tipos de datos a las columnas FECHA_FALLECIMIENTO y EDAD"
   ]
  },
  {
   "cell_type": "code",
   "execution_count": 28,
   "metadata": {},
   "outputs": [
    {
     "data": {
      "text/plain": [
       "<IntegerArray>\n",
       "[19, 70, 30, 18, 29, 22, 16, 59, 65, 34, 41, 50, 38, 21, 52, 36, 20, 54,  0,\n",
       " 56, 24, 78, 79, 26, 57, 37, 58, 23, 60, 42, 53, 51, 40, 87, 76, 75, 35, 80,\n",
       " 43, 45, 67, 27, 55, 49, 81, 25, 33, 46, 83, 39, 28,  7, 48,  4, 82, 32, 17,\n",
       " 47, 61, 10, 95, 73, 84, 66, 85,  1, 15, 13, 77, 44, 31, 62, 74, 71, 11, 86,\n",
       " 69, 72, 12, 63, 92, 68, 91, 64,  5, 88]\n",
       "Length: 86, dtype: Int64"
      ]
     },
     "execution_count": 28,
     "metadata": {},
     "output_type": "execute_result"
    }
   ],
   "source": [
    "# Convertir la columna a tipo datetime\n",
    "homicidios_victimas[\"FECHA_FALLECIMIENTO\"] = pd.to_datetime(homicidios_victimas[\"FECHA_FALLECIMIENTO\"], format='%Y-%m-%d', errors='coerce')\n",
    "\n",
    "# Una vez convertida a datetime, mantén solo la fecha sin la hora\n",
    "homicidios_victimas[\"FECHA_FALLECIMIENTO\"] = homicidios_victimas[\"FECHA_FALLECIMIENTO\"].dt.date\n",
    "\n",
    "# Reemplazar las fechas con ceros por valores vacíos para facilitar su manipulación\n",
    "homicidios_victimas[\"FECHA_FALLECIMIENTO\"] = homicidios_victimas[\"FECHA_FALLECIMIENTO\"].replace(pd.NaT, \"\")\n",
    "\n",
    "# Convertir la columna de EDAD a numérico y luego a entero\n",
    "homicidios_victimas[\"EDAD\"] = pd.to_numeric(homicidios_victimas[\"EDAD\"], errors=\"coerce\")\n",
    "homicidios_victimas[\"EDAD\"] = homicidios_victimas[\"EDAD\"].astype(\"Int64\")\n",
    "\n",
    "# Utilizar Numpy para reemplazar los valores vacíos o sin datos por NaN y luego convertir a float para evitar errores en las estadísticas\n",
    "homicidios_victimas[\"EDAD\"] = homicidios_victimas[\"EDAD\"].replace([\" \", \"SD\"], np.nan)\n",
    "homicidios_victimas[\"EDAD\"] = homicidios_victimas[\"EDAD\"].fillna(0.0)\n",
    "\n",
    "# Verificar los datos de la columna\n",
    "homicidios_victimas[\"EDAD\"].unique()"
   ]
  },
  {
   "cell_type": "markdown",
   "metadata": {},
   "source": [
    "### Se crea la columna 'Rango etario' basada en la columna 'Edad' para mejorar el análisis de los datos\n"
   ]
  },
  {
   "cell_type": "code",
   "execution_count": 29,
   "metadata": {},
   "outputs": [
    {
     "data": {
      "text/html": [
       "<div>\n",
       "<style scoped>\n",
       "    .dataframe tbody tr th:only-of-type {\n",
       "        vertical-align: middle;\n",
       "    }\n",
       "\n",
       "    .dataframe tbody tr th {\n",
       "        vertical-align: top;\n",
       "    }\n",
       "\n",
       "    .dataframe thead th {\n",
       "        text-align: right;\n",
       "    }\n",
       "</style>\n",
       "<table border=\"1\" class=\"dataframe\">\n",
       "  <thead>\n",
       "    <tr style=\"text-align: right;\">\n",
       "      <th></th>\n",
       "      <th>ID_hecho</th>\n",
       "      <th>FECHA</th>\n",
       "      <th>AAAA</th>\n",
       "      <th>MM</th>\n",
       "      <th>DD</th>\n",
       "      <th>ROL</th>\n",
       "      <th>VICTIMA</th>\n",
       "      <th>SEXO</th>\n",
       "      <th>EDAD</th>\n",
       "      <th>FECHA_FALLECIMIENTO</th>\n",
       "      <th>Rango etario</th>\n",
       "    </tr>\n",
       "  </thead>\n",
       "  <tbody>\n",
       "    <tr>\n",
       "      <th>405</th>\n",
       "      <td>2018-0115</td>\n",
       "      <td>2018-10-31</td>\n",
       "      <td>2018</td>\n",
       "      <td>10</td>\n",
       "      <td>31</td>\n",
       "      <td>PEATON</td>\n",
       "      <td>PEATON</td>\n",
       "      <td>MASCULINO</td>\n",
       "      <td>42</td>\n",
       "      <td>2018-11-01</td>\n",
       "      <td>Entre 41 y 60</td>\n",
       "    </tr>\n",
       "    <tr>\n",
       "      <th>385</th>\n",
       "      <td>2018-0096</td>\n",
       "      <td>2018-08-31</td>\n",
       "      <td>2018</td>\n",
       "      <td>8</td>\n",
       "      <td>31</td>\n",
       "      <td>PEATON</td>\n",
       "      <td>PEATON</td>\n",
       "      <td>MASCULINO</td>\n",
       "      <td>39</td>\n",
       "      <td>2018-08-31</td>\n",
       "      <td>Entre 21 y 40</td>\n",
       "    </tr>\n",
       "    <tr>\n",
       "      <th>308</th>\n",
       "      <td>2018-0022</td>\n",
       "      <td>2018-02-24</td>\n",
       "      <td>2018</td>\n",
       "      <td>2</td>\n",
       "      <td>24</td>\n",
       "      <td>CONDUCTOR</td>\n",
       "      <td>MOTO</td>\n",
       "      <td>MASCULINO</td>\n",
       "      <td>28</td>\n",
       "      <td>2018-02-24</td>\n",
       "      <td>Entre 21 y 40</td>\n",
       "    </tr>\n",
       "  </tbody>\n",
       "</table>\n",
       "</div>"
      ],
      "text/plain": [
       "      ID_hecho      FECHA  AAAA  MM  DD        ROL VICTIMA       SEXO  EDAD  \\\n",
       "405  2018-0115 2018-10-31  2018  10  31     PEATON  PEATON  MASCULINO    42   \n",
       "385  2018-0096 2018-08-31  2018   8  31     PEATON  PEATON  MASCULINO    39   \n",
       "308  2018-0022 2018-02-24  2018   2  24  CONDUCTOR    MOTO  MASCULINO    28   \n",
       "\n",
       "    FECHA_FALLECIMIENTO   Rango etario  \n",
       "405          2018-11-01  Entre 41 y 60  \n",
       "385          2018-08-31  Entre 21 y 40  \n",
       "308          2018-02-24  Entre 21 y 40  "
      ]
     },
     "execution_count": 29,
     "metadata": {},
     "output_type": "execute_result"
    }
   ],
   "source": [
    "\n",
    "# Utilizamos la función `pd.cut()`, que permite agrupar valores numéricos en intervalos o categorías\n",
    "\n",
    "# Definimos los límites de los rangos etarios y las etiquetas correspondientes\n",
    "rangos_edades = [0, 20, 40, 60, 80, 100]\n",
    "etiquetas_edades = ['Menos de 20', 'Entre 21 y 40', 'Entre 41 y 60', 'Entre 61 y 80', 'Más de 80']\n",
    "\n",
    "# Utilizamos pd.cut() para crear la columna de rango etario\n",
    "homicidios_victimas['Rango etario'] = pd.cut(homicidios_victimas['EDAD'], bins=rangos_edades, labels=etiquetas_edades, right=False)\n",
    "\n",
    "# Mostramos las primeras 3 filas del DataFrame\n",
    "homicidios_victimas.sample(3)\n"
   ]
  },
  {
   "cell_type": "markdown",
   "metadata": {},
   "source": [
    "Estandarizamos mayusculas y minusculas"
   ]
  },
  {
   "cell_type": "code",
   "execution_count": 30,
   "metadata": {},
   "outputs": [
    {
     "data": {
      "text/plain": [
       "Index(['ID', 'Fecha', 'Año', 'Mes', 'Día', 'Rol', 'Víctima', 'Sexo', 'Edad',\n",
       "       'Fecha fallecimiento', 'Rango etario'],\n",
       "      dtype='object')"
      ]
     },
     "execution_count": 30,
     "metadata": {},
     "output_type": "execute_result"
    }
   ],
   "source": [
    "# Se coloca la primera en mayúscula\n",
    "homicidios_victimas.columns = [x.capitalize() for x in homicidios_victimas.columns]\n",
    "# Se reemplazan los guiones por espacios\n",
    "homicidios_victimas.columns = homicidios_victimas.columns.str.replace('_', ' ')\n",
    "# Se renombran algunas columnas\n",
    "homicidios_victimas = homicidios_victimas.rename(columns={'Id hecho': 'ID',\n",
    "                                                      'Aaaa':'Año',\n",
    "                                                      'Mm':'Mes',\n",
    "                                                      'Dd':'Día',\n",
    "                                                      'Victima':'Víctima'})\n",
    "homicidios_victimas.columns"
   ]
  },
  {
   "cell_type": "markdown",
   "metadata": {},
   "source": [
    "___"
   ]
  },
  {
   "cell_type": "markdown",
   "metadata": {},
   "source": [
    "Encontramos similitud en las columnas de ambos dataset, vamos a buscar el mismo id de ejemplo para notarlo mejor.\n"
   ]
  },
  {
   "cell_type": "code",
   "execution_count": 31,
   "metadata": {},
   "outputs": [
    {
     "data": {
      "text/html": [
       "<div>\n",
       "<style scoped>\n",
       "    .dataframe tbody tr th:only-of-type {\n",
       "        vertical-align: middle;\n",
       "    }\n",
       "\n",
       "    .dataframe tbody tr th {\n",
       "        vertical-align: top;\n",
       "    }\n",
       "\n",
       "    .dataframe thead th {\n",
       "        text-align: right;\n",
       "    }\n",
       "</style>\n",
       "<table border=\"1\" class=\"dataframe\">\n",
       "  <thead>\n",
       "    <tr style=\"text-align: right;\">\n",
       "      <th></th>\n",
       "      <th>ID</th>\n",
       "      <th>Num víctimas</th>\n",
       "      <th>Fecha</th>\n",
       "      <th>Año</th>\n",
       "      <th>Mes</th>\n",
       "      <th>Día</th>\n",
       "      <th>Hora completa</th>\n",
       "      <th>Hora</th>\n",
       "      <th>Lugar del hecho</th>\n",
       "      <th>Tipo de calle</th>\n",
       "      <th>...</th>\n",
       "      <th>Comuna</th>\n",
       "      <th>Xy (caba)</th>\n",
       "      <th>Pos x</th>\n",
       "      <th>Pos y</th>\n",
       "      <th>Participantes</th>\n",
       "      <th>Victima</th>\n",
       "      <th>Acusado</th>\n",
       "      <th>Coordenada</th>\n",
       "      <th>Barrios</th>\n",
       "      <th>Día semana</th>\n",
       "    </tr>\n",
       "  </thead>\n",
       "  <tbody>\n",
       "    <tr>\n",
       "      <th>275</th>\n",
       "      <td>2018-0001</td>\n",
       "      <td>1</td>\n",
       "      <td>2018-01-01</td>\n",
       "      <td>2018</td>\n",
       "      <td>1</td>\n",
       "      <td>1</td>\n",
       "      <td>22:50:00</td>\n",
       "      <td>22</td>\n",
       "      <td>San Juan Av. Y Rincón</td>\n",
       "      <td>AVENIDA</td>\n",
       "      <td>...</td>\n",
       "      <td>COMUNA 3</td>\n",
       "      <td>Point (106229.70400707 100696.43939679)</td>\n",
       "      <td>-58.395368</td>\n",
       "      <td>-34.622973</td>\n",
       "      <td>PEATON-MOTO</td>\n",
       "      <td>PEATON</td>\n",
       "      <td>MOTO</td>\n",
       "      <td>-58.39536773,-34.62297346</td>\n",
       "      <td>BALVANERA - SAN CRISTOBAL</td>\n",
       "      <td>Lunes</td>\n",
       "    </tr>\n",
       "  </tbody>\n",
       "</table>\n",
       "<p>1 rows × 23 columns</p>\n",
       "</div>"
      ],
      "text/plain": [
       "            ID  Num víctimas      Fecha   Año  Mes  Día Hora completa  Hora  \\\n",
       "275  2018-0001             1 2018-01-01  2018    1    1      22:50:00    22   \n",
       "\n",
       "           Lugar del hecho Tipo de calle  ...    Comuna  \\\n",
       "275  San Juan Av. Y Rincón       AVENIDA  ...  COMUNA 3   \n",
       "\n",
       "                                   Xy (caba)      Pos x      Pos y  \\\n",
       "275  Point (106229.70400707 100696.43939679) -58.395368 -34.622973   \n",
       "\n",
       "    Participantes  Victima  Acusado                 Coordenada  \\\n",
       "275   PEATON-MOTO   PEATON     MOTO  -58.39536773,-34.62297346   \n",
       "\n",
       "                       Barrios Día semana  \n",
       "275  BALVANERA - SAN CRISTOBAL      Lunes  \n",
       "\n",
       "[1 rows x 23 columns]"
      ]
     },
     "execution_count": 31,
     "metadata": {},
     "output_type": "execute_result"
    }
   ],
   "source": [
    "#Se busca un registro para comparar con el mismo registro en el otro dataset\n",
    "homicidios_hechos[homicidios_hechos[\"ID\"]==\"2018-0001\"]"
   ]
  },
  {
   "cell_type": "code",
   "execution_count": 32,
   "metadata": {},
   "outputs": [
    {
     "data": {
      "text/html": [
       "<div>\n",
       "<style scoped>\n",
       "    .dataframe tbody tr th:only-of-type {\n",
       "        vertical-align: middle;\n",
       "    }\n",
       "\n",
       "    .dataframe tbody tr th {\n",
       "        vertical-align: top;\n",
       "    }\n",
       "\n",
       "    .dataframe thead th {\n",
       "        text-align: right;\n",
       "    }\n",
       "</style>\n",
       "<table border=\"1\" class=\"dataframe\">\n",
       "  <thead>\n",
       "    <tr style=\"text-align: right;\">\n",
       "      <th></th>\n",
       "      <th>ID</th>\n",
       "      <th>Fecha</th>\n",
       "      <th>Año</th>\n",
       "      <th>Mes</th>\n",
       "      <th>Día</th>\n",
       "      <th>Rol</th>\n",
       "      <th>Víctima</th>\n",
       "      <th>Sexo</th>\n",
       "      <th>Edad</th>\n",
       "      <th>Fecha fallecimiento</th>\n",
       "      <th>Rango etario</th>\n",
       "    </tr>\n",
       "  </thead>\n",
       "  <tbody>\n",
       "    <tr>\n",
       "      <th>286</th>\n",
       "      <td>2018-0001</td>\n",
       "      <td>2018-01-01</td>\n",
       "      <td>2018</td>\n",
       "      <td>1</td>\n",
       "      <td>1</td>\n",
       "      <td>PEATON</td>\n",
       "      <td>PEATON</td>\n",
       "      <td>MASCULINO</td>\n",
       "      <td>83</td>\n",
       "      <td>2018-01-02</td>\n",
       "      <td>Más de 80</td>\n",
       "    </tr>\n",
       "  </tbody>\n",
       "</table>\n",
       "</div>"
      ],
      "text/plain": [
       "            ID      Fecha   Año  Mes  Día     Rol Víctima       Sexo  Edad  \\\n",
       "286  2018-0001 2018-01-01  2018    1    1  PEATON  PEATON  MASCULINO    83   \n",
       "\n",
       "    Fecha fallecimiento Rango etario  \n",
       "286          2018-01-02    Más de 80  "
      ]
     },
     "execution_count": 32,
     "metadata": {},
     "output_type": "execute_result"
    }
   ],
   "source": [
    "homicidios_victimas[homicidios_victimas[\"ID\"]==\"2018-0001\"]"
   ]
  },
  {
   "cell_type": "markdown",
   "metadata": {},
   "source": [
    "Vemos que se repite Fecha, año, mes, dia, victima. "
   ]
  },
  {
   "cell_type": "code",
   "execution_count": 33,
   "metadata": {},
   "outputs": [
    {
     "data": {
      "text/plain": [
       "Index(['ID', 'Rol', 'Sexo', 'Edad', 'Fecha fallecimiento', 'Rango etario'], dtype='object')"
      ]
     },
     "execution_count": 33,
     "metadata": {},
     "output_type": "execute_result"
    }
   ],
   "source": [
    "# Eliminamos la scolumnas repetidas\n",
    "homicidios_victimas = homicidios_victimas.drop(['Fecha', 'Año', 'Mes', 'Día', 'Víctima'], axis=1)\n",
    "homicidios_victimas.columns"
   ]
  },
  {
   "cell_type": "markdown",
   "metadata": {},
   "source": [
    "___"
   ]
  },
  {
   "cell_type": "markdown",
   "metadata": {},
   "source": [
    "# Unimos los dataset usando merge"
   ]
  },
  {
   "cell_type": "code",
   "execution_count": 34,
   "metadata": {},
   "outputs": [
    {
     "data": {
      "text/plain": [
       "Index(['ID', 'Rol', 'Sexo', 'Edad', 'Fecha fallecimiento', 'Rango etario',\n",
       "       'Num víctimas', 'Fecha', 'Año', 'Mes', 'Día', 'Hora completa', 'Hora',\n",
       "       'Lugar del hecho', 'Tipo de calle', 'Calle', 'Cruce',\n",
       "       'Dirección normalizada', 'Comuna', 'Xy (caba)', 'Pos x', 'Pos y',\n",
       "       'Participantes', 'Victima', 'Acusado', 'Coordenada', 'Barrios',\n",
       "       'Día semana'],\n",
       "      dtype='object')"
      ]
     },
     "execution_count": 34,
     "metadata": {},
     "output_type": "execute_result"
    }
   ],
   "source": [
    "siniestro_vial= homicidios_victimas.merge(homicidios_hechos, on=\"ID\", how=\"left\")\n",
    "siniestro_vial.columns"
   ]
  },
  {
   "cell_type": "code",
   "execution_count": 35,
   "metadata": {},
   "outputs": [
    {
     "name": "stdout",
     "output_type": "stream",
     "text": [
      "\n",
      "========================================\n",
      " Resumen del dataframe:\n",
      "\n",
      "========================================\n",
      "Dimensiones:  (717, 28)\n",
      "                  columna  %_no_nulos  %_nulos  total_nulos       tipo_dato\n",
      "0                      ID      100.00     0.00            0          object\n",
      "1                     Rol      100.00     0.00            0          object\n",
      "2                    Sexo      100.00     0.00            0          object\n",
      "3                    Edad      100.00     0.00            0           Int64\n",
      "4     Fecha fallecimiento      100.00     0.00            0          object\n",
      "5            Rango etario      100.00     0.00            0        category\n",
      "6            Num víctimas      100.00     0.00            0           int64\n",
      "7                   Fecha      100.00     0.00            0  datetime64[ns]\n",
      "8                     Año      100.00     0.00            0           int64\n",
      "9                     Mes      100.00     0.00            0           int64\n",
      "10                    Día      100.00     0.00            0           int64\n",
      "11          Hora completa      100.00     0.00            0          object\n",
      "12                   Hora       99.86     0.14            1           Int64\n",
      "13        Lugar del hecho      100.00     0.00            0          object\n",
      "14          Tipo de calle      100.00     0.00            0          object\n",
      "15                  Calle       99.86     0.14            1          object\n",
      "16                  Cruce       75.31    24.69          177          object\n",
      "17  Dirección normalizada       98.74     1.26            9          object\n",
      "18                 Comuna      100.00     0.00            0          object\n",
      "19              Xy (caba)      100.00     0.00            0          object\n",
      "20                  Pos x      100.00     0.00            0         float64\n",
      "21                  Pos y      100.00     0.00            0         float64\n",
      "22          Participantes      100.00     0.00            0          object\n",
      "23                Victima      100.00     0.00            0          object\n",
      "24                Acusado      100.00     0.00            0          object\n",
      "25             Coordenada      100.00     0.00            0          object\n",
      "26                Barrios       99.72     0.28            2          object\n",
      "27             Día semana      100.00     0.00            0          object\n"
     ]
    }
   ],
   "source": [
    "data_type_check(siniestro_vial)"
   ]
  },
  {
   "cell_type": "markdown",
   "metadata": {},
   "source": [
    "Encontramos algunos nulos para limpiar y cambiamos algunos tipos de datos"
   ]
  },
  {
   "cell_type": "code",
   "execution_count": 36,
   "metadata": {},
   "outputs": [],
   "source": [
    "siniestro_vial [\"Num víctimas\"] = siniestro_vial [\"Num víctimas\"].fillna(0.0)\n",
    "siniestro_vial [\"Num víctimas\"] = siniestro_vial [\"Num víctimas\"].astype (\"Int64\")\n",
    "\n",
    "siniestro_vial [\"Año\"]= siniestro_vial [\"Año\"].astype (\"Int64\")\n",
    "siniestro_vial [\"Mes\"]= siniestro_vial [\"Mes\"].astype (\"Int64\")\n",
    "siniestro_vial [\"Día\"]= siniestro_vial [\"Día\"].astype (\"Int64\")\n"
   ]
  },
  {
   "cell_type": "code",
   "execution_count": 37,
   "metadata": {},
   "outputs": [
    {
     "data": {
      "text/html": [
       "<div>\n",
       "<style scoped>\n",
       "    .dataframe tbody tr th:only-of-type {\n",
       "        vertical-align: middle;\n",
       "    }\n",
       "\n",
       "    .dataframe tbody tr th {\n",
       "        vertical-align: top;\n",
       "    }\n",
       "\n",
       "    .dataframe thead th {\n",
       "        text-align: right;\n",
       "    }\n",
       "</style>\n",
       "<table border=\"1\" class=\"dataframe\">\n",
       "  <thead>\n",
       "    <tr style=\"text-align: right;\">\n",
       "      <th></th>\n",
       "      <th>ID</th>\n",
       "      <th>Rol</th>\n",
       "      <th>Sexo</th>\n",
       "      <th>Edad</th>\n",
       "      <th>Fecha fallecimiento</th>\n",
       "      <th>Rango etario</th>\n",
       "      <th>Num víctimas</th>\n",
       "      <th>Fecha</th>\n",
       "      <th>Año</th>\n",
       "      <th>Mes</th>\n",
       "      <th>...</th>\n",
       "      <th>Comuna</th>\n",
       "      <th>Xy (caba)</th>\n",
       "      <th>Pos x</th>\n",
       "      <th>Pos y</th>\n",
       "      <th>Participantes</th>\n",
       "      <th>Victima</th>\n",
       "      <th>Acusado</th>\n",
       "      <th>Coordenada</th>\n",
       "      <th>Barrios</th>\n",
       "      <th>Día semana</th>\n",
       "    </tr>\n",
       "  </thead>\n",
       "  <tbody>\n",
       "    <tr>\n",
       "      <th>463</th>\n",
       "      <td>2019-0028</td>\n",
       "      <td>PEATON</td>\n",
       "      <td>FEMENINO</td>\n",
       "      <td>0</td>\n",
       "      <td>2019-04-06</td>\n",
       "      <td>Menos de 20</td>\n",
       "      <td>1</td>\n",
       "      <td>2019-04-06</td>\n",
       "      <td>2019</td>\n",
       "      <td>4</td>\n",
       "      <td>...</td>\n",
       "      <td>COMUNA 11</td>\n",
       "      <td>Point (100255.56175905 102594.14179920)</td>\n",
       "      <td>-58.460513</td>\n",
       "      <td>-34.605885</td>\n",
       "      <td>PEATON-PASAJEROS</td>\n",
       "      <td>PEATON</td>\n",
       "      <td>PASAJEROS</td>\n",
       "      <td>-58.46051346,-34.60588536</td>\n",
       "      <td>VILLA DEL PARQUE - VILLA  DEVOTO - VILLA GRAL....</td>\n",
       "      <td>Sabado</td>\n",
       "    </tr>\n",
       "    <tr>\n",
       "      <th>214</th>\n",
       "      <td>2017-0082</td>\n",
       "      <td>PEATON</td>\n",
       "      <td>MASCULINO</td>\n",
       "      <td>36</td>\n",
       "      <td>2017-06-25</td>\n",
       "      <td>Entre 21 y 40</td>\n",
       "      <td>1</td>\n",
       "      <td>2017-06-25</td>\n",
       "      <td>2017</td>\n",
       "      <td>6</td>\n",
       "      <td>...</td>\n",
       "      <td>COMUNA 4</td>\n",
       "      <td>Point (106636.30041967 99991.34072603)</td>\n",
       "      <td>-58.390929</td>\n",
       "      <td>-34.629327</td>\n",
       "      <td>PEATON-AUTO</td>\n",
       "      <td>PEATON</td>\n",
       "      <td>AUTO</td>\n",
       "      <td>-58.39092851,-34.62932696</td>\n",
       "      <td>BARRACAS - BOCA - NUEVA POMPEYA - PARQUE PATRI...</td>\n",
       "      <td>Domingo</td>\n",
       "    </tr>\n",
       "  </tbody>\n",
       "</table>\n",
       "<p>2 rows × 28 columns</p>\n",
       "</div>"
      ],
      "text/plain": [
       "            ID     Rol       Sexo  Edad Fecha fallecimiento   Rango etario  \\\n",
       "463  2019-0028  PEATON   FEMENINO     0          2019-04-06    Menos de 20   \n",
       "214  2017-0082  PEATON  MASCULINO    36          2017-06-25  Entre 21 y 40   \n",
       "\n",
       "     Num víctimas      Fecha   Año  Mes  ...     Comuna  \\\n",
       "463             1 2019-04-06  2019    4  ...  COMUNA 11   \n",
       "214             1 2017-06-25  2017    6  ...   COMUNA 4   \n",
       "\n",
       "                                   Xy (caba)      Pos x      Pos y  \\\n",
       "463  Point (100255.56175905 102594.14179920) -58.460513 -34.605885   \n",
       "214   Point (106636.30041967 99991.34072603) -58.390929 -34.629327   \n",
       "\n",
       "        Participantes Victima    Acusado                 Coordenada  \\\n",
       "463  PEATON-PASAJEROS  PEATON  PASAJEROS  -58.46051346,-34.60588536   \n",
       "214       PEATON-AUTO  PEATON       AUTO  -58.39092851,-34.62932696   \n",
       "\n",
       "                                               Barrios Día semana  \n",
       "463  VILLA DEL PARQUE - VILLA  DEVOTO - VILLA GRAL....     Sabado  \n",
       "214  BARRACAS - BOCA - NUEVA POMPEYA - PARQUE PATRI...    Domingo  \n",
       "\n",
       "[2 rows x 28 columns]"
      ]
     },
     "execution_count": 37,
     "metadata": {},
     "output_type": "execute_result"
    }
   ],
   "source": [
    "siniestro_vial.sample(2)"
   ]
  },
  {
   "cell_type": "markdown",
   "metadata": {},
   "source": [
    "Ordenamos las columnas"
   ]
  },
  {
   "cell_type": "code",
   "execution_count": 38,
   "metadata": {},
   "outputs": [
    {
     "data": {
      "text/plain": [
       "Index(['ID', 'Rol', 'Acusado', 'Victima', 'Sexo', 'Edad', 'Rango etario',\n",
       "       'Año', 'Mes', 'Día', 'Día semana', 'Hora', 'Hora completa',\n",
       "       'Num víctimas', 'Participantes', 'Fecha fallecimiento',\n",
       "       'Lugar del hecho', 'Tipo de calle', 'Calle', 'Cruce',\n",
       "       'Dirección normalizada', 'Comuna', 'Barrios', 'Coordenada', 'Pos x',\n",
       "       'Pos y'],\n",
       "      dtype='object')"
      ]
     },
     "execution_count": 38,
     "metadata": {},
     "output_type": "execute_result"
    }
   ],
   "source": [
    "#Creo una lista con el orden \n",
    "ordenadas=[\"ID\", \"Rol\", \"Acusado\", \"Victima\", \"Sexo\", \"Edad\", \"Rango etario\", \"Año\", \"Mes\", \"Día\", \"Día semana\", \"Hora\", \"Hora completa\", \"Num víctimas\", \"Participantes\", \"Fecha fallecimiento\", \"Lugar del hecho\", \"Tipo de calle\", \"Calle\", \"Cruce\", \"Dirección normalizada\", \"Comuna\", \"Barrios\", \"Coordenada\",\"Pos x\", \"Pos y\"]\n",
    "\n",
    "#Reorganizo el dataframe untilizando la lista y asignandola nuevamente aldataframe siniestros\n",
    "siniestro_listo = siniestro_vial[ordenadas]\n",
    "siniestro_listo.columns"
   ]
  },
  {
   "cell_type": "code",
   "execution_count": 39,
   "metadata": {},
   "outputs": [
    {
     "name": "stdout",
     "output_type": "stream",
     "text": [
      "\n",
      "========================================\n",
      " Resumen del dataframe:\n",
      "\n",
      "========================================\n",
      "Dimensiones:  (717, 26)\n",
      "                  columna  %_no_nulos  %_nulos  total_nulos tipo_dato\n",
      "0                      ID      100.00     0.00            0    object\n",
      "1                     Rol      100.00     0.00            0    object\n",
      "2                 Acusado      100.00     0.00            0    object\n",
      "3                 Victima      100.00     0.00            0    object\n",
      "4                    Sexo      100.00     0.00            0    object\n",
      "5                    Edad      100.00     0.00            0     Int64\n",
      "6            Rango etario      100.00     0.00            0  category\n",
      "7                     Año      100.00     0.00            0     Int64\n",
      "8                     Mes      100.00     0.00            0     Int64\n",
      "9                     Día      100.00     0.00            0     Int64\n",
      "10             Día semana      100.00     0.00            0    object\n",
      "11                   Hora       99.86     0.14            1     Int64\n",
      "12          Hora completa      100.00     0.00            0    object\n",
      "13           Num víctimas      100.00     0.00            0     Int64\n",
      "14          Participantes      100.00     0.00            0    object\n",
      "15    Fecha fallecimiento      100.00     0.00            0    object\n",
      "16        Lugar del hecho      100.00     0.00            0    object\n",
      "17          Tipo de calle      100.00     0.00            0    object\n",
      "18                  Calle       99.86     0.14            1    object\n",
      "19                  Cruce       75.31    24.69          177    object\n",
      "20  Dirección normalizada       98.74     1.26            9    object\n",
      "21                 Comuna      100.00     0.00            0    object\n",
      "22                Barrios       99.72     0.28            2    object\n",
      "23             Coordenada      100.00     0.00            0    object\n",
      "24                  Pos x      100.00     0.00            0   float64\n",
      "25                  Pos y      100.00     0.00            0   float64\n"
     ]
    }
   ],
   "source": [
    "data_type_check(siniestro_listo)"
   ]
  },
  {
   "cell_type": "markdown",
   "metadata": {},
   "source": [
    "Antes de guardar hacemos una limpieza de los datos faltantes:"
   ]
  },
  {
   "cell_type": "markdown",
   "metadata": {},
   "source": [
    "Eliminamos filas con valores faltantes para Acusado, Victima, Año, Mes Dia, Dia semana, Hora completa, Participantes, Lugar del hecho, Tipo de calle, Calle, Direccion normalizada, Comuna, Barrios, Coordenada x, Coordenada y, Pos x, Pos y.\n"
   ]
  },
  {
   "cell_type": "markdown",
   "metadata": {},
   "source": [
    "# LOAD (guardamos)"
   ]
  },
  {
   "cell_type": "markdown",
   "metadata": {},
   "source": [
    "Vemos como quedo nuestro ETL antes de guardar:"
   ]
  },
  {
   "cell_type": "code",
   "execution_count": 40,
   "metadata": {},
   "outputs": [
    {
     "name": "stdout",
     "output_type": "stream",
     "text": [
      "\n",
      "========================================\n",
      " Resumen del dataframe:\n",
      "\n",
      "========================================\n",
      "Dimensiones:  (717, 26)\n",
      "                  columna  %_no_nulos  %_nulos  total_nulos tipo_dato\n",
      "0                      ID      100.00     0.00            0    object\n",
      "1                     Rol      100.00     0.00            0    object\n",
      "2                 Acusado      100.00     0.00            0    object\n",
      "3                 Victima      100.00     0.00            0    object\n",
      "4                    Sexo      100.00     0.00            0    object\n",
      "5                    Edad      100.00     0.00            0     Int64\n",
      "6            Rango etario      100.00     0.00            0  category\n",
      "7                     Año      100.00     0.00            0     Int64\n",
      "8                     Mes      100.00     0.00            0     Int64\n",
      "9                     Día      100.00     0.00            0     Int64\n",
      "10             Día semana      100.00     0.00            0    object\n",
      "11                   Hora       99.86     0.14            1     Int64\n",
      "12          Hora completa      100.00     0.00            0    object\n",
      "13           Num víctimas      100.00     0.00            0     Int64\n",
      "14          Participantes      100.00     0.00            0    object\n",
      "15    Fecha fallecimiento      100.00     0.00            0    object\n",
      "16        Lugar del hecho      100.00     0.00            0    object\n",
      "17          Tipo de calle      100.00     0.00            0    object\n",
      "18                  Calle       99.86     0.14            1    object\n",
      "19                  Cruce       75.31    24.69          177    object\n",
      "20  Dirección normalizada       98.74     1.26            9    object\n",
      "21                 Comuna      100.00     0.00            0    object\n",
      "22                Barrios       99.72     0.28            2    object\n",
      "23             Coordenada      100.00     0.00            0    object\n",
      "24                  Pos x      100.00     0.00            0   float64\n",
      "25                  Pos y      100.00     0.00            0   float64\n"
     ]
    }
   ],
   "source": [
    "data_type_check(siniestro_listo)"
   ]
  },
  {
   "cell_type": "markdown",
   "metadata": {},
   "source": [
    "Guardamos en csv"
   ]
  },
  {
   "cell_type": "code",
   "execution_count": 41,
   "metadata": {},
   "outputs": [],
   "source": [
    "siniestro_listo.to_csv(\"../0 Dataset/siniestro_listo.csv\", index=False)"
   ]
  },
  {
   "cell_type": "markdown",
   "metadata": {},
   "source": [
    "___"
   ]
  },
  {
   "cell_type": "markdown",
   "metadata": {},
   "source": [
    "## Informacion de la poblacion para KPIS"
   ]
  },
  {
   "cell_type": "markdown",
   "metadata": {},
   "source": [
    "Opcional \n",
    "%pip install xlrd"
   ]
  },
  {
   "cell_type": "code",
   "execution_count": 42,
   "metadata": {},
   "outputs": [
    {
     "name": "stdout",
     "output_type": "stream",
     "text": [
      "<class 'pandas.core.frame.DataFrame'>\n",
      "RangeIndex: 16 entries, 0 to 15\n",
      "Data columns (total 17 columns):\n",
      " #   Column  Non-Null Count  Dtype \n",
      "---  ------  --------------  ----- \n",
      " 0   Comuna  16 non-null     object\n",
      " 1   2010    16 non-null     int64 \n",
      " 2   2011    16 non-null     int64 \n",
      " 3   2012    16 non-null     int64 \n",
      " 4   2013    16 non-null     int64 \n",
      " 5   2014    16 non-null     int64 \n",
      " 6   2015    16 non-null     int64 \n",
      " 7   2016    16 non-null     int64 \n",
      " 8   2017    16 non-null     int64 \n",
      " 9   2018    16 non-null     int64 \n",
      " 10  2019    16 non-null     int64 \n",
      " 11  2020    16 non-null     int64 \n",
      " 12  2021    16 non-null     int64 \n",
      " 13  2022    16 non-null     int64 \n",
      " 14  2023    16 non-null     int64 \n",
      " 15  2024    16 non-null     int64 \n",
      " 16  2025    16 non-null     int64 \n",
      "dtypes: int64(16), object(1)\n",
      "memory usage: 2.2+ KB\n"
     ]
    }
   ],
   "source": [
    "pobla = pd.read_excel(\"../0 Dataset/PBP_CO_1020.xls\", skiprows=2, nrows=16)\n",
    "pobla.info()"
   ]
  },
  {
   "cell_type": "code",
   "execution_count": 43,
   "metadata": {},
   "outputs": [
    {
     "name": "stdout",
     "output_type": "stream",
     "text": [
      "<class 'pandas.core.frame.DataFrame'>\n",
      "RangeIndex: 15 entries, 1 to 15\n",
      "Data columns (total 7 columns):\n",
      " #   Column  Non-Null Count  Dtype \n",
      "---  ------  --------------  ----- \n",
      " 0   COMUNA  15 non-null     object\n",
      " 1   2016    15 non-null     int64 \n",
      " 2   2017    15 non-null     int64 \n",
      " 3   2018    15 non-null     int64 \n",
      " 4   2019    15 non-null     int64 \n",
      " 5   2020    15 non-null     int64 \n",
      " 6   2021    15 non-null     int64 \n",
      "dtypes: int64(6), object(1)\n",
      "memory usage: 972.0+ bytes\n"
     ]
    }
   ],
   "source": [
    "pobla.drop(0, inplace=True)\n",
    "\n",
    "# Eliminar columnas que no nos sirven\n",
    "pobla = pobla.drop(columns=[2010, 2011,2012,2013,2014,2015,2022,2023,2024,2025])\n",
    "pobla.rename(columns={'Comuna':'COMUNA'}, inplace=True)\n",
    "pobla.info()"
   ]
  },
  {
   "cell_type": "code",
   "execution_count": 44,
   "metadata": {},
   "outputs": [],
   "source": [
    "pobla.to_csv('../0 Dataset/poblacion_limpia.csv', index=False)"
   ]
  },
  {
   "cell_type": "code",
   "execution_count": 45,
   "metadata": {},
   "outputs": [
    {
     "data": {
      "text/html": [
       "<div>\n",
       "<style scoped>\n",
       "    .dataframe tbody tr th:only-of-type {\n",
       "        vertical-align: middle;\n",
       "    }\n",
       "\n",
       "    .dataframe tbody tr th {\n",
       "        vertical-align: top;\n",
       "    }\n",
       "\n",
       "    .dataframe thead th {\n",
       "        text-align: right;\n",
       "    }\n",
       "</style>\n",
       "<table border=\"1\" class=\"dataframe\">\n",
       "  <thead>\n",
       "    <tr style=\"text-align: right;\">\n",
       "      <th></th>\n",
       "      <th>COMUNA</th>\n",
       "      <th>2016</th>\n",
       "      <th>2017</th>\n",
       "      <th>2018</th>\n",
       "      <th>2019</th>\n",
       "      <th>2020</th>\n",
       "      <th>2021</th>\n",
       "    </tr>\n",
       "  </thead>\n",
       "  <tbody>\n",
       "    <tr>\n",
       "      <th>13</th>\n",
       "      <td>13</td>\n",
       "      <td>235819</td>\n",
       "      <td>235967</td>\n",
       "      <td>236107</td>\n",
       "      <td>236238</td>\n",
       "      <td>236358</td>\n",
       "      <td>236468</td>\n",
       "    </tr>\n",
       "    <tr>\n",
       "      <th>5</th>\n",
       "      <td>5</td>\n",
       "      <td>186740</td>\n",
       "      <td>186956</td>\n",
       "      <td>187159</td>\n",
       "      <td>187348</td>\n",
       "      <td>187518</td>\n",
       "      <td>187670</td>\n",
       "    </tr>\n",
       "  </tbody>\n",
       "</table>\n",
       "</div>"
      ],
      "text/plain": [
       "   COMUNA    2016    2017    2018    2019    2020    2021\n",
       "13     13  235819  235967  236107  236238  236358  236468\n",
       "5       5  186740  186956  187159  187348  187518  187670"
      ]
     },
     "execution_count": 45,
     "metadata": {},
     "output_type": "execute_result"
    }
   ],
   "source": [
    "pobla.sample(2)"
   ]
  }
 ],
 "metadata": {
  "kernelspec": {
   "display_name": "Python 3",
   "language": "python",
   "name": "python3"
  },
  "language_info": {
   "codemirror_mode": {
    "name": "ipython",
    "version": 3
   },
   "file_extension": ".py",
   "mimetype": "text/x-python",
   "name": "python",
   "nbconvert_exporter": "python",
   "pygments_lexer": "ipython3",
   "version": "3.10.11"
  }
 },
 "nbformat": 4,
 "nbformat_minor": 2
}
